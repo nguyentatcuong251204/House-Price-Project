{
 "cells": [
  {
   "cell_type": "code",
   "execution_count": 1,
   "id": "9a8d1b41-3df7-464e-8d8b-1f1073af181c",
   "metadata": {},
   "outputs": [],
   "source": [
    "import pandas as pd\n",
    "import numpy as np\n",
    "import seaborn as sns\n",
    "import matplotlib.pyplot as plt\n",
    "from sklearn.model_selection import train_test_split\n",
    "from sklearn.linear_model import LinearRegression\n",
    "from sklearn.svm import SVR\n",
    "from sklearn.tree import DecisionTreeRegressor\n",
    "from sklearn.ensemble import RandomForestRegressor, StackingRegressor\n",
    "from sklearn.metrics import mean_absolute_error,root_mean_squared_error,r2_score"
   ]
  },
  {
   "cell_type": "code",
   "execution_count": 2,
   "id": "0f002323-d4d7-47ba-9381-c8a62e122517",
   "metadata": {},
   "outputs": [
    {
     "data": {
      "text/html": [
       "<div>\n",
       "<style scoped>\n",
       "    .dataframe tbody tr th:only-of-type {\n",
       "        vertical-align: middle;\n",
       "    }\n",
       "\n",
       "    .dataframe tbody tr th {\n",
       "        vertical-align: top;\n",
       "    }\n",
       "\n",
       "    .dataframe thead th {\n",
       "        text-align: right;\n",
       "    }\n",
       "</style>\n",
       "<table border=\"1\" class=\"dataframe\">\n",
       "  <thead>\n",
       "    <tr style=\"text-align: right;\">\n",
       "      <th></th>\n",
       "      <th>MSSubClass</th>\n",
       "      <th>LotFrontage</th>\n",
       "      <th>LotArea</th>\n",
       "      <th>OverallQual</th>\n",
       "      <th>OverallCond</th>\n",
       "      <th>YearBuilt</th>\n",
       "      <th>YearRemodAdd</th>\n",
       "      <th>MasVnrArea</th>\n",
       "      <th>BsmtFinSF1</th>\n",
       "      <th>BsmtFinSF2</th>\n",
       "      <th>...</th>\n",
       "      <th>SaleType_WD</th>\n",
       "      <th>SaleType_nan</th>\n",
       "      <th>SaleCondition_Abnorml</th>\n",
       "      <th>SaleCondition_AdjLand</th>\n",
       "      <th>SaleCondition_Alloca</th>\n",
       "      <th>SaleCondition_Family</th>\n",
       "      <th>SaleCondition_Normal</th>\n",
       "      <th>SaleCondition_Partial</th>\n",
       "      <th>SaleCondition_nan</th>\n",
       "      <th>SalePrice</th>\n",
       "    </tr>\n",
       "  </thead>\n",
       "  <tbody>\n",
       "    <tr>\n",
       "      <th>0</th>\n",
       "      <td>0.006206</td>\n",
       "      <td>0.006724</td>\n",
       "      <td>0.874061</td>\n",
       "      <td>0.000724</td>\n",
       "      <td>0.000517</td>\n",
       "      <td>0.207189</td>\n",
       "      <td>0.207189</td>\n",
       "      <td>0.020274</td>\n",
       "      <td>0.073028</td>\n",
       "      <td>0.0</td>\n",
       "      <td>...</td>\n",
       "      <td>0.000103</td>\n",
       "      <td>0</td>\n",
       "      <td>0.000000</td>\n",
       "      <td>0.0</td>\n",
       "      <td>0.0</td>\n",
       "      <td>0.0</td>\n",
       "      <td>0.000103</td>\n",
       "      <td>0.0</td>\n",
       "      <td>0</td>\n",
       "      <td>208500</td>\n",
       "    </tr>\n",
       "    <tr>\n",
       "      <th>1</th>\n",
       "      <td>0.001873</td>\n",
       "      <td>0.007492</td>\n",
       "      <td>0.899023</td>\n",
       "      <td>0.000562</td>\n",
       "      <td>0.000749</td>\n",
       "      <td>0.185049</td>\n",
       "      <td>0.185049</td>\n",
       "      <td>0.000000</td>\n",
       "      <td>0.091588</td>\n",
       "      <td>0.0</td>\n",
       "      <td>...</td>\n",
       "      <td>0.000094</td>\n",
       "      <td>0</td>\n",
       "      <td>0.000000</td>\n",
       "      <td>0.0</td>\n",
       "      <td>0.0</td>\n",
       "      <td>0.0</td>\n",
       "      <td>0.000094</td>\n",
       "      <td>0.0</td>\n",
       "      <td>0</td>\n",
       "      <td>181500</td>\n",
       "    </tr>\n",
       "    <tr>\n",
       "      <th>2</th>\n",
       "      <td>0.004914</td>\n",
       "      <td>0.005569</td>\n",
       "      <td>0.921408</td>\n",
       "      <td>0.000573</td>\n",
       "      <td>0.000410</td>\n",
       "      <td>0.163888</td>\n",
       "      <td>0.163970</td>\n",
       "      <td>0.013268</td>\n",
       "      <td>0.039805</td>\n",
       "      <td>0.0</td>\n",
       "      <td>...</td>\n",
       "      <td>0.000082</td>\n",
       "      <td>0</td>\n",
       "      <td>0.000000</td>\n",
       "      <td>0.0</td>\n",
       "      <td>0.0</td>\n",
       "      <td>0.0</td>\n",
       "      <td>0.000082</td>\n",
       "      <td>0.0</td>\n",
       "      <td>0</td>\n",
       "      <td>223500</td>\n",
       "    </tr>\n",
       "    <tr>\n",
       "      <th>3</th>\n",
       "      <td>0.006596</td>\n",
       "      <td>0.005654</td>\n",
       "      <td>0.899887</td>\n",
       "      <td>0.000660</td>\n",
       "      <td>0.000471</td>\n",
       "      <td>0.180449</td>\n",
       "      <td>0.185631</td>\n",
       "      <td>0.000000</td>\n",
       "      <td>0.020353</td>\n",
       "      <td>0.0</td>\n",
       "      <td>...</td>\n",
       "      <td>0.000094</td>\n",
       "      <td>0</td>\n",
       "      <td>0.000094</td>\n",
       "      <td>0.0</td>\n",
       "      <td>0.0</td>\n",
       "      <td>0.0</td>\n",
       "      <td>0.000000</td>\n",
       "      <td>0.0</td>\n",
       "      <td>0</td>\n",
       "      <td>140000</td>\n",
       "    </tr>\n",
       "    <tr>\n",
       "      <th>4</th>\n",
       "      <td>0.003961</td>\n",
       "      <td>0.005545</td>\n",
       "      <td>0.941326</td>\n",
       "      <td>0.000528</td>\n",
       "      <td>0.000330</td>\n",
       "      <td>0.132023</td>\n",
       "      <td>0.132023</td>\n",
       "      <td>0.023104</td>\n",
       "      <td>0.043238</td>\n",
       "      <td>0.0</td>\n",
       "      <td>...</td>\n",
       "      <td>0.000066</td>\n",
       "      <td>0</td>\n",
       "      <td>0.000000</td>\n",
       "      <td>0.0</td>\n",
       "      <td>0.0</td>\n",
       "      <td>0.0</td>\n",
       "      <td>0.000066</td>\n",
       "      <td>0.0</td>\n",
       "      <td>0</td>\n",
       "      <td>250000</td>\n",
       "    </tr>\n",
       "  </tbody>\n",
       "</table>\n",
       "<p>5 rows × 305 columns</p>\n",
       "</div>"
      ],
      "text/plain": [
       "   MSSubClass  LotFrontage   LotArea  OverallQual  OverallCond  YearBuilt  \\\n",
       "0    0.006206     0.006724  0.874061     0.000724     0.000517   0.207189   \n",
       "1    0.001873     0.007492  0.899023     0.000562     0.000749   0.185049   \n",
       "2    0.004914     0.005569  0.921408     0.000573     0.000410   0.163888   \n",
       "3    0.006596     0.005654  0.899887     0.000660     0.000471   0.180449   \n",
       "4    0.003961     0.005545  0.941326     0.000528     0.000330   0.132023   \n",
       "\n",
       "   YearRemodAdd  MasVnrArea  BsmtFinSF1  BsmtFinSF2  ...  SaleType_WD  \\\n",
       "0      0.207189    0.020274    0.073028         0.0  ...     0.000103   \n",
       "1      0.185049    0.000000    0.091588         0.0  ...     0.000094   \n",
       "2      0.163970    0.013268    0.039805         0.0  ...     0.000082   \n",
       "3      0.185631    0.000000    0.020353         0.0  ...     0.000094   \n",
       "4      0.132023    0.023104    0.043238         0.0  ...     0.000066   \n",
       "\n",
       "   SaleType_nan  SaleCondition_Abnorml  SaleCondition_AdjLand  \\\n",
       "0             0               0.000000                    0.0   \n",
       "1             0               0.000000                    0.0   \n",
       "2             0               0.000000                    0.0   \n",
       "3             0               0.000094                    0.0   \n",
       "4             0               0.000000                    0.0   \n",
       "\n",
       "   SaleCondition_Alloca  SaleCondition_Family  SaleCondition_Normal  \\\n",
       "0                   0.0                   0.0              0.000103   \n",
       "1                   0.0                   0.0              0.000094   \n",
       "2                   0.0                   0.0              0.000082   \n",
       "3                   0.0                   0.0              0.000000   \n",
       "4                   0.0                   0.0              0.000066   \n",
       "\n",
       "   SaleCondition_Partial  SaleCondition_nan  SalePrice  \n",
       "0                    0.0                  0     208500  \n",
       "1                    0.0                  0     181500  \n",
       "2                    0.0                  0     223500  \n",
       "3                    0.0                  0     140000  \n",
       "4                    0.0                  0     250000  \n",
       "\n",
       "[5 rows x 305 columns]"
      ]
     },
     "execution_count": 2,
     "metadata": {},
     "output_type": "execute_result"
    }
   ],
   "source": [
    "df=pd.read_csv(r\"C:\\Users\\NTCUONG\\notebook\\training_LR\\training8.csv\")\n",
    "df.head()"
   ]
  },
  {
   "cell_type": "code",
   "execution_count": 3,
   "id": "221b1e6b-7ba5-40f7-bef3-2097671f9fa5",
   "metadata": {},
   "outputs": [],
   "source": [
    "corr=df.corr()"
   ]
  },
  {
   "cell_type": "code",
   "execution_count": 4,
   "id": "92a171c4-6d0f-4ae9-955e-006b7a8ce7ff",
   "metadata": {},
   "outputs": [
    {
     "data": {
      "text/html": [
       "<div>\n",
       "<style scoped>\n",
       "    .dataframe tbody tr th:only-of-type {\n",
       "        vertical-align: middle;\n",
       "    }\n",
       "\n",
       "    .dataframe tbody tr th {\n",
       "        vertical-align: top;\n",
       "    }\n",
       "\n",
       "    .dataframe thead th {\n",
       "        text-align: right;\n",
       "    }\n",
       "</style>\n",
       "<table border=\"1\" class=\"dataframe\">\n",
       "  <thead>\n",
       "    <tr style=\"text-align: right;\">\n",
       "      <th></th>\n",
       "      <th>MSSubClass</th>\n",
       "      <th>LotFrontage</th>\n",
       "      <th>LotArea</th>\n",
       "      <th>OverallQual</th>\n",
       "      <th>OverallCond</th>\n",
       "      <th>YearBuilt</th>\n",
       "      <th>YearRemodAdd</th>\n",
       "      <th>MasVnrArea</th>\n",
       "      <th>BsmtFinSF1</th>\n",
       "      <th>BsmtFinSF2</th>\n",
       "      <th>...</th>\n",
       "      <th>SaleType_WD</th>\n",
       "      <th>SaleType_nan</th>\n",
       "      <th>SaleCondition_Abnorml</th>\n",
       "      <th>SaleCondition_AdjLand</th>\n",
       "      <th>SaleCondition_Alloca</th>\n",
       "      <th>SaleCondition_Family</th>\n",
       "      <th>SaleCondition_Normal</th>\n",
       "      <th>SaleCondition_Partial</th>\n",
       "      <th>SaleCondition_nan</th>\n",
       "      <th>SalePrice</th>\n",
       "    </tr>\n",
       "  </thead>\n",
       "  <tbody>\n",
       "    <tr>\n",
       "      <th>SalePrice</th>\n",
       "      <td>-0.187647</td>\n",
       "      <td>-0.150612</td>\n",
       "      <td>0.228492</td>\n",
       "      <td>0.030433</td>\n",
       "      <td>-0.394900</td>\n",
       "      <td>-0.393929</td>\n",
       "      <td>-0.401973</td>\n",
       "      <td>0.286089</td>\n",
       "      <td>0.209935</td>\n",
       "      <td>-0.056868</td>\n",
       "      <td>...</td>\n",
       "      <td>-0.423426</td>\n",
       "      <td>NaN</td>\n",
       "      <td>-0.139545</td>\n",
       "      <td>-0.051458</td>\n",
       "      <td>-0.030231</td>\n",
       "      <td>-0.049619</td>\n",
       "      <td>-0.338044</td>\n",
       "      <td>0.273673</td>\n",
       "      <td>NaN</td>\n",
       "      <td>1.000000</td>\n",
       "    </tr>\n",
       "    <tr>\n",
       "      <th>BsmtQual_Ex</th>\n",
       "      <td>-0.019162</td>\n",
       "      <td>0.029625</td>\n",
       "      <td>-0.004661</td>\n",
       "      <td>0.153260</td>\n",
       "      <td>-0.114671</td>\n",
       "      <td>-0.048726</td>\n",
       "      <td>-0.053646</td>\n",
       "      <td>0.226263</td>\n",
       "      <td>0.196354</td>\n",
       "      <td>-0.036025</td>\n",
       "      <td>...</td>\n",
       "      <td>-0.206695</td>\n",
       "      <td>NaN</td>\n",
       "      <td>-0.045265</td>\n",
       "      <td>-0.014686</td>\n",
       "      <td>-0.024430</td>\n",
       "      <td>-0.031567</td>\n",
       "      <td>-0.170257</td>\n",
       "      <td>0.307506</td>\n",
       "      <td>NaN</td>\n",
       "      <td>0.451608</td>\n",
       "    </tr>\n",
       "    <tr>\n",
       "      <th>KitchenQual_Ex</th>\n",
       "      <td>-0.008671</td>\n",
       "      <td>-0.015889</td>\n",
       "      <td>-0.001595</td>\n",
       "      <td>0.123222</td>\n",
       "      <td>-0.057121</td>\n",
       "      <td>-0.059439</td>\n",
       "      <td>-0.059953</td>\n",
       "      <td>0.120338</td>\n",
       "      <td>0.146168</td>\n",
       "      <td>-0.038462</td>\n",
       "      <td>...</td>\n",
       "      <td>-0.133922</td>\n",
       "      <td>NaN</td>\n",
       "      <td>0.049378</td>\n",
       "      <td>-0.013164</td>\n",
       "      <td>-0.021899</td>\n",
       "      <td>-0.028297</td>\n",
       "      <td>-0.165153</td>\n",
       "      <td>0.190471</td>\n",
       "      <td>NaN</td>\n",
       "      <td>0.409421</td>\n",
       "    </tr>\n",
       "    <tr>\n",
       "      <th>ExterQual_Ex</th>\n",
       "      <td>-0.043465</td>\n",
       "      <td>-0.002081</td>\n",
       "      <td>0.037454</td>\n",
       "      <td>0.084736</td>\n",
       "      <td>-0.084612</td>\n",
       "      <td>-0.086550</td>\n",
       "      <td>-0.088374</td>\n",
       "      <td>0.216657</td>\n",
       "      <td>0.111300</td>\n",
       "      <td>-0.034108</td>\n",
       "      <td>...</td>\n",
       "      <td>-0.192771</td>\n",
       "      <td>NaN</td>\n",
       "      <td>-0.046799</td>\n",
       "      <td>-0.009523</td>\n",
       "      <td>-0.015841</td>\n",
       "      <td>-0.020469</td>\n",
       "      <td>-0.160383</td>\n",
       "      <td>0.240313</td>\n",
       "      <td>NaN</td>\n",
       "      <td>0.404878</td>\n",
       "    </tr>\n",
       "    <tr>\n",
       "      <th>Neighborhood_NridgHt</th>\n",
       "      <td>0.079830</td>\n",
       "      <td>0.011417</td>\n",
       "      <td>-0.060334</td>\n",
       "      <td>0.180990</td>\n",
       "      <td>-0.053661</td>\n",
       "      <td>0.014349</td>\n",
       "      <td>0.010042</td>\n",
       "      <td>0.207970</td>\n",
       "      <td>0.098621</td>\n",
       "      <td>-0.051179</td>\n",
       "      <td>...</td>\n",
       "      <td>-0.091817</td>\n",
       "      <td>NaN</td>\n",
       "      <td>-0.056647</td>\n",
       "      <td>-0.011527</td>\n",
       "      <td>-0.019174</td>\n",
       "      <td>-0.024776</td>\n",
       "      <td>-0.048898</td>\n",
       "      <td>0.173688</td>\n",
       "      <td>NaN</td>\n",
       "      <td>0.313647</td>\n",
       "    </tr>\n",
       "    <tr>\n",
       "      <th>ExterQual_Gd</th>\n",
       "      <td>0.244144</td>\n",
       "      <td>0.127291</td>\n",
       "      <td>-0.271118</td>\n",
       "      <td>0.500648</td>\n",
       "      <td>0.062334</td>\n",
       "      <td>0.222969</td>\n",
       "      <td>0.213852</td>\n",
       "      <td>0.138024</td>\n",
       "      <td>0.093554</td>\n",
       "      <td>-0.080887</td>\n",
       "      <td>...</td>\n",
       "      <td>0.020290</td>\n",
       "      <td>NaN</td>\n",
       "      <td>-0.045175</td>\n",
       "      <td>-0.033648</td>\n",
       "      <td>-0.050994</td>\n",
       "      <td>-0.038926</td>\n",
       "      <td>0.054771</td>\n",
       "      <td>0.242718</td>\n",
       "      <td>NaN</td>\n",
       "      <td>0.307234</td>\n",
       "    </tr>\n",
       "    <tr>\n",
       "      <th>Foundation_PConc</th>\n",
       "      <td>0.294030</td>\n",
       "      <td>0.138138</td>\n",
       "      <td>-0.309576</td>\n",
       "      <td>0.539514</td>\n",
       "      <td>0.079992</td>\n",
       "      <td>0.286325</td>\n",
       "      <td>0.275757</td>\n",
       "      <td>0.187246</td>\n",
       "      <td>0.134822</td>\n",
       "      <td>-0.131092</td>\n",
       "      <td>...</td>\n",
       "      <td>0.067493</td>\n",
       "      <td>NaN</td>\n",
       "      <td>-0.068619</td>\n",
       "      <td>0.020954</td>\n",
       "      <td>-0.042032</td>\n",
       "      <td>-0.034403</td>\n",
       "      <td>0.078990</td>\n",
       "      <td>0.286249</td>\n",
       "      <td>NaN</td>\n",
       "      <td>0.306703</td>\n",
       "    </tr>\n",
       "    <tr>\n",
       "      <th>Fireplaces</th>\n",
       "      <td>0.063250</td>\n",
       "      <td>0.047981</td>\n",
       "      <td>-0.071323</td>\n",
       "      <td>0.203926</td>\n",
       "      <td>-0.014197</td>\n",
       "      <td>0.007862</td>\n",
       "      <td>0.003995</td>\n",
       "      <td>0.146287</td>\n",
       "      <td>0.132208</td>\n",
       "      <td>-0.002821</td>\n",
       "      <td>...</td>\n",
       "      <td>-0.008842</td>\n",
       "      <td>NaN</td>\n",
       "      <td>-0.092457</td>\n",
       "      <td>-0.046835</td>\n",
       "      <td>-0.022880</td>\n",
       "      <td>-0.004424</td>\n",
       "      <td>0.044421</td>\n",
       "      <td>0.036288</td>\n",
       "      <td>NaN</td>\n",
       "      <td>0.296400</td>\n",
       "    </tr>\n",
       "    <tr>\n",
       "      <th>Neighborhood_NoRidge</th>\n",
       "      <td>-0.053253</td>\n",
       "      <td>0.002040</td>\n",
       "      <td>0.061684</td>\n",
       "      <td>-0.005377</td>\n",
       "      <td>-0.120317</td>\n",
       "      <td>-0.107713</td>\n",
       "      <td>-0.110160</td>\n",
       "      <td>0.197925</td>\n",
       "      <td>0.082584</td>\n",
       "      <td>-0.044654</td>\n",
       "      <td>...</td>\n",
       "      <td>-0.039500</td>\n",
       "      <td>NaN</td>\n",
       "      <td>-0.001196</td>\n",
       "      <td>-0.008586</td>\n",
       "      <td>-0.014284</td>\n",
       "      <td>-0.018456</td>\n",
       "      <td>-0.044507</td>\n",
       "      <td>-0.047499</td>\n",
       "      <td>NaN</td>\n",
       "      <td>0.292830</td>\n",
       "    </tr>\n",
       "    <tr>\n",
       "      <th>MasVnrArea</th>\n",
       "      <td>0.226652</td>\n",
       "      <td>0.020592</td>\n",
       "      <td>-0.232376</td>\n",
       "      <td>0.282195</td>\n",
       "      <td>0.032106</td>\n",
       "      <td>0.138909</td>\n",
       "      <td>0.130019</td>\n",
       "      <td>1.000000</td>\n",
       "      <td>0.209548</td>\n",
       "      <td>-0.087016</td>\n",
       "      <td>...</td>\n",
       "      <td>0.046362</td>\n",
       "      <td>NaN</td>\n",
       "      <td>-0.007775</td>\n",
       "      <td>-0.012815</td>\n",
       "      <td>0.015781</td>\n",
       "      <td>0.050269</td>\n",
       "      <td>0.038061</td>\n",
       "      <td>0.075631</td>\n",
       "      <td>NaN</td>\n",
       "      <td>0.286089</td>\n",
       "    </tr>\n",
       "  </tbody>\n",
       "</table>\n",
       "<p>10 rows × 305 columns</p>\n",
       "</div>"
      ],
      "text/plain": [
       "                      MSSubClass  LotFrontage   LotArea  OverallQual  \\\n",
       "SalePrice              -0.187647    -0.150612  0.228492     0.030433   \n",
       "BsmtQual_Ex            -0.019162     0.029625 -0.004661     0.153260   \n",
       "KitchenQual_Ex         -0.008671    -0.015889 -0.001595     0.123222   \n",
       "ExterQual_Ex           -0.043465    -0.002081  0.037454     0.084736   \n",
       "Neighborhood_NridgHt    0.079830     0.011417 -0.060334     0.180990   \n",
       "ExterQual_Gd            0.244144     0.127291 -0.271118     0.500648   \n",
       "Foundation_PConc        0.294030     0.138138 -0.309576     0.539514   \n",
       "Fireplaces              0.063250     0.047981 -0.071323     0.203926   \n",
       "Neighborhood_NoRidge   -0.053253     0.002040  0.061684    -0.005377   \n",
       "MasVnrArea              0.226652     0.020592 -0.232376     0.282195   \n",
       "\n",
       "                      OverallCond  YearBuilt  YearRemodAdd  MasVnrArea  \\\n",
       "SalePrice               -0.394900  -0.393929     -0.401973    0.286089   \n",
       "BsmtQual_Ex             -0.114671  -0.048726     -0.053646    0.226263   \n",
       "KitchenQual_Ex          -0.057121  -0.059439     -0.059953    0.120338   \n",
       "ExterQual_Ex            -0.084612  -0.086550     -0.088374    0.216657   \n",
       "Neighborhood_NridgHt    -0.053661   0.014349      0.010042    0.207970   \n",
       "ExterQual_Gd             0.062334   0.222969      0.213852    0.138024   \n",
       "Foundation_PConc         0.079992   0.286325      0.275757    0.187246   \n",
       "Fireplaces              -0.014197   0.007862      0.003995    0.146287   \n",
       "Neighborhood_NoRidge    -0.120317  -0.107713     -0.110160    0.197925   \n",
       "MasVnrArea               0.032106   0.138909      0.130019    1.000000   \n",
       "\n",
       "                      BsmtFinSF1  BsmtFinSF2  ...  SaleType_WD  SaleType_nan  \\\n",
       "SalePrice               0.209935   -0.056868  ...    -0.423426           NaN   \n",
       "BsmtQual_Ex             0.196354   -0.036025  ...    -0.206695           NaN   \n",
       "KitchenQual_Ex          0.146168   -0.038462  ...    -0.133922           NaN   \n",
       "ExterQual_Ex            0.111300   -0.034108  ...    -0.192771           NaN   \n",
       "Neighborhood_NridgHt    0.098621   -0.051179  ...    -0.091817           NaN   \n",
       "ExterQual_Gd            0.093554   -0.080887  ...     0.020290           NaN   \n",
       "Foundation_PConc        0.134822   -0.131092  ...     0.067493           NaN   \n",
       "Fireplaces              0.132208   -0.002821  ...    -0.008842           NaN   \n",
       "Neighborhood_NoRidge    0.082584   -0.044654  ...    -0.039500           NaN   \n",
       "MasVnrArea              0.209548   -0.087016  ...     0.046362           NaN   \n",
       "\n",
       "                      SaleCondition_Abnorml  SaleCondition_AdjLand  \\\n",
       "SalePrice                         -0.139545              -0.051458   \n",
       "BsmtQual_Ex                       -0.045265              -0.014686   \n",
       "KitchenQual_Ex                     0.049378              -0.013164   \n",
       "ExterQual_Ex                      -0.046799              -0.009523   \n",
       "Neighborhood_NridgHt              -0.056647              -0.011527   \n",
       "ExterQual_Gd                      -0.045175              -0.033648   \n",
       "Foundation_PConc                  -0.068619               0.020954   \n",
       "Fireplaces                        -0.092457              -0.046835   \n",
       "Neighborhood_NoRidge              -0.001196              -0.008586   \n",
       "MasVnrArea                        -0.007775              -0.012815   \n",
       "\n",
       "                      SaleCondition_Alloca  SaleCondition_Family  \\\n",
       "SalePrice                        -0.030231             -0.049619   \n",
       "BsmtQual_Ex                      -0.024430             -0.031567   \n",
       "KitchenQual_Ex                   -0.021899             -0.028297   \n",
       "ExterQual_Ex                     -0.015841             -0.020469   \n",
       "Neighborhood_NridgHt             -0.019174             -0.024776   \n",
       "ExterQual_Gd                     -0.050994             -0.038926   \n",
       "Foundation_PConc                 -0.042032             -0.034403   \n",
       "Fireplaces                       -0.022880             -0.004424   \n",
       "Neighborhood_NoRidge             -0.014284             -0.018456   \n",
       "MasVnrArea                        0.015781              0.050269   \n",
       "\n",
       "                      SaleCondition_Normal  SaleCondition_Partial  \\\n",
       "SalePrice                        -0.338044               0.273673   \n",
       "BsmtQual_Ex                      -0.170257               0.307506   \n",
       "KitchenQual_Ex                   -0.165153               0.190471   \n",
       "ExterQual_Ex                     -0.160383               0.240313   \n",
       "Neighborhood_NridgHt             -0.048898               0.173688   \n",
       "ExterQual_Gd                      0.054771               0.242718   \n",
       "Foundation_PConc                  0.078990               0.286249   \n",
       "Fireplaces                        0.044421               0.036288   \n",
       "Neighborhood_NoRidge             -0.044507              -0.047499   \n",
       "MasVnrArea                        0.038061               0.075631   \n",
       "\n",
       "                      SaleCondition_nan  SalePrice  \n",
       "SalePrice                           NaN   1.000000  \n",
       "BsmtQual_Ex                         NaN   0.451608  \n",
       "KitchenQual_Ex                      NaN   0.409421  \n",
       "ExterQual_Ex                        NaN   0.404878  \n",
       "Neighborhood_NridgHt                NaN   0.313647  \n",
       "ExterQual_Gd                        NaN   0.307234  \n",
       "Foundation_PConc                    NaN   0.306703  \n",
       "Fireplaces                          NaN   0.296400  \n",
       "Neighborhood_NoRidge                NaN   0.292830  \n",
       "MasVnrArea                          NaN   0.286089  \n",
       "\n",
       "[10 rows x 305 columns]"
      ]
     },
     "execution_count": 4,
     "metadata": {},
     "output_type": "execute_result"
    }
   ],
   "source": [
    "df.corr().sort_values(\"SalePrice\",ascending=False).head(10)"
   ]
  },
  {
   "cell_type": "code",
   "execution_count": 5,
   "id": "4f7ca938-bf89-4ace-982a-7da06043210d",
   "metadata": {},
   "outputs": [],
   "source": [
    "def create_df(col_list):\n",
    "    df_fs=df[\"SalePrice\"]\n",
    "    for col in col_list:\n",
    "        df_fs=pd.concat([df[col],df_fs],axis=1)\n",
    "    return df_fs"
   ]
  },
  {
   "cell_type": "code",
   "execution_count": 6,
   "id": "bb758b00-c63d-4136-8512-b12298e30c45",
   "metadata": {},
   "outputs": [],
   "source": [
    "base_models = [\n",
    "    ('lr', LinearRegression()),\n",
    "    ('dt', DecisionTreeRegressor(random_state=42)),\n",
    "    ('rf', RandomForestRegressor(n_estimators=10, random_state=42)),\n",
    "    ('svr', SVR(kernel='rbf'))\n",
    "]\n",
    "meta_model = LinearRegression()\n",
    "model = StackingRegressor(estimators=base_models, final_estimator=meta_model)"
   ]
  },
  {
   "cell_type": "code",
   "execution_count": 7,
   "id": "4b59a939-75fa-4fb9-8bcf-dd8468f7961a",
   "metadata": {},
   "outputs": [],
   "source": [
    "def eval(df_fs):\n",
    "    X_train,X_test,y_train,y_test=train_test_split(df_fs.iloc[:,:-1],df_fs.iloc[:,-1],test_size=0.2,random_state=42)\n",
    "    model.fit(X_train,y_train)\n",
    "    y_pre=model.predict(X_test)\n",
    "    k.append(i)\n",
    "    mae.append(mean_absolute_error(y_test,y_pre))\n",
    "    rmse.append(root_mean_squared_error(y_test,y_pre))\n",
    "    r2.append(r2_score(y_test,y_pre))"
   ]
  },
  {
   "cell_type": "markdown",
   "id": "eb18d0bb-4c87-4f34-b0ed-85cdd79b3957",
   "metadata": {},
   "source": [
    "### FEATURE SELECTION DEPEND ON CORRELATION MATRIX"
   ]
  },
  {
   "cell_type": "markdown",
   "id": "ea09629b-a292-4f8f-a43d-25a91ca7e2c9",
   "metadata": {},
   "source": [
    "plt.figure(figsize=(12,10))\n",
    "sns.heatmap(df.corr(),cmap='coolwarm')"
   ]
  },
  {
   "cell_type": "code",
   "execution_count": 8,
   "id": "c5b3afc4-6809-45dc-ba5b-7dcc24712c33",
   "metadata": {},
   "outputs": [
    {
     "data": {
      "text/plain": [
       "Index(['SalePrice', 'BsmtQual_Ex', 'KitchenQual_Ex', 'ExterQual_Ex',\n",
       "       'Neighborhood_NridgHt', 'ExterQual_Gd', 'Foundation_PConc',\n",
       "       'Fireplaces', 'Neighborhood_NoRidge', 'MasVnrArea'],\n",
       "      dtype='object')"
      ]
     },
     "execution_count": 8,
     "metadata": {},
     "output_type": "execute_result"
    }
   ],
   "source": [
    "c=corr.sort_values(\"SalePrice\",ascending=False).head(10).index\n",
    "c"
   ]
  },
  {
   "cell_type": "code",
   "execution_count": 9,
   "id": "0894d8df-f9a6-4868-a282-f954c8dd1219",
   "metadata": {},
   "outputs": [
    {
     "data": {
      "text/html": [
       "<div>\n",
       "<style scoped>\n",
       "    .dataframe tbody tr th:only-of-type {\n",
       "        vertical-align: middle;\n",
       "    }\n",
       "\n",
       "    .dataframe tbody tr th {\n",
       "        vertical-align: top;\n",
       "    }\n",
       "\n",
       "    .dataframe thead th {\n",
       "        text-align: right;\n",
       "    }\n",
       "</style>\n",
       "<table border=\"1\" class=\"dataframe\">\n",
       "  <thead>\n",
       "    <tr style=\"text-align: right;\">\n",
       "      <th></th>\n",
       "      <th>K</th>\n",
       "      <th>MAE</th>\n",
       "      <th>RMSE</th>\n",
       "      <th>r2</th>\n",
       "    </tr>\n",
       "  </thead>\n",
       "  <tbody>\n",
       "    <tr>\n",
       "      <th>0</th>\n",
       "      <td>10</td>\n",
       "      <td>31234.504512</td>\n",
       "      <td>44318.668503</td>\n",
       "      <td>0.743929</td>\n",
       "    </tr>\n",
       "    <tr>\n",
       "      <th>1</th>\n",
       "      <td>11</td>\n",
       "      <td>31097.434774</td>\n",
       "      <td>44061.525074</td>\n",
       "      <td>0.746892</td>\n",
       "    </tr>\n",
       "    <tr>\n",
       "      <th>2</th>\n",
       "      <td>12</td>\n",
       "      <td>30749.139525</td>\n",
       "      <td>43587.225513</td>\n",
       "      <td>0.752312</td>\n",
       "    </tr>\n",
       "    <tr>\n",
       "      <th>3</th>\n",
       "      <td>13</td>\n",
       "      <td>29481.556850</td>\n",
       "      <td>41490.098695</td>\n",
       "      <td>0.775573</td>\n",
       "    </tr>\n",
       "    <tr>\n",
       "      <th>4</th>\n",
       "      <td>14</td>\n",
       "      <td>29708.942270</td>\n",
       "      <td>41811.268333</td>\n",
       "      <td>0.772085</td>\n",
       "    </tr>\n",
       "    <tr>\n",
       "      <th>...</th>\n",
       "      <td>...</td>\n",
       "      <td>...</td>\n",
       "      <td>...</td>\n",
       "      <td>...</td>\n",
       "    </tr>\n",
       "    <tr>\n",
       "      <th>105</th>\n",
       "      <td>115</td>\n",
       "      <td>23260.347745</td>\n",
       "      <td>36587.023888</td>\n",
       "      <td>0.825482</td>\n",
       "    </tr>\n",
       "    <tr>\n",
       "      <th>106</th>\n",
       "      <td>116</td>\n",
       "      <td>23034.603490</td>\n",
       "      <td>36054.226719</td>\n",
       "      <td>0.830528</td>\n",
       "    </tr>\n",
       "    <tr>\n",
       "      <th>107</th>\n",
       "      <td>117</td>\n",
       "      <td>23390.779407</td>\n",
       "      <td>37079.751190</td>\n",
       "      <td>0.820750</td>\n",
       "    </tr>\n",
       "    <tr>\n",
       "      <th>108</th>\n",
       "      <td>118</td>\n",
       "      <td>22888.499566</td>\n",
       "      <td>35454.424390</td>\n",
       "      <td>0.836120</td>\n",
       "    </tr>\n",
       "    <tr>\n",
       "      <th>109</th>\n",
       "      <td>119</td>\n",
       "      <td>22384.858104</td>\n",
       "      <td>35290.217138</td>\n",
       "      <td>0.837634</td>\n",
       "    </tr>\n",
       "  </tbody>\n",
       "</table>\n",
       "<p>110 rows × 4 columns</p>\n",
       "</div>"
      ],
      "text/plain": [
       "       K           MAE          RMSE        r2\n",
       "0     10  31234.504512  44318.668503  0.743929\n",
       "1     11  31097.434774  44061.525074  0.746892\n",
       "2     12  30749.139525  43587.225513  0.752312\n",
       "3     13  29481.556850  41490.098695  0.775573\n",
       "4     14  29708.942270  41811.268333  0.772085\n",
       "..   ...           ...           ...       ...\n",
       "105  115  23260.347745  36587.023888  0.825482\n",
       "106  116  23034.603490  36054.226719  0.830528\n",
       "107  117  23390.779407  37079.751190  0.820750\n",
       "108  118  22888.499566  35454.424390  0.836120\n",
       "109  119  22384.858104  35290.217138  0.837634\n",
       "\n",
       "[110 rows x 4 columns]"
      ]
     },
     "execution_count": 9,
     "metadata": {},
     "output_type": "execute_result"
    }
   ],
   "source": [
    "k, mae, rmse, r2 = [], [], [], []\n",
    "for i in range(10,120):\n",
    "    c=corr.sort_values(\"SalePrice\",ascending=False).iloc[1:i,:].index\n",
    "    df_fs=create_df(c)\n",
    "    eval(df_fs)\n",
    "statistic_tup={\n",
    "    \"K\":k,\n",
    "    \"MAE\":mae,\n",
    "    \"RMSE\":rmse,\n",
    "    \"r2\":r2\n",
    "}\n",
    "statistic=pd.DataFrame(statistic_tup)\n",
    "statistic"
   ]
  },
  {
   "cell_type": "code",
   "execution_count": 10,
   "id": "676d601a-5843-48a7-b013-75622f2dd80c",
   "metadata": {},
   "outputs": [
    {
     "data": {
      "text/html": [
       "<div>\n",
       "<style scoped>\n",
       "    .dataframe tbody tr th:only-of-type {\n",
       "        vertical-align: middle;\n",
       "    }\n",
       "\n",
       "    .dataframe tbody tr th {\n",
       "        vertical-align: top;\n",
       "    }\n",
       "\n",
       "    .dataframe thead th {\n",
       "        text-align: right;\n",
       "    }\n",
       "</style>\n",
       "<table border=\"1\" class=\"dataframe\">\n",
       "  <thead>\n",
       "    <tr style=\"text-align: right;\">\n",
       "      <th></th>\n",
       "      <th>K</th>\n",
       "      <th>MAE</th>\n",
       "      <th>RMSE</th>\n",
       "      <th>r2</th>\n",
       "    </tr>\n",
       "  </thead>\n",
       "  <tbody>\n",
       "    <tr>\n",
       "      <th>101</th>\n",
       "      <td>111</td>\n",
       "      <td>22276.390041</td>\n",
       "      <td>33697.280849</td>\n",
       "      <td>0.851961</td>\n",
       "    </tr>\n",
       "    <tr>\n",
       "      <th>109</th>\n",
       "      <td>119</td>\n",
       "      <td>22384.858104</td>\n",
       "      <td>35290.217138</td>\n",
       "      <td>0.837634</td>\n",
       "    </tr>\n",
       "    <tr>\n",
       "      <th>33</th>\n",
       "      <td>43</td>\n",
       "      <td>22664.291460</td>\n",
       "      <td>34953.348438</td>\n",
       "      <td>0.840719</td>\n",
       "    </tr>\n",
       "    <tr>\n",
       "      <th>96</th>\n",
       "      <td>106</td>\n",
       "      <td>22869.092719</td>\n",
       "      <td>34510.751332</td>\n",
       "      <td>0.844727</td>\n",
       "    </tr>\n",
       "    <tr>\n",
       "      <th>29</th>\n",
       "      <td>39</td>\n",
       "      <td>22881.073723</td>\n",
       "      <td>34597.868077</td>\n",
       "      <td>0.843942</td>\n",
       "    </tr>\n",
       "    <tr>\n",
       "      <th>...</th>\n",
       "      <td>...</td>\n",
       "      <td>...</td>\n",
       "      <td>...</td>\n",
       "      <td>...</td>\n",
       "    </tr>\n",
       "    <tr>\n",
       "      <th>6</th>\n",
       "      <td>16</td>\n",
       "      <td>29786.071377</td>\n",
       "      <td>42218.678282</td>\n",
       "      <td>0.767622</td>\n",
       "    </tr>\n",
       "    <tr>\n",
       "      <th>5</th>\n",
       "      <td>15</td>\n",
       "      <td>30491.178364</td>\n",
       "      <td>42907.298828</td>\n",
       "      <td>0.759979</td>\n",
       "    </tr>\n",
       "    <tr>\n",
       "      <th>2</th>\n",
       "      <td>12</td>\n",
       "      <td>30749.139525</td>\n",
       "      <td>43587.225513</td>\n",
       "      <td>0.752312</td>\n",
       "    </tr>\n",
       "    <tr>\n",
       "      <th>1</th>\n",
       "      <td>11</td>\n",
       "      <td>31097.434774</td>\n",
       "      <td>44061.525074</td>\n",
       "      <td>0.746892</td>\n",
       "    </tr>\n",
       "    <tr>\n",
       "      <th>0</th>\n",
       "      <td>10</td>\n",
       "      <td>31234.504512</td>\n",
       "      <td>44318.668503</td>\n",
       "      <td>0.743929</td>\n",
       "    </tr>\n",
       "  </tbody>\n",
       "</table>\n",
       "<p>110 rows × 4 columns</p>\n",
       "</div>"
      ],
      "text/plain": [
       "       K           MAE          RMSE        r2\n",
       "101  111  22276.390041  33697.280849  0.851961\n",
       "109  119  22384.858104  35290.217138  0.837634\n",
       "33    43  22664.291460  34953.348438  0.840719\n",
       "96   106  22869.092719  34510.751332  0.844727\n",
       "29    39  22881.073723  34597.868077  0.843942\n",
       "..   ...           ...           ...       ...\n",
       "6     16  29786.071377  42218.678282  0.767622\n",
       "5     15  30491.178364  42907.298828  0.759979\n",
       "2     12  30749.139525  43587.225513  0.752312\n",
       "1     11  31097.434774  44061.525074  0.746892\n",
       "0     10  31234.504512  44318.668503  0.743929\n",
       "\n",
       "[110 rows x 4 columns]"
      ]
     },
     "execution_count": 10,
     "metadata": {},
     "output_type": "execute_result"
    }
   ],
   "source": [
    "statistic.sort_values(\"MAE\",ascending=True)"
   ]
  },
  {
   "cell_type": "code",
   "execution_count": 11,
   "id": "27f2b7d8-71ae-47dd-8abe-025035855a86",
   "metadata": {},
   "outputs": [
    {
     "name": "stderr",
     "output_type": "stream",
     "text": [
      "C:\\Users\\NTCUONG\\AppData\\Local\\Temp\\ipykernel_27872\\3627608168.py:4: UserWarning: set_ticklabels() should only be used with a fixed number of ticks, i.e. after set_ticks() or using a FixedLocator.\n",
      "  ax1.set_xticklabels(ax1.get_xticklabels(), rotation=90, ha=\"left\")\n",
      "C:\\Users\\NTCUONG\\AppData\\Local\\Temp\\ipykernel_27872\\3627608168.py:5: UserWarning: set_ticklabels() should only be used with a fixed number of ticks, i.e. after set_ticks() or using a FixedLocator.\n",
      "  ax2.set_xticklabels(ax2.get_xticklabels(), rotation=90, ha=\"left\")\n"
     ]
    },
    {
     "data": {
      "image/png": "[encoded data removed]",
      "text/plain": [
       "<Figure size 2000x500 with 2 Axes>"
      ]
     },
     "metadata": {},
     "output_type": "display_data"
    }
   ],
   "source": [
    "fig,axes=plt.subplots(nrows=1,ncols=2,figsize=(20,5))\n",
    "ax1=sns.lineplot(data=statistic,x=\"K\",y=\"MAE\",ax=axes[0])\n",
    "ax2=sns.lineplot(data=statistic,x=\"K\",y=\"r2\",ax=axes[1])\n",
    "ax1.set_xticklabels(ax1.get_xticklabels(), rotation=90, ha=\"left\")\n",
    "ax2.set_xticklabels(ax2.get_xticklabels(), rotation=90, ha=\"left\")\n",
    "plt.show()"
   ]
  },
  {
   "cell_type": "markdown",
   "id": "31e87dce-57c8-4e2f-8555-3c918912d6cd",
   "metadata": {
    "jp-MarkdownHeadingCollapsed": true
   },
   "source": [
    "### FEATURE SELECTION BY REMOVE FEATURE WITH LOW VARIENCE\n"
   ]
  },
  {
   "cell_type": "markdown",
   "id": "28560394-79b9-49f6-bb5d-34ab6ee562db",
   "metadata": {},
   "source": [
    "### 1.CALCULATE VARIENCE FOR EACH FEATURE"
   ]
  },
  {
   "cell_type": "code",
   "execution_count": 12,
   "id": "4d8c0fbe-ef2c-4133-8094-6c65f052c1ee",
   "metadata": {},
   "outputs": [
    {
     "name": "stderr",
     "output_type": "stream",
     "text": [
      "D:\\miniconda\\lib\\site-packages\\numpy\\core\\fromnumeric.py:3785: FutureWarning: The behavior of DataFrame.var with axis=None is deprecated, in a future version this will reduce over both axes and return a scalar. To retain the old behavior, pass axis=0 (or do not pass axis)\n",
      "  return var(axis=axis, dtype=dtype, out=out, ddof=ddof, **kwargs)\n"
     ]
    },
    {
     "data": {
      "text/plain": [
       "MSSubClass               5.410654e-05\n",
       "LotFrontage              3.361824e-06\n",
       "LotArea                  1.328717e-02\n",
       "OverallQual              5.280132e-08\n",
       "OverallCond              5.329786e-08\n",
       "                             ...     \n",
       "SaleCondition_Family     1.484516e-10\n",
       "SaleCondition_Normal     2.527637e-09\n",
       "SaleCondition_Partial    7.462514e-10\n",
       "SaleCondition_nan        0.000000e+00\n",
       "SalePrice                6.306789e+09\n",
       "Length: 305, dtype: float64"
      ]
     },
     "execution_count": 12,
     "metadata": {},
     "output_type": "execute_result"
    }
   ],
   "source": [
    "varr=np.var(df)\n",
    "varr"
   ]
  },
  {
   "cell_type": "code",
   "execution_count": 13,
   "id": "deee7fd7-9118-4748-910d-627416ff8b46",
   "metadata": {
    "scrolled": true
   },
   "outputs": [
    {
     "data": {
      "text/plain": [
       "Index(['SalePrice'], dtype='object')"
      ]
     },
     "execution_count": 13,
     "metadata": {},
     "output_type": "execute_result"
    }
   ],
   "source": [
    "varr.loc[varr > 0.1].index"
   ]
  },
  {
   "cell_type": "markdown",
   "id": "bd3036f0-0249-4f8d-bd5d-6eb8538410ba",
   "metadata": {},
   "source": [
    "### 2.USING VarianceThreshold FROM SKLEARN"
   ]
  },
  {
   "cell_type": "code",
   "execution_count": 14,
   "id": "9c594e26-b851-474f-88bd-81e1ba0ecf3d",
   "metadata": {},
   "outputs": [],
   "source": [
    "from sklearn.feature_selection import VarianceThreshold"
   ]
  },
  {
   "cell_type": "code",
   "execution_count": 15,
   "id": "b9ceabd8-3df1-4f20-896f-0fc47f18efc7",
   "metadata": {},
   "outputs": [
    {
     "data": {
      "text/plain": [
       "Index(['SalePrice'], dtype='object')"
      ]
     },
     "execution_count": 15,
     "metadata": {},
     "output_type": "execute_result"
    }
   ],
   "source": [
    "varr_thresh=VarianceThreshold(threshold=0.1)\n",
    "varr_thresh.fit_transform(df)\n",
    "selected_columns = df.columns[varr_thresh.get_support()]\n",
    "selected_columns"
   ]
  },
  {
   "cell_type": "code",
   "execution_count": 16,
   "id": "3050b1c6-5a9e-4af1-a6e9-f6651ae6a861",
   "metadata": {},
   "outputs": [
    {
     "data": {
      "text/html": [
       "<div>\n",
       "<style scoped>\n",
       "    .dataframe tbody tr th:only-of-type {\n",
       "        vertical-align: middle;\n",
       "    }\n",
       "\n",
       "    .dataframe tbody tr th {\n",
       "        vertical-align: top;\n",
       "    }\n",
       "\n",
       "    .dataframe thead th {\n",
       "        text-align: right;\n",
       "    }\n",
       "</style>\n",
       "<table border=\"1\" class=\"dataframe\">\n",
       "  <thead>\n",
       "    <tr style=\"text-align: right;\">\n",
       "      <th></th>\n",
       "      <th>K</th>\n",
       "      <th>MAE</th>\n",
       "      <th>RMSE</th>\n",
       "      <th>r2</th>\n",
       "    </tr>\n",
       "  </thead>\n",
       "  <tbody>\n",
       "    <tr>\n",
       "      <th>0</th>\n",
       "      <td>100</td>\n",
       "      <td>28189.442842</td>\n",
       "      <td>46346.790578</td>\n",
       "      <td>0.719957</td>\n",
       "    </tr>\n",
       "    <tr>\n",
       "      <th>1</th>\n",
       "      <td>101</td>\n",
       "      <td>28189.442842</td>\n",
       "      <td>46346.790578</td>\n",
       "      <td>0.719957</td>\n",
       "    </tr>\n",
       "    <tr>\n",
       "      <th>2</th>\n",
       "      <td>102</td>\n",
       "      <td>28189.442842</td>\n",
       "      <td>46346.790578</td>\n",
       "      <td>0.719957</td>\n",
       "    </tr>\n",
       "    <tr>\n",
       "      <th>3</th>\n",
       "      <td>103</td>\n",
       "      <td>28189.442842</td>\n",
       "      <td>46346.790578</td>\n",
       "      <td>0.719957</td>\n",
       "    </tr>\n",
       "    <tr>\n",
       "      <th>4</th>\n",
       "      <td>104</td>\n",
       "      <td>28189.442842</td>\n",
       "      <td>46346.790578</td>\n",
       "      <td>0.719957</td>\n",
       "    </tr>\n",
       "    <tr>\n",
       "      <th>...</th>\n",
       "      <td>...</td>\n",
       "      <td>...</td>\n",
       "      <td>...</td>\n",
       "      <td>...</td>\n",
       "    </tr>\n",
       "    <tr>\n",
       "      <th>395</th>\n",
       "      <td>495</td>\n",
       "      <td>32428.725983</td>\n",
       "      <td>49506.242681</td>\n",
       "      <td>0.680474</td>\n",
       "    </tr>\n",
       "    <tr>\n",
       "      <th>396</th>\n",
       "      <td>496</td>\n",
       "      <td>32428.725983</td>\n",
       "      <td>49506.242681</td>\n",
       "      <td>0.680474</td>\n",
       "    </tr>\n",
       "    <tr>\n",
       "      <th>397</th>\n",
       "      <td>497</td>\n",
       "      <td>32428.725983</td>\n",
       "      <td>49506.242681</td>\n",
       "      <td>0.680474</td>\n",
       "    </tr>\n",
       "    <tr>\n",
       "      <th>398</th>\n",
       "      <td>498</td>\n",
       "      <td>32428.725983</td>\n",
       "      <td>49506.242681</td>\n",
       "      <td>0.680474</td>\n",
       "    </tr>\n",
       "    <tr>\n",
       "      <th>399</th>\n",
       "      <td>499</td>\n",
       "      <td>32428.725983</td>\n",
       "      <td>49506.242681</td>\n",
       "      <td>0.680474</td>\n",
       "    </tr>\n",
       "  </tbody>\n",
       "</table>\n",
       "<p>400 rows × 4 columns</p>\n",
       "</div>"
      ],
      "text/plain": [
       "       K           MAE          RMSE        r2\n",
       "0    100  28189.442842  46346.790578  0.719957\n",
       "1    101  28189.442842  46346.790578  0.719957\n",
       "2    102  28189.442842  46346.790578  0.719957\n",
       "3    103  28189.442842  46346.790578  0.719957\n",
       "4    104  28189.442842  46346.790578  0.719957\n",
       "..   ...           ...           ...       ...\n",
       "395  495  32428.725983  49506.242681  0.680474\n",
       "396  496  32428.725983  49506.242681  0.680474\n",
       "397  497  32428.725983  49506.242681  0.680474\n",
       "398  498  32428.725983  49506.242681  0.680474\n",
       "399  499  32428.725983  49506.242681  0.680474\n",
       "\n",
       "[400 rows x 4 columns]"
      ]
     },
     "execution_count": 16,
     "metadata": {},
     "output_type": "execute_result"
    }
   ],
   "source": [
    "k, mae, rmse, r2 = [], [], [], []\n",
    "for i in range(100,500):\n",
    "    varr_thresh=VarianceThreshold(threshold=i/100000)\n",
    "    varr_thresh.fit_transform(df.iloc[:,:-1])\n",
    "    selected_columns = df.iloc[:,:-1].columns[varr_thresh.get_support()]\n",
    "    df_fs=create_df(selected_columns)\n",
    "    eval(df_fs)\n",
    "statistic_tup={\n",
    "    \"K\":k,\n",
    "    \"MAE\":mae,\n",
    "    \"RMSE\":rmse,\n",
    "    \"r2\":r2\n",
    "}\n",
    "statistic=pd.DataFrame(statistic_tup)\n",
    "statistic"
   ]
  },
  {
   "cell_type": "code",
   "execution_count": 17,
   "id": "ba8cc36b-f961-4542-a3bc-a690375d2c01",
   "metadata": {},
   "outputs": [
    {
     "data": {
      "text/html": [
       "<div>\n",
       "<style scoped>\n",
       "    .dataframe tbody tr th:only-of-type {\n",
       "        vertical-align: middle;\n",
       "    }\n",
       "\n",
       "    .dataframe tbody tr th {\n",
       "        vertical-align: top;\n",
       "    }\n",
       "\n",
       "    .dataframe thead th {\n",
       "        text-align: right;\n",
       "    }\n",
       "</style>\n",
       "<table border=\"1\" class=\"dataframe\">\n",
       "  <thead>\n",
       "    <tr style=\"text-align: right;\">\n",
       "      <th></th>\n",
       "      <th>K</th>\n",
       "      <th>MAE</th>\n",
       "      <th>RMSE</th>\n",
       "      <th>r2</th>\n",
       "    </tr>\n",
       "  </thead>\n",
       "  <tbody>\n",
       "    <tr>\n",
       "      <th>54</th>\n",
       "      <td>154</td>\n",
       "      <td>27549.587604</td>\n",
       "      <td>45239.070243</td>\n",
       "      <td>0.733183</td>\n",
       "    </tr>\n",
       "    <tr>\n",
       "      <th>39</th>\n",
       "      <td>139</td>\n",
       "      <td>27549.587604</td>\n",
       "      <td>45239.070243</td>\n",
       "      <td>0.733183</td>\n",
       "    </tr>\n",
       "    <tr>\n",
       "      <th>40</th>\n",
       "      <td>140</td>\n",
       "      <td>27549.587604</td>\n",
       "      <td>45239.070243</td>\n",
       "      <td>0.733183</td>\n",
       "    </tr>\n",
       "    <tr>\n",
       "      <th>41</th>\n",
       "      <td>141</td>\n",
       "      <td>27549.587604</td>\n",
       "      <td>45239.070243</td>\n",
       "      <td>0.733183</td>\n",
       "    </tr>\n",
       "    <tr>\n",
       "      <th>42</th>\n",
       "      <td>142</td>\n",
       "      <td>27549.587604</td>\n",
       "      <td>45239.070243</td>\n",
       "      <td>0.733183</td>\n",
       "    </tr>\n",
       "    <tr>\n",
       "      <th>...</th>\n",
       "      <td>...</td>\n",
       "      <td>...</td>\n",
       "      <td>...</td>\n",
       "      <td>...</td>\n",
       "    </tr>\n",
       "    <tr>\n",
       "      <th>394</th>\n",
       "      <td>494</td>\n",
       "      <td>32428.725983</td>\n",
       "      <td>49506.242681</td>\n",
       "      <td>0.680474</td>\n",
       "    </tr>\n",
       "    <tr>\n",
       "      <th>395</th>\n",
       "      <td>495</td>\n",
       "      <td>32428.725983</td>\n",
       "      <td>49506.242681</td>\n",
       "      <td>0.680474</td>\n",
       "    </tr>\n",
       "    <tr>\n",
       "      <th>396</th>\n",
       "      <td>496</td>\n",
       "      <td>32428.725983</td>\n",
       "      <td>49506.242681</td>\n",
       "      <td>0.680474</td>\n",
       "    </tr>\n",
       "    <tr>\n",
       "      <th>397</th>\n",
       "      <td>497</td>\n",
       "      <td>32428.725983</td>\n",
       "      <td>49506.242681</td>\n",
       "      <td>0.680474</td>\n",
       "    </tr>\n",
       "    <tr>\n",
       "      <th>399</th>\n",
       "      <td>499</td>\n",
       "      <td>32428.725983</td>\n",
       "      <td>49506.242681</td>\n",
       "      <td>0.680474</td>\n",
       "    </tr>\n",
       "  </tbody>\n",
       "</table>\n",
       "<p>400 rows × 4 columns</p>\n",
       "</div>"
      ],
      "text/plain": [
       "       K           MAE          RMSE        r2\n",
       "54   154  27549.587604  45239.070243  0.733183\n",
       "39   139  27549.587604  45239.070243  0.733183\n",
       "40   140  27549.587604  45239.070243  0.733183\n",
       "41   141  27549.587604  45239.070243  0.733183\n",
       "42   142  27549.587604  45239.070243  0.733183\n",
       "..   ...           ...           ...       ...\n",
       "394  494  32428.725983  49506.242681  0.680474\n",
       "395  495  32428.725983  49506.242681  0.680474\n",
       "396  496  32428.725983  49506.242681  0.680474\n",
       "397  497  32428.725983  49506.242681  0.680474\n",
       "399  499  32428.725983  49506.242681  0.680474\n",
       "\n",
       "[400 rows x 4 columns]"
      ]
     },
     "execution_count": 17,
     "metadata": {},
     "output_type": "execute_result"
    }
   ],
   "source": [
    "statistic.sort_values(\"MAE\",ascending=True)"
   ]
  },
  {
   "cell_type": "code",
   "execution_count": 18,
   "id": "426be3b2-2b5a-4489-aec5-7c4495e5c6ee",
   "metadata": {},
   "outputs": [
    {
     "name": "stderr",
     "output_type": "stream",
     "text": [
      "C:\\Users\\NTCUONG\\AppData\\Local\\Temp\\ipykernel_27872\\873788412.py:4: UserWarning: set_ticklabels() should only be used with a fixed number of ticks, i.e. after set_ticks() or using a FixedLocator.\n",
      "  ax1.set_xticklabels(ax1.get_xticklabels(), rotation=90, ha=\"left\")\n",
      "C:\\Users\\NTCUONG\\AppData\\Local\\Temp\\ipykernel_27872\\873788412.py:5: UserWarning: set_ticklabels() should only be used with a fixed number of ticks, i.e. after set_ticks() or using a FixedLocator.\n",
      "  ax2.set_xticklabels(ax2.get_xticklabels(), rotation=90, ha=\"left\")\n"
     ]
    },
    {
     "data": {
      "image/png": "[encoded data removed]",
      "text/plain": [
       "<Figure size 2000x500 with 2 Axes>"
      ]
     },
     "metadata": {},
     "output_type": "display_data"
    }
   ],
   "source": [
    "fig,axes=plt.subplots(nrows=1,ncols=2,figsize=(20,5))\n",
    "ax1=sns.lineplot(data=statistic,x=statistic[\"K\"]/1000,y=\"MAE\",ax=axes[0])\n",
    "ax2=sns.lineplot(data=statistic,x=statistic[\"K\"]/1000,y=\"r2\",ax=axes[1])\n",
    "ax1.set_xticklabels(ax1.get_xticklabels(), rotation=90, ha=\"left\")\n",
    "ax2.set_xticklabels(ax2.get_xticklabels(), rotation=90, ha=\"left\")\n",
    "plt.show()"
   ]
  },
  {
   "cell_type": "markdown",
   "id": "cfe42fd1-34ed-4bbb-868e-d8a53b0bea6b",
   "metadata": {},
   "source": [
    "### Univariate feature selection\n"
   ]
  },
  {
   "cell_type": "markdown",
   "id": "b735a131-ead7-4b7f-9d59-36cbb5d03492",
   "metadata": {},
   "source": [
    "### Statistic function (r_regression, f_regression, mutual_info_regression)"
   ]
  },
  {
   "cell_type": "markdown",
   "id": "14dc6574-3f79-4a26-ac25-13bdfe5575e4",
   "metadata": {},
   "source": [
    "### 1. r_regression\n"
   ]
  },
  {
   "attachments": {
    "f483b42b-de90-46a8-afcd-444eb978b015.png": {
     "image/png": "[encoded data removed]"
    }
   },
   "cell_type": "markdown",
   "id": "847e49f6-4059-47ab-b67f-7d62a2135c53",
   "metadata": {},
   "source": [
    "![image.png](attachment:f483b42b-de90-46a8-afcd-444eb978b015.png)"
   ]
  },
  {
   "cell_type": "markdown",
   "id": "d99c19dc-e3ab-4046-89cb-d94f98f1eeeb",
   "metadata": {},
   "source": [
    "### Using numpy"
   ]
  },
  {
   "cell_type": "code",
   "execution_count": 19,
   "id": "4a8d6dea-2710-4134-a34a-2ed5870b702b",
   "metadata": {},
   "outputs": [],
   "source": [
    "def similitary_score(x,y):\n",
    "    x_avg=np.average(x)\n",
    "    y_avg=np.average(y)\n",
    "    up=np.sum((x-x_avg)*(y-y_avg))\n",
    "    down=np.sqrt(np.sum((x-x_avg)**2)*np.sum((y-y_avg)**2))\n",
    "    return up/down"
   ]
  },
  {
   "cell_type": "code",
   "execution_count": 20,
   "id": "f44a44ff-b35a-4ce2-b8ba-450ad8a522a5",
   "metadata": {},
   "outputs": [
    {
     "name": "stdout",
     "output_type": "stream",
     "text": [
      "0.03043261754890978\n"
     ]
    }
   ],
   "source": [
    "print(similitary_score(df[\"OverallQual\"],df[\"SalePrice\"]))"
   ]
  },
  {
   "cell_type": "code",
   "execution_count": 21,
   "id": "422b3d11-1917-4f26-985d-ecd4c1204dc3",
   "metadata": {},
   "outputs": [
    {
     "name": "stderr",
     "output_type": "stream",
     "text": [
      "C:\\Users\\NTCUONG\\AppData\\Local\\Temp\\ipykernel_27872\\2326211799.py:6: RuntimeWarning: invalid value encountered in scalar divide\n",
      "  return up/down\n"
     ]
    },
    {
     "data": {
      "text/plain": [
       "[]"
      ]
     },
     "execution_count": 21,
     "metadata": {},
     "output_type": "execute_result"
    }
   ],
   "source": [
    "top_feature=[]\n",
    "for col in df.columns:\n",
    "    score=similitary_score(df[col],df[\"SalePrice\"])\n",
    "    if col != \"SalePrice\" and score > 0.6:\n",
    "        top_feature.append([col,score])\n",
    "top_feature"
   ]
  },
  {
   "cell_type": "markdown",
   "id": "161a3edf-3401-4570-9c6d-78eff8d7a568",
   "metadata": {},
   "source": [
    "### Using sklearn"
   ]
  },
  {
   "cell_type": "code",
   "execution_count": 22,
   "id": "c35379c8-100b-48ac-a665-0198f7b4976e",
   "metadata": {},
   "outputs": [
    {
     "data": {
      "text/plain": [
       "array(['Neighborhood_NridgHt', 'ExterQual_Ex', 'ExterQual_Gd',\n",
       "       'Foundation_PConc', 'BsmtQual_Ex', 'KitchenQual_Ex'], dtype=object)"
      ]
     },
     "execution_count": 22,
     "metadata": {},
     "output_type": "execute_result"
    }
   ],
   "source": [
    "from sklearn.feature_selection import r_regression\n",
    "from sklearn.feature_selection import SelectKBest\n",
    "# for i in range(5,21):\n",
    "fs=SelectKBest(r_regression,k=6)\n",
    "fl_df=fs.fit_transform(df.iloc[:,:-1],df.iloc[:,-1])\n",
    "# selected=df.columns[fs.get_support()]\n",
    "fs.get_feature_names_out()"
   ]
  },
  {
   "cell_type": "code",
   "execution_count": null,
   "id": "ec4e58bb-85e9-4cd6-8bd3-6bb94ec57fc5",
   "metadata": {},
   "outputs": [],
   "source": [
    "k, mae, rmse, r2 = [], [], [], []\n",
    "\n",
    "for i in range(5,120):\n",
    "    fs=SelectKBest(r_regression,k=i)\n",
    "    fl_df=fs.fit_transform(df.iloc[:,:-1],df.iloc[:,-1])\n",
    "    c=fs.get_feature_names_out()\n",
    "    df_fs=create_df(c)\n",
    "    eval(df_fs)\n",
    "statistic_tup={\n",
    "    \"K\":k,\n",
    "    \"MAE\":mae,\n",
    "    \"RMSE\":rmse,\n",
    "    \"r2\":r2\n",
    "}\n",
    "statistic=pd.DataFrame(statistic_tup)\n",
    "statistic.to_csv(\"r_regression_label_enc.csv\")\n",
    "statistic\n"
   ]
  },
  {
   "cell_type": "code",
   "execution_count": null,
   "id": "a9e40c8f-cc90-4899-8725-4c434aedee23",
   "metadata": {},
   "outputs": [],
   "source": [
    "statistic.sort_values(\"MAE\",ascending=True)"
   ]
  },
  {
   "cell_type": "code",
   "execution_count": null,
   "id": "87568b67-482d-4e83-80de-4565d1868358",
   "metadata": {},
   "outputs": [],
   "source": [
    "fig,axes=plt.subplots(nrows=1,ncols=2,figsize=(20,5))\n",
    "ax1=sns.lineplot(data=statistic,x=\"K\",y=\"MAE\",ax=axes[0])\n",
    "ax2=sns.lineplot(data=statistic,x=\"K\",y=\"r2\",ax=axes[1])\n",
    "ax1.set_xticklabels(ax1.get_xticklabels(), rotation=90, ha=\"left\")\n",
    "ax2.set_xticklabels(ax2.get_xticklabels(), rotation=90, ha=\"left\")\n",
    "plt.show()"
   ]
  },
  {
   "cell_type": "markdown",
   "id": "b8242cd7-0c52-4727-ad87-716dd6cf1db0",
   "metadata": {},
   "source": [
    "### 2.f_regression"
   ]
  },
  {
   "attachments": {
    "95f14443-0240-442c-b294-562b150eb8bd.png": {
     "image/png": "[encoded data removed]"
    }
   },
   "cell_type": "markdown",
   "id": "4e2a1a1e-0f3c-4962-8d8e-e6533a5adbae",
   "metadata": {},
   "source": [
    "![image.png](attachment:95f14443-0240-442c-b294-562b150eb8bd.png)"
   ]
  },
  {
   "attachments": {
    "a344f6dc-6cf9-490d-a595-9c80c9c1128a.png": {
     "image/png": "[encoded data removed]"
    }
   },
   "cell_type": "markdown",
   "id": "76d3364d-ca14-4713-b252-2f742d5d4984",
   "metadata": {},
   "source": [
    "![image.png](attachment:a344f6dc-6cf9-490d-a595-9c80c9c1128a.png)"
   ]
  },
  {
   "cell_type": "code",
   "execution_count": null,
   "id": "4f385cff-cac4-475e-9496-7063cc459f66",
   "metadata": {},
   "outputs": [],
   "source": [
    "from sklearn.feature_selection import f_regression"
   ]
  },
  {
   "cell_type": "code",
   "execution_count": null,
   "id": "6a67a76a-d819-44e0-a458-62063ef39cdc",
   "metadata": {},
   "outputs": [],
   "source": [
    "k, mae, rmse, r2 = [], [], [], []\n",
    "for i in range(5,120):\n",
    "    fs=SelectKBest(f_regression,k=i)\n",
    "    fl_df=fs.fit_transform(df.iloc[:,:-1],df.iloc[:,-1])\n",
    "    c=fs.get_feature_names_out()\n",
    "    df_fs=create_df(c)\n",
    "    eval(df_fs)\n",
    "statistic_tup={\n",
    "    \"K\":k,\n",
    "    \"MAE\":mae,\n",
    "    \"RMSE\":rmse,\n",
    "    \"r2\":r2\n",
    "}\n",
    "statistic=pd.DataFrame(statistic_tup)\n",
    "statistic.to_csv(\"f_regression_label_enc.csv\")\n",
    "statistic"
   ]
  },
  {
   "cell_type": "code",
   "execution_count": null,
   "id": "5560d383-3895-4bda-836a-2cf44b5d803c",
   "metadata": {},
   "outputs": [],
   "source": [
    "statistic.sort_values(\"MAE\",ascending=True)"
   ]
  },
  {
   "cell_type": "code",
   "execution_count": null,
   "id": "a927a833-5bba-4baf-b3e3-efc9aae888e8",
   "metadata": {},
   "outputs": [],
   "source": [
    "fig,axes=plt.subplots(nrows=1,ncols=2,figsize=(20,5))\n",
    "ax1=sns.lineplot(data=statistic,x=\"K\",y=\"MAE\",ax=axes[0])\n",
    "ax2=sns.lineplot(data=statistic,x=\"K\",y=\"r2\",ax=axes[1])\n",
    "ax1.set_xticklabels(ax1.get_xticklabels(), rotation=90, ha=\"left\")\n",
    "ax2.set_xticklabels(ax2.get_xticklabels(), rotation=90, ha=\"left\")\n",
    "plt.show()"
   ]
  },
  {
   "cell_type": "markdown",
   "id": "8fccd82f-42db-4287-88c9-aec8166133c0",
   "metadata": {},
   "source": [
    "### 3.Mutual infomation"
   ]
  },
  {
   "cell_type": "markdown",
   "id": "cb273dca-e014-4519-87b7-81508f38df58",
   "metadata": {},
   "source": [
    "### Fomula"
   ]
  },
  {
   "attachments": {
    "283a97b8-8534-4c70-8086-d6b229834262.png": {
     "image/png": "[encoded data removed]"
    }
   },
   "cell_type": "markdown",
   "id": "1a2af73c-6d12-4d7f-9181-164c97936ba2",
   "metadata": {},
   "source": [
    "![image.png](attachment:283a97b8-8534-4c70-8086-d6b229834262.png)"
   ]
  },
  {
   "cell_type": "markdown",
   "id": "63501a85-ee1f-4c95-8784-d24452fe94d3",
   "metadata": {},
   "source": [
    "### Mesure dependency of 2 variable X,Y"
   ]
  },
  {
   "cell_type": "markdown",
   "id": "4ca8fc23-c6f5-4983-bfd6-205af5bab5d8",
   "metadata": {},
   "source": [
    "### KDE method (Estimate Probability Density Function)"
   ]
  },
  {
   "attachments": {
    "d3173b36-c1e3-421a-a817-095dbfd9041c.png": {
     "image/png": "[encoded data removed]"
    }
   },
   "cell_type": "markdown",
   "id": "7caa4ea9-6baa-4895-92ed-141b485197dc",
   "metadata": {},
   "source": [
    "![image.png](attachment:d3173b36-c1e3-421a-a817-095dbfd9041c.png)"
   ]
  },
  {
   "attachments": {
    "88044c6a-ccc1-4d54-bbb2-f410d59aa145.png": {
     "image/png": "[encoded data removed]"
    }
   },
   "cell_type": "markdown",
   "id": "6c569216-9a9d-46a5-9e69-dbbdd78a168e",
   "metadata": {},
   "source": [
    "![image.png](attachment:88044c6a-ccc1-4d54-bbb2-f410d59aa145.png)"
   ]
  },
  {
   "attachments": {
    "5c8079a5-deea-43ef-85ff-0e46935b227e.png": {
     "image/png": "[encoded data removed]"
    }
   },
   "cell_type": "markdown",
   "id": "67ef31a2-4a95-466b-8e28-3610e8188a09",
   "metadata": {},
   "source": [
    "![image.png](attachment:5c8079a5-deea-43ef-85ff-0e46935b227e.png)"
   ]
  },
  {
   "cell_type": "code",
   "execution_count": null,
   "id": "ed1d3da5-fd97-40d8-9c5d-04e8f0cad843",
   "metadata": {},
   "outputs": [],
   "source": [
    "all_col=df.columns\n",
    "all_col"
   ]
  },
  {
   "cell_type": "code",
   "execution_count": null,
   "id": "1f0fb24b-024e-4c3a-bff2-cc5a28574c61",
   "metadata": {},
   "outputs": [],
   "source": [
    "from sklearn.feature_selection import mutual_info_regression"
   ]
  },
  {
   "cell_type": "code",
   "execution_count": null,
   "id": "4f74733c-0ab9-40f6-b711-f05abac60222",
   "metadata": {},
   "outputs": [],
   "source": [
    "k, mae, rmse, r2 = [], [], [], []\n",
    "for i in range(5,120):\n",
    "    fs=SelectKBest(mutual_info_regression,k=i)\n",
    "    fl_df=fs.fit_transform(df.iloc[:,:-1],df.iloc[:,-1])\n",
    "    c=fs.get_feature_names_out()\n",
    "    df_fs=create_df(c)\n",
    "    eval(df_fs)\n",
    "statistic_tup={\n",
    "    \"K\":k,\n",
    "    \"MAE\":mae,\n",
    "    \"RMSE\":rmse,\n",
    "    \"r2\":r2\n",
    "}\n",
    "statistic=pd.DataFrame(statistic_tup)\n",
    "statistic"
   ]
  },
  {
   "cell_type": "code",
   "execution_count": null,
   "id": "d6b4c9ed-a54e-4449-997c-b0b71480ed03",
   "metadata": {},
   "outputs": [],
   "source": [
    "statistic.to_csv(\"mutual_infomation_label_enc.csv\")"
   ]
  },
  {
   "cell_type": "code",
   "execution_count": null,
   "id": "66353d8a-273a-43b2-9348-7c77a1ead34c",
   "metadata": {},
   "outputs": [],
   "source": [
    "statistic.sort_values(\"MAE\",ascending=True)"
   ]
  },
  {
   "cell_type": "code",
   "execution_count": null,
   "id": "b493a0fe-ce77-4133-9707-bd689592e4e8",
   "metadata": {},
   "outputs": [],
   "source": [
    "fig,axes=plt.subplots(nrows=1,ncols=2,figsize=(20,5))\n",
    "ax1=sns.lineplot(data=statistic,x=\"K\",y=\"MAE\",ax=axes[0])\n",
    "ax2=sns.lineplot(data=statistic,x=\"K\",y=\"r2\",ax=axes[1])\n",
    "ax1.set_xticklabels(ax1.get_xticklabels(), rotation=90, ha=\"left\")\n",
    "ax2.set_xticklabels(ax2.get_xticklabels(), rotation=90, ha=\"left\")\n",
    "plt.show()"
   ]
  },
  {
   "cell_type": "markdown",
   "id": "96b68e21-5e93-4086-b427-dd61d1c23249",
   "metadata": {},
   "source": [
    "### RFE (Recursive feature elimination)"
   ]
  },
  {
   "cell_type": "markdown",
   "id": "488501b0-e325-4a68-8142-39b486f42413",
   "metadata": {},
   "source": [
    "df"
   ]
  },
  {
   "cell_type": "markdown",
   "id": "35646a3a-5577-4588-b2eb-2369bf4fdbeb",
   "metadata": {},
   "source": [
    "from sklearn.feature_selection import RFE,RFECV\n",
    "rfe=RFE(estimator=model,n_features_to_select=5)\n",
    "rfe.fit(df.iloc[:,:-1],df.iloc[:,-1])\n",
    "rfe.get_feature_names_out()"
   ]
  },
  {
   "cell_type": "markdown",
   "id": "23786bcd-9bf0-4307-abf6-1526b927ab37",
   "metadata": {},
   "source": [
    "k, mae, rmse, r2 = [], [], [], []\n",
    "for i in range(10,50):\n",
    "    rfe=RFE(estimator=model,n_features_to_select=i)\n",
    "    rfe.fit(df.iloc[:,:-1],df.iloc[:,-1])\n",
    "    c = df.iloc[:,:-1].columns[rfe.support_]\n",
    "    df_fs=create_df(c)\n",
    "    eval(df_fs)\n",
    "statistic_tup={\n",
    "    \"K\":k,\n",
    "    \"MAE\":mae,\n",
    "    \"RMSE\":rmse,\n",
    "    \"r2\":r2\n",
    "}\n",
    "statistic=pd.DataFrame(statistic_tup)\n",
    "statistic"
   ]
  },
  {
   "cell_type": "markdown",
   "id": "32258f50-cd5a-4e62-965e-9fb16a6bf36e",
   "metadata": {},
   "source": [
    "statistic.to_csv(\"RFE.csv\")"
   ]
  },
  {
   "cell_type": "markdown",
   "id": "c3ce08df-15da-425e-91c6-d03c75b40392",
   "metadata": {},
   "source": [
    "statistic=pd.read_csv(\"RFE.csv\")"
   ]
  },
  {
   "cell_type": "markdown",
   "id": "0aac917a-22aa-4077-bfbf-9b68372b6a55",
   "metadata": {},
   "source": [
    "fig,axes=plt.subplots(nrows=1,ncols=2,figsize=(20,5))\n",
    "ax1=sns.lineplot(data=statistic,x=\"K\",y=\"MAE\",ax=axes[0])\n",
    "ax2=sns.lineplot(data=statistic,x=\"K\",y=\"r2\",ax=axes[1])\n",
    "ax1.set_xticklabels(ax1.get_xticklabels(), rotation=90, ha=\"left\")\n",
    "ax2.set_xticklabels(ax2.get_xticklabels(), rotation=90, ha=\"left\")\n",
    "plt.show()"
   ]
  },
  {
   "cell_type": "markdown",
   "id": "f28862a2-87ac-42b4-b6be-86d5d13e7f32",
   "metadata": {},
   "source": [
    "k, mae, rmse, r2 = [], [], [], []\n",
    "for i in range(10,15):\n",
    "    rfe=RFECV(estimator=model,min_features_to_select=i,cv=5)\n",
    "    rfe.fit(df.iloc[:,:-1],df.iloc[:,-1])\n",
    "    c = df.iloc[:,:-1].columns[rfe.support_]\n",
    "    df_fs=create_df(c)\n",
    "    eval(df_fs)\n",
    "statistic_tup={\n",
    "    \"K\":k,\n",
    "    \"MAE\":mae,\n",
    "    \"RMSE\":rmse,\n",
    "    \"r2\":r2\n",
    "}\n",
    "statistic=pd.DataFrame(statistic_tup)\n",
    "statistic"
   ]
  },
  {
   "cell_type": "markdown",
   "id": "1856486d-f0dc-4ffe-b97f-42d9dd944d48",
   "metadata": {},
   "source": [
    "fig,axes=plt.subplots(nrows=1,ncols=2,figsize=(20,5))\n",
    "ax1=sns.lineplot(data=statistic,x=\"K\",y=\"MAE\",ax=axes[0])\n",
    "ax2=sns.lineplot(data=statistic,x=\"K\",y=\"r2\",ax=axes[1])\n",
    "ax1.set_xticklabels(ax1.get_xticklabels(), rotation=90, ha=\"left\")\n",
    "ax2.set_xticklabels(ax2.get_xticklabels(), rotation=90, ha=\"left\")\n",
    "plt.show()"
   ]
  },
  {
   "cell_type": "markdown",
   "id": "88f5fa5c-d300-49c5-9bcf-b2759d596b99",
   "metadata": {},
   "source": [
    "statistic.to_csv(\"RFECV.csv\")"
   ]
  },
  {
   "cell_type": "code",
   "execution_count": null,
   "id": "f150024e-1f94-457d-8914-76a50e10d26d",
   "metadata": {},
   "outputs": [],
   "source": [
    "r=pd.read_csv(\"r_regression_label_enc.csv\")\n",
    "r=r.iloc[:,1:]\n",
    "r"
   ]
  },
  {
   "cell_type": "code",
   "execution_count": null,
   "id": "8ce5687a-6027-4a68-9901-1e3ba152a35a",
   "metadata": {},
   "outputs": [],
   "source": [
    "f=pd.read_csv(\"f_regression_label_enc.csv\")\n",
    "f=f.iloc[:,1:]\n",
    "f"
   ]
  },
  {
   "cell_type": "code",
   "execution_count": null,
   "id": "de2417de-f7ff-4285-90af-47da068748ac",
   "metadata": {},
   "outputs": [],
   "source": [
    "mutual=pd.read_csv(\"mutual_infomation_label_enc.csv\")\n",
    "mutual=mutual.iloc[:,1:]\n",
    "mutual"
   ]
  },
  {
   "cell_type": "code",
   "execution_count": null,
   "id": "06841aaa-7769-4d18-8887-cdced460d5fd",
   "metadata": {},
   "outputs": [],
   "source": [
    "joint=pd.merge(r,f,how='inner',on=\"K\")\n",
    "joint"
   ]
  },
  {
   "cell_type": "code",
   "execution_count": null,
   "id": "06d44a40-aa3d-420a-8958-7941fcff85b9",
   "metadata": {},
   "outputs": [],
   "source": [
    "joint=pd.merge(joint,mutual,on=\"K\",how=\"inner\")\n",
    "joint"
   ]
  },
  {
   "cell_type": "code",
   "execution_count": null,
   "id": "11567530-2fbf-42aa-9ee0-500764829951",
   "metadata": {},
   "outputs": [],
   "source": [
    "plt.figure(figsize=(20,5))\n",
    "plt.subplot(1,2,1)\n",
    "plt.plot(joint[\"K\"],joint[\"MAE_x\"],label=\"r_regression\")\n",
    "plt.plot(joint[\"K\"],joint[\"MAE_y\"],label=\"f_regression\")\n",
    "plt.plot(joint[\"K\"],joint[\"MAE\"],label=\"mutual_infomation\")\n",
    "plt.xlabel(\"Number of feature\")\n",
    "plt.ylabel(\"MAE\")\n",
    "plt.title(\"MAE evaluation\") \n",
    "plt.legend()\n",
    "plt.figure(figsize=(20,5))\n",
    "plt.subplot(1,2,2)\n",
    "plt.plot(joint[\"K\"],joint[\"r2_x\"],label=\"r_regression\")\n",
    "plt.plot(joint[\"K\"],joint[\"r2_y\"],label=\"f_regression\")\n",
    "plt.plot(joint[\"K\"],joint[\"r2\"],label=\"mutual_infomation\")\n",
    "plt.xlabel(\"Number of feature\")\n",
    "plt.ylabel(\"MAE\")\n",
    "plt.title(\"R2 evaluation\") \n",
    "plt.legend()"
   ]
  }
 ],
 "metadata": {
  "kernelspec": {
   "display_name": "Python 3 (ipykernel)",
   "language": "python",
   "name": "python3"
  },
  "language_info": {
   "codemirror_mode": {
    "name": "ipython",
    "version": 3
   },
   "file_extension": ".py",
   "mimetype": "text/x-python",
   "name": "python",
   "nbconvert_exporter": "python",
   "pygments_lexer": "ipython3",
   "version": "3.9.18"
  }
 },
 "nbformat": 4,
 "nbformat_minor": 5
}
