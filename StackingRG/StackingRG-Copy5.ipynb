{
 "cells": [
  {
   "cell_type": "code",
   "execution_count": 1,
   "id": "9a8d1b41-3df7-464e-8d8b-1f1073af181c",
   "metadata": {},
   "outputs": [],
   "source": [
    "import pandas as pd\n",
    "import numpy as np\n",
    "import seaborn as sns\n",
    "import matplotlib.pyplot as plt\n",
    "from sklearn.model_selection import train_test_split\n",
    "from sklearn.linear_model import LinearRegression\n",
    "from sklearn.svm import SVR\n",
    "from sklearn.tree import DecisionTreeRegressor\n",
    "from sklearn.ensemble import RandomForestRegressor, StackingRegressor\n",
    "from sklearn.metrics import mean_absolute_error,root_mean_squared_error,r2_score"
   ]
  },
  {
   "cell_type": "code",
   "execution_count": 2,
   "id": "0f002323-d4d7-47ba-9381-c8a62e122517",
   "metadata": {},
   "outputs": [
    {
     "data": {
      "text/html": [
       "<div>\n",
       "<style scoped>\n",
       "    .dataframe tbody tr th:only-of-type {\n",
       "        vertical-align: middle;\n",
       "    }\n",
       "\n",
       "    .dataframe tbody tr th {\n",
       "        vertical-align: top;\n",
       "    }\n",
       "\n",
       "    .dataframe thead th {\n",
       "        text-align: right;\n",
       "    }\n",
       "</style>\n",
       "<table border=\"1\" class=\"dataframe\">\n",
       "  <thead>\n",
       "    <tr style=\"text-align: right;\">\n",
       "      <th></th>\n",
       "      <th>MSSubClass</th>\n",
       "      <th>MSZoning</th>\n",
       "      <th>LotFrontage</th>\n",
       "      <th>LotArea</th>\n",
       "      <th>Street</th>\n",
       "      <th>LotShape</th>\n",
       "      <th>LandContour</th>\n",
       "      <th>Utilities</th>\n",
       "      <th>LotConfig</th>\n",
       "      <th>LandSlope</th>\n",
       "      <th>...</th>\n",
       "      <th>3SsnPorch</th>\n",
       "      <th>ScreenPorch</th>\n",
       "      <th>PoolArea</th>\n",
       "      <th>MiscVal</th>\n",
       "      <th>MoSold</th>\n",
       "      <th>YrSold</th>\n",
       "      <th>SaleType</th>\n",
       "      <th>SaleCondition</th>\n",
       "      <th>Ageofhouse</th>\n",
       "      <th>SalePrice</th>\n",
       "    </tr>\n",
       "  </thead>\n",
       "  <tbody>\n",
       "    <tr>\n",
       "      <th>0</th>\n",
       "      <td>0.051008</td>\n",
       "      <td>0.116246</td>\n",
       "      <td>0.083432</td>\n",
       "      <td>0.279926</td>\n",
       "      <td>0.154995</td>\n",
       "      <td>0.154995</td>\n",
       "      <td>0.154995</td>\n",
       "      <td>0.0</td>\n",
       "      <td>0.154995</td>\n",
       "      <td>0.0</td>\n",
       "      <td>...</td>\n",
       "      <td>0.0</td>\n",
       "      <td>0.0</td>\n",
       "      <td>0.0</td>\n",
       "      <td>0.0</td>\n",
       "      <td>0.024965</td>\n",
       "      <td>0.150983</td>\n",
       "      <td>0.154995</td>\n",
       "      <td>0.149656</td>\n",
       "      <td>0.009289</td>\n",
       "      <td>208500</td>\n",
       "    </tr>\n",
       "    <tr>\n",
       "      <th>1</th>\n",
       "      <td>0.016630</td>\n",
       "      <td>0.117844</td>\n",
       "      <td>0.104817</td>\n",
       "      <td>0.326772</td>\n",
       "      <td>0.157125</td>\n",
       "      <td>0.157125</td>\n",
       "      <td>0.157125</td>\n",
       "      <td>0.0</td>\n",
       "      <td>0.078562</td>\n",
       "      <td>0.0</td>\n",
       "      <td>...</td>\n",
       "      <td>0.0</td>\n",
       "      <td>0.0</td>\n",
       "      <td>0.0</td>\n",
       "      <td>0.0</td>\n",
       "      <td>0.066107</td>\n",
       "      <td>0.152226</td>\n",
       "      <td>0.157125</td>\n",
       "      <td>0.151713</td>\n",
       "      <td>0.058385</td>\n",
       "      <td>181500</td>\n",
       "    </tr>\n",
       "    <tr>\n",
       "      <th>2</th>\n",
       "      <td>0.049759</td>\n",
       "      <td>0.113855</td>\n",
       "      <td>0.084291</td>\n",
       "      <td>0.374195</td>\n",
       "      <td>0.151807</td>\n",
       "      <td>0.000000</td>\n",
       "      <td>0.151807</td>\n",
       "      <td>0.0</td>\n",
       "      <td>0.151807</td>\n",
       "      <td>0.0</td>\n",
       "      <td>...</td>\n",
       "      <td>0.0</td>\n",
       "      <td>0.0</td>\n",
       "      <td>0.0</td>\n",
       "      <td>0.0</td>\n",
       "      <td>0.116390</td>\n",
       "      <td>0.146049</td>\n",
       "      <td>0.151807</td>\n",
       "      <td>0.146578</td>\n",
       "      <td>0.012738</td>\n",
       "      <td>223500</td>\n",
       "    </tr>\n",
       "    <tr>\n",
       "      <th>3</th>\n",
       "      <td>0.058532</td>\n",
       "      <td>0.114235</td>\n",
       "      <td>0.074714</td>\n",
       "      <td>0.315258</td>\n",
       "      <td>0.152313</td>\n",
       "      <td>0.000000</td>\n",
       "      <td>0.152313</td>\n",
       "      <td>0.0</td>\n",
       "      <td>0.000000</td>\n",
       "      <td>0.0</td>\n",
       "      <td>...</td>\n",
       "      <td>0.0</td>\n",
       "      <td>0.0</td>\n",
       "      <td>0.0</td>\n",
       "      <td>0.0</td>\n",
       "      <td>0.024340</td>\n",
       "      <td>0.147534</td>\n",
       "      <td>0.152313</td>\n",
       "      <td>0.000000</td>\n",
       "      <td>0.166141</td>\n",
       "      <td>140000</td>\n",
       "    </tr>\n",
       "    <tr>\n",
       "      <th>4</th>\n",
       "      <td>0.044571</td>\n",
       "      <td>0.102460</td>\n",
       "      <td>0.093669</td>\n",
       "      <td>0.430932</td>\n",
       "      <td>0.136614</td>\n",
       "      <td>0.000000</td>\n",
       "      <td>0.136614</td>\n",
       "      <td>0.0</td>\n",
       "      <td>0.068307</td>\n",
       "      <td>0.0</td>\n",
       "      <td>...</td>\n",
       "      <td>0.0</td>\n",
       "      <td>0.0</td>\n",
       "      <td>0.0</td>\n",
       "      <td>0.0</td>\n",
       "      <td>0.139862</td>\n",
       "      <td>0.129529</td>\n",
       "      <td>0.136614</td>\n",
       "      <td>0.131908</td>\n",
       "      <td>0.013100</td>\n",
       "      <td>250000</td>\n",
       "    </tr>\n",
       "  </tbody>\n",
       "</table>\n",
       "<p>5 rows × 75 columns</p>\n",
       "</div>"
      ],
      "text/plain": [
       "   MSSubClass  MSZoning  LotFrontage   LotArea    Street  LotShape  \\\n",
       "0    0.051008  0.116246     0.083432  0.279926  0.154995  0.154995   \n",
       "1    0.016630  0.117844     0.104817  0.326772  0.157125  0.157125   \n",
       "2    0.049759  0.113855     0.084291  0.374195  0.151807  0.000000   \n",
       "3    0.058532  0.114235     0.074714  0.315258  0.152313  0.000000   \n",
       "4    0.044571  0.102460     0.093669  0.430932  0.136614  0.000000   \n",
       "\n",
       "   LandContour  Utilities  LotConfig  LandSlope  ...  3SsnPorch  ScreenPorch  \\\n",
       "0     0.154995        0.0   0.154995        0.0  ...        0.0          0.0   \n",
       "1     0.157125        0.0   0.078562        0.0  ...        0.0          0.0   \n",
       "2     0.151807        0.0   0.151807        0.0  ...        0.0          0.0   \n",
       "3     0.152313        0.0   0.000000        0.0  ...        0.0          0.0   \n",
       "4     0.136614        0.0   0.068307        0.0  ...        0.0          0.0   \n",
       "\n",
       "   PoolArea  MiscVal    MoSold    YrSold  SaleType  SaleCondition  Ageofhouse  \\\n",
       "0       0.0      0.0  0.024965  0.150983  0.154995       0.149656    0.009289   \n",
       "1       0.0      0.0  0.066107  0.152226  0.157125       0.151713    0.058385   \n",
       "2       0.0      0.0  0.116390  0.146049  0.151807       0.146578    0.012738   \n",
       "3       0.0      0.0  0.024340  0.147534  0.152313       0.000000    0.166141   \n",
       "4       0.0      0.0  0.139862  0.129529  0.136614       0.131908    0.013100   \n",
       "\n",
       "   SalePrice  \n",
       "0     208500  \n",
       "1     181500  \n",
       "2     223500  \n",
       "3     140000  \n",
       "4     250000  \n",
       "\n",
       "[5 rows x 75 columns]"
      ]
     },
     "execution_count": 2,
     "metadata": {},
     "output_type": "execute_result"
    }
   ],
   "source": [
    "df=pd.read_csv(r\"C:\\Users\\NTCUONG\\notebook\\training_LR\\training5.csv\")\n",
    "df.head()"
   ]
  },
  {
   "cell_type": "code",
   "execution_count": 3,
   "id": "221b1e6b-7ba5-40f7-bef3-2097671f9fa5",
   "metadata": {},
   "outputs": [],
   "source": [
    "corr=df.corr()"
   ]
  },
  {
   "cell_type": "code",
   "execution_count": 4,
   "id": "92a171c4-6d0f-4ae9-955e-006b7a8ce7ff",
   "metadata": {},
   "outputs": [
    {
     "data": {
      "text/html": [
       "<div>\n",
       "<style scoped>\n",
       "    .dataframe tbody tr th:only-of-type {\n",
       "        vertical-align: middle;\n",
       "    }\n",
       "\n",
       "    .dataframe tbody tr th {\n",
       "        vertical-align: top;\n",
       "    }\n",
       "\n",
       "    .dataframe thead th {\n",
       "        text-align: right;\n",
       "    }\n",
       "</style>\n",
       "<table border=\"1\" class=\"dataframe\">\n",
       "  <thead>\n",
       "    <tr style=\"text-align: right;\">\n",
       "      <th></th>\n",
       "      <th>MSSubClass</th>\n",
       "      <th>MSZoning</th>\n",
       "      <th>LotFrontage</th>\n",
       "      <th>LotArea</th>\n",
       "      <th>Street</th>\n",
       "      <th>LotShape</th>\n",
       "      <th>LandContour</th>\n",
       "      <th>Utilities</th>\n",
       "      <th>LotConfig</th>\n",
       "      <th>LandSlope</th>\n",
       "      <th>...</th>\n",
       "      <th>3SsnPorch</th>\n",
       "      <th>ScreenPorch</th>\n",
       "      <th>PoolArea</th>\n",
       "      <th>MiscVal</th>\n",
       "      <th>MoSold</th>\n",
       "      <th>YrSold</th>\n",
       "      <th>SaleType</th>\n",
       "      <th>SaleCondition</th>\n",
       "      <th>Ageofhouse</th>\n",
       "      <th>SalePrice</th>\n",
       "    </tr>\n",
       "  </thead>\n",
       "  <tbody>\n",
       "    <tr>\n",
       "      <th>SalePrice</th>\n",
       "      <td>-0.149958</td>\n",
       "      <td>-0.395050</td>\n",
       "      <td>0.113581</td>\n",
       "      <td>0.317537</td>\n",
       "      <td>-0.488240</td>\n",
       "      <td>-0.317057</td>\n",
       "      <td>-0.200098</td>\n",
       "      <td>-0.014314</td>\n",
       "      <td>-0.165933</td>\n",
       "      <td>0.005742</td>\n",
       "      <td>...</td>\n",
       "      <td>0.042390</td>\n",
       "      <td>0.090962</td>\n",
       "      <td>0.085395</td>\n",
       "      <td>-0.026840</td>\n",
       "      <td>-0.098794</td>\n",
       "      <td>-0.573913</td>\n",
       "      <td>-0.307684</td>\n",
       "      <td>-0.001034</td>\n",
       "      <td>-0.571548</td>\n",
       "      <td>1.000000</td>\n",
       "    </tr>\n",
       "    <tr>\n",
       "      <th>GrLivArea</th>\n",
       "      <td>0.109397</td>\n",
       "      <td>-0.208915</td>\n",
       "      <td>0.099421</td>\n",
       "      <td>-0.015611</td>\n",
       "      <td>-0.224525</td>\n",
       "      <td>-0.168171</td>\n",
       "      <td>-0.128206</td>\n",
       "      <td>-0.020050</td>\n",
       "      <td>-0.100007</td>\n",
       "      <td>-0.048385</td>\n",
       "      <td>...</td>\n",
       "      <td>0.007700</td>\n",
       "      <td>0.052381</td>\n",
       "      <td>0.053335</td>\n",
       "      <td>-0.037432</td>\n",
       "      <td>-0.011940</td>\n",
       "      <td>-0.271855</td>\n",
       "      <td>-0.175348</td>\n",
       "      <td>-0.041676</td>\n",
       "      <td>-0.228113</td>\n",
       "      <td>0.589120</td>\n",
       "    </tr>\n",
       "    <tr>\n",
       "      <th>GarageArea</th>\n",
       "      <td>-0.102609</td>\n",
       "      <td>-0.272965</td>\n",
       "      <td>0.163152</td>\n",
       "      <td>0.069512</td>\n",
       "      <td>-0.206190</td>\n",
       "      <td>-0.167510</td>\n",
       "      <td>-0.007230</td>\n",
       "      <td>0.000376</td>\n",
       "      <td>-0.087617</td>\n",
       "      <td>-0.063508</td>\n",
       "      <td>...</td>\n",
       "      <td>0.027967</td>\n",
       "      <td>0.018784</td>\n",
       "      <td>-0.006017</td>\n",
       "      <td>-0.042975</td>\n",
       "      <td>-0.030864</td>\n",
       "      <td>-0.209394</td>\n",
       "      <td>-0.180956</td>\n",
       "      <td>0.078789</td>\n",
       "      <td>-0.504633</td>\n",
       "      <td>0.505566</td>\n",
       "    </tr>\n",
       "    <tr>\n",
       "      <th>GarageCars</th>\n",
       "      <td>-0.025598</td>\n",
       "      <td>-0.226690</td>\n",
       "      <td>0.131242</td>\n",
       "      <td>0.014013</td>\n",
       "      <td>-0.165928</td>\n",
       "      <td>-0.177420</td>\n",
       "      <td>-0.005890</td>\n",
       "      <td>0.001519</td>\n",
       "      <td>-0.085281</td>\n",
       "      <td>-0.069889</td>\n",
       "      <td>...</td>\n",
       "      <td>0.027165</td>\n",
       "      <td>0.015425</td>\n",
       "      <td>-0.017865</td>\n",
       "      <td>-0.060124</td>\n",
       "      <td>-0.016287</td>\n",
       "      <td>-0.172838</td>\n",
       "      <td>-0.147486</td>\n",
       "      <td>0.097013</td>\n",
       "      <td>-0.558473</td>\n",
       "      <td>0.504552</td>\n",
       "    </tr>\n",
       "    <tr>\n",
       "      <th>TotalBsmtSF</th>\n",
       "      <td>-0.254642</td>\n",
       "      <td>-0.150886</td>\n",
       "      <td>0.175788</td>\n",
       "      <td>0.059492</td>\n",
       "      <td>-0.126953</td>\n",
       "      <td>-0.170931</td>\n",
       "      <td>0.001812</td>\n",
       "      <td>-0.022100</td>\n",
       "      <td>-0.037908</td>\n",
       "      <td>-0.047332</td>\n",
       "      <td>...</td>\n",
       "      <td>0.030134</td>\n",
       "      <td>0.062056</td>\n",
       "      <td>0.009560</td>\n",
       "      <td>-0.043781</td>\n",
       "      <td>-0.016115</td>\n",
       "      <td>-0.159271</td>\n",
       "      <td>-0.161371</td>\n",
       "      <td>0.024657</td>\n",
       "      <td>-0.400962</td>\n",
       "      <td>0.500621</td>\n",
       "    </tr>\n",
       "    <tr>\n",
       "      <th>OverallQual</th>\n",
       "      <td>0.158913</td>\n",
       "      <td>-0.069057</td>\n",
       "      <td>0.056226</td>\n",
       "      <td>-0.338996</td>\n",
       "      <td>0.145592</td>\n",
       "      <td>-0.086879</td>\n",
       "      <td>0.110167</td>\n",
       "      <td>-0.016284</td>\n",
       "      <td>0.046199</td>\n",
       "      <td>-0.166283</td>\n",
       "      <td>...</td>\n",
       "      <td>0.006592</td>\n",
       "      <td>0.005374</td>\n",
       "      <td>-0.027426</td>\n",
       "      <td>-0.061161</td>\n",
       "      <td>0.091586</td>\n",
       "      <td>0.161213</td>\n",
       "      <td>0.009252</td>\n",
       "      <td>0.185739</td>\n",
       "      <td>-0.498392</td>\n",
       "      <td>0.488216</td>\n",
       "    </tr>\n",
       "    <tr>\n",
       "      <th>1stFlrSF</th>\n",
       "      <td>-0.244680</td>\n",
       "      <td>-0.102913</td>\n",
       "      <td>0.205277</td>\n",
       "      <td>0.009925</td>\n",
       "      <td>-0.105627</td>\n",
       "      <td>-0.135931</td>\n",
       "      <td>-0.032153</td>\n",
       "      <td>0.002520</td>\n",
       "      <td>-0.040561</td>\n",
       "      <td>-0.039258</td>\n",
       "      <td>...</td>\n",
       "      <td>0.042364</td>\n",
       "      <td>0.054946</td>\n",
       "      <td>0.018800</td>\n",
       "      <td>-0.055110</td>\n",
       "      <td>0.003352</td>\n",
       "      <td>-0.132602</td>\n",
       "      <td>-0.181235</td>\n",
       "      <td>-0.006951</td>\n",
       "      <td>-0.282207</td>\n",
       "      <td>0.436239</td>\n",
       "    </tr>\n",
       "    <tr>\n",
       "      <th>MasVnrArea</th>\n",
       "      <td>0.024757</td>\n",
       "      <td>-0.156048</td>\n",
       "      <td>0.043841</td>\n",
       "      <td>0.025674</td>\n",
       "      <td>-0.192391</td>\n",
       "      <td>-0.113695</td>\n",
       "      <td>-0.023828</td>\n",
       "      <td>0.060766</td>\n",
       "      <td>-0.054439</td>\n",
       "      <td>-0.049446</td>\n",
       "      <td>...</td>\n",
       "      <td>0.018037</td>\n",
       "      <td>0.053694</td>\n",
       "      <td>-0.018137</td>\n",
       "      <td>-0.033129</td>\n",
       "      <td>-0.054778</td>\n",
       "      <td>-0.213859</td>\n",
       "      <td>-0.144448</td>\n",
       "      <td>-0.013854</td>\n",
       "      <td>-0.322663</td>\n",
       "      <td>0.426354</td>\n",
       "    </tr>\n",
       "    <tr>\n",
       "      <th>Fireplaces</th>\n",
       "      <td>-0.061848</td>\n",
       "      <td>-0.126831</td>\n",
       "      <td>0.074122</td>\n",
       "      <td>0.179437</td>\n",
       "      <td>-0.233658</td>\n",
       "      <td>-0.209772</td>\n",
       "      <td>-0.134864</td>\n",
       "      <td>0.013120</td>\n",
       "      <td>-0.094607</td>\n",
       "      <td>0.033067</td>\n",
       "      <td>...</td>\n",
       "      <td>0.008254</td>\n",
       "      <td>0.169294</td>\n",
       "      <td>0.050150</td>\n",
       "      <td>-0.006998</td>\n",
       "      <td>-0.028060</td>\n",
       "      <td>-0.284568</td>\n",
       "      <td>-0.110770</td>\n",
       "      <td>-0.000086</td>\n",
       "      <td>-0.176910</td>\n",
       "      <td>0.399534</td>\n",
       "    </tr>\n",
       "    <tr>\n",
       "      <th>FullBath</th>\n",
       "      <td>0.166597</td>\n",
       "      <td>-0.228867</td>\n",
       "      <td>0.023200</td>\n",
       "      <td>-0.132801</td>\n",
       "      <td>-0.062543</td>\n",
       "      <td>-0.136374</td>\n",
       "      <td>0.037362</td>\n",
       "      <td>-0.034132</td>\n",
       "      <td>0.003399</td>\n",
       "      <td>-0.118610</td>\n",
       "      <td>...</td>\n",
       "      <td>0.025886</td>\n",
       "      <td>-0.061983</td>\n",
       "      <td>-0.011930</td>\n",
       "      <td>-0.036091</td>\n",
       "      <td>0.019664</td>\n",
       "      <td>-0.081209</td>\n",
       "      <td>-0.083164</td>\n",
       "      <td>0.089712</td>\n",
       "      <td>-0.480101</td>\n",
       "      <td>0.395909</td>\n",
       "    </tr>\n",
       "  </tbody>\n",
       "</table>\n",
       "<p>10 rows × 75 columns</p>\n",
       "</div>"
      ],
      "text/plain": [
       "             MSSubClass  MSZoning  LotFrontage   LotArea    Street  LotShape  \\\n",
       "SalePrice     -0.149958 -0.395050     0.113581  0.317537 -0.488240 -0.317057   \n",
       "GrLivArea      0.109397 -0.208915     0.099421 -0.015611 -0.224525 -0.168171   \n",
       "GarageArea    -0.102609 -0.272965     0.163152  0.069512 -0.206190 -0.167510   \n",
       "GarageCars    -0.025598 -0.226690     0.131242  0.014013 -0.165928 -0.177420   \n",
       "TotalBsmtSF   -0.254642 -0.150886     0.175788  0.059492 -0.126953 -0.170931   \n",
       "OverallQual    0.158913 -0.069057     0.056226 -0.338996  0.145592 -0.086879   \n",
       "1stFlrSF      -0.244680 -0.102913     0.205277  0.009925 -0.105627 -0.135931   \n",
       "MasVnrArea     0.024757 -0.156048     0.043841  0.025674 -0.192391 -0.113695   \n",
       "Fireplaces    -0.061848 -0.126831     0.074122  0.179437 -0.233658 -0.209772   \n",
       "FullBath       0.166597 -0.228867     0.023200 -0.132801 -0.062543 -0.136374   \n",
       "\n",
       "             LandContour  Utilities  LotConfig  LandSlope  ...  3SsnPorch  \\\n",
       "SalePrice      -0.200098  -0.014314  -0.165933   0.005742  ...   0.042390   \n",
       "GrLivArea      -0.128206  -0.020050  -0.100007  -0.048385  ...   0.007700   \n",
       "GarageArea     -0.007230   0.000376  -0.087617  -0.063508  ...   0.027967   \n",
       "GarageCars     -0.005890   0.001519  -0.085281  -0.069889  ...   0.027165   \n",
       "TotalBsmtSF     0.001812  -0.022100  -0.037908  -0.047332  ...   0.030134   \n",
       "OverallQual     0.110167  -0.016284   0.046199  -0.166283  ...   0.006592   \n",
       "1stFlrSF       -0.032153   0.002520  -0.040561  -0.039258  ...   0.042364   \n",
       "MasVnrArea     -0.023828   0.060766  -0.054439  -0.049446  ...   0.018037   \n",
       "Fireplaces     -0.134864   0.013120  -0.094607   0.033067  ...   0.008254   \n",
       "FullBath        0.037362  -0.034132   0.003399  -0.118610  ...   0.025886   \n",
       "\n",
       "             ScreenPorch  PoolArea   MiscVal    MoSold    YrSold  SaleType  \\\n",
       "SalePrice       0.090962  0.085395 -0.026840 -0.098794 -0.573913 -0.307684   \n",
       "GrLivArea       0.052381  0.053335 -0.037432 -0.011940 -0.271855 -0.175348   \n",
       "GarageArea      0.018784 -0.006017 -0.042975 -0.030864 -0.209394 -0.180956   \n",
       "GarageCars      0.015425 -0.017865 -0.060124 -0.016287 -0.172838 -0.147486   \n",
       "TotalBsmtSF     0.062056  0.009560 -0.043781 -0.016115 -0.159271 -0.161371   \n",
       "OverallQual     0.005374 -0.027426 -0.061161  0.091586  0.161213  0.009252   \n",
       "1stFlrSF        0.054946  0.018800 -0.055110  0.003352 -0.132602 -0.181235   \n",
       "MasVnrArea      0.053694 -0.018137 -0.033129 -0.054778 -0.213859 -0.144448   \n",
       "Fireplaces      0.169294  0.050150 -0.006998 -0.028060 -0.284568 -0.110770   \n",
       "FullBath       -0.061983 -0.011930 -0.036091  0.019664 -0.081209 -0.083164   \n",
       "\n",
       "             SaleCondition  Ageofhouse  SalePrice  \n",
       "SalePrice        -0.001034   -0.571548   1.000000  \n",
       "GrLivArea        -0.041676   -0.228113   0.589120  \n",
       "GarageArea        0.078789   -0.504633   0.505566  \n",
       "GarageCars        0.097013   -0.558473   0.504552  \n",
       "TotalBsmtSF       0.024657   -0.400962   0.500621  \n",
       "OverallQual       0.185739   -0.498392   0.488216  \n",
       "1stFlrSF         -0.006951   -0.282207   0.436239  \n",
       "MasVnrArea       -0.013854   -0.322663   0.426354  \n",
       "Fireplaces       -0.000086   -0.176910   0.399534  \n",
       "FullBath          0.089712   -0.480101   0.395909  \n",
       "\n",
       "[10 rows x 75 columns]"
      ]
     },
     "execution_count": 4,
     "metadata": {},
     "output_type": "execute_result"
    }
   ],
   "source": [
    "df.corr().sort_values(\"SalePrice\",ascending=False).head(10)"
   ]
  },
  {
   "cell_type": "code",
   "execution_count": 5,
   "id": "4f7ca938-bf89-4ace-982a-7da06043210d",
   "metadata": {},
   "outputs": [],
   "source": [
    "def create_df(col_list):\n",
    "    df_fs=df[\"SalePrice\"]\n",
    "    for col in col_list:\n",
    "        df_fs=pd.concat([df[col],df_fs],axis=1)\n",
    "    return df_fs"
   ]
  },
  {
   "cell_type": "code",
   "execution_count": 6,
   "id": "bb758b00-c63d-4136-8512-b12298e30c45",
   "metadata": {},
   "outputs": [],
   "source": [
    "base_models = [\n",
    "    ('lr', LinearRegression()),\n",
    "    ('dt', DecisionTreeRegressor(random_state=42)),\n",
    "    ('rf', RandomForestRegressor(n_estimators=10, random_state=42)),\n",
    "    ('svr', SVR(kernel='rbf'))\n",
    "]\n",
    "meta_model = LinearRegression()\n",
    "model = StackingRegressor(estimators=base_models, final_estimator=meta_model)"
   ]
  },
  {
   "cell_type": "code",
   "execution_count": 7,
   "id": "4b59a939-75fa-4fb9-8bcf-dd8468f7961a",
   "metadata": {},
   "outputs": [],
   "source": [
    "def eval(df_fs):\n",
    "    X_train,X_test,y_train,y_test=train_test_split(df_fs.iloc[:,:-1],df_fs.iloc[:,-1],test_size=0.2,random_state=42)\n",
    "    model.fit(X_train,y_train)\n",
    "    y_pre=model.predict(X_test)\n",
    "    k.append(i)\n",
    "    mae.append(mean_absolute_error(y_test,y_pre))\n",
    "    rmse.append(root_mean_squared_error(y_test,y_pre))\n",
    "    r2.append(r2_score(y_test,y_pre))"
   ]
  },
  {
   "cell_type": "markdown",
   "id": "eb18d0bb-4c87-4f34-b0ed-85cdd79b3957",
   "metadata": {},
   "source": [
    "### FEATURE SELECTION DEPEND ON CORRELATION MATRIX"
   ]
  },
  {
   "cell_type": "markdown",
   "id": "ea09629b-a292-4f8f-a43d-25a91ca7e2c9",
   "metadata": {},
   "source": [
    "plt.figure(figsize=(12,10))\n",
    "sns.heatmap(df.corr(),cmap='coolwarm')"
   ]
  },
  {
   "cell_type": "code",
   "execution_count": 8,
   "id": "c5b3afc4-6809-45dc-ba5b-7dcc24712c33",
   "metadata": {},
   "outputs": [
    {
     "data": {
      "text/plain": [
       "Index(['SalePrice', 'GrLivArea', 'GarageArea', 'GarageCars', 'TotalBsmtSF',\n",
       "       'OverallQual', '1stFlrSF', 'MasVnrArea', 'Fireplaces', 'FullBath'],\n",
       "      dtype='object')"
      ]
     },
     "execution_count": 8,
     "metadata": {},
     "output_type": "execute_result"
    }
   ],
   "source": [
    "c=corr.sort_values(\"SalePrice\",ascending=False).head(10).index\n",
    "c"
   ]
  },
  {
   "cell_type": "code",
   "execution_count": 9,
   "id": "0894d8df-f9a6-4868-a282-f954c8dd1219",
   "metadata": {},
   "outputs": [
    {
     "data": {
      "text/html": [
       "<div>\n",
       "<style scoped>\n",
       "    .dataframe tbody tr th:only-of-type {\n",
       "        vertical-align: middle;\n",
       "    }\n",
       "\n",
       "    .dataframe tbody tr th {\n",
       "        vertical-align: top;\n",
       "    }\n",
       "\n",
       "    .dataframe thead th {\n",
       "        text-align: right;\n",
       "    }\n",
       "</style>\n",
       "<table border=\"1\" class=\"dataframe\">\n",
       "  <thead>\n",
       "    <tr style=\"text-align: right;\">\n",
       "      <th></th>\n",
       "      <th>K</th>\n",
       "      <th>MAE</th>\n",
       "      <th>RMSE</th>\n",
       "      <th>r2</th>\n",
       "    </tr>\n",
       "  </thead>\n",
       "  <tbody>\n",
       "    <tr>\n",
       "      <th>0</th>\n",
       "      <td>10</td>\n",
       "      <td>25633.039297</td>\n",
       "      <td>42667.347315</td>\n",
       "      <td>0.762656</td>\n",
       "    </tr>\n",
       "    <tr>\n",
       "      <th>1</th>\n",
       "      <td>11</td>\n",
       "      <td>23679.368662</td>\n",
       "      <td>41108.761323</td>\n",
       "      <td>0.779679</td>\n",
       "    </tr>\n",
       "    <tr>\n",
       "      <th>2</th>\n",
       "      <td>12</td>\n",
       "      <td>23762.552791</td>\n",
       "      <td>38873.219695</td>\n",
       "      <td>0.802990</td>\n",
       "    </tr>\n",
       "    <tr>\n",
       "      <th>3</th>\n",
       "      <td>13</td>\n",
       "      <td>23226.181175</td>\n",
       "      <td>38812.696626</td>\n",
       "      <td>0.803603</td>\n",
       "    </tr>\n",
       "    <tr>\n",
       "      <th>4</th>\n",
       "      <td>14</td>\n",
       "      <td>23451.760621</td>\n",
       "      <td>37858.016412</td>\n",
       "      <td>0.813146</td>\n",
       "    </tr>\n",
       "    <tr>\n",
       "      <th>...</th>\n",
       "      <td>...</td>\n",
       "      <td>...</td>\n",
       "      <td>...</td>\n",
       "      <td>...</td>\n",
       "    </tr>\n",
       "    <tr>\n",
       "      <th>105</th>\n",
       "      <td>115</td>\n",
       "      <td>19810.433822</td>\n",
       "      <td>32939.555334</td>\n",
       "      <td>0.858544</td>\n",
       "    </tr>\n",
       "    <tr>\n",
       "      <th>106</th>\n",
       "      <td>116</td>\n",
       "      <td>19810.433822</td>\n",
       "      <td>32939.555334</td>\n",
       "      <td>0.858544</td>\n",
       "    </tr>\n",
       "    <tr>\n",
       "      <th>107</th>\n",
       "      <td>117</td>\n",
       "      <td>19810.433822</td>\n",
       "      <td>32939.555334</td>\n",
       "      <td>0.858544</td>\n",
       "    </tr>\n",
       "    <tr>\n",
       "      <th>108</th>\n",
       "      <td>118</td>\n",
       "      <td>19810.433822</td>\n",
       "      <td>32939.555334</td>\n",
       "      <td>0.858544</td>\n",
       "    </tr>\n",
       "    <tr>\n",
       "      <th>109</th>\n",
       "      <td>119</td>\n",
       "      <td>19810.433822</td>\n",
       "      <td>32939.555334</td>\n",
       "      <td>0.858544</td>\n",
       "    </tr>\n",
       "  </tbody>\n",
       "</table>\n",
       "<p>110 rows × 4 columns</p>\n",
       "</div>"
      ],
      "text/plain": [
       "       K           MAE          RMSE        r2\n",
       "0     10  25633.039297  42667.347315  0.762656\n",
       "1     11  23679.368662  41108.761323  0.779679\n",
       "2     12  23762.552791  38873.219695  0.802990\n",
       "3     13  23226.181175  38812.696626  0.803603\n",
       "4     14  23451.760621  37858.016412  0.813146\n",
       "..   ...           ...           ...       ...\n",
       "105  115  19810.433822  32939.555334  0.858544\n",
       "106  116  19810.433822  32939.555334  0.858544\n",
       "107  117  19810.433822  32939.555334  0.858544\n",
       "108  118  19810.433822  32939.555334  0.858544\n",
       "109  119  19810.433822  32939.555334  0.858544\n",
       "\n",
       "[110 rows x 4 columns]"
      ]
     },
     "execution_count": 9,
     "metadata": {},
     "output_type": "execute_result"
    }
   ],
   "source": [
    "k, mae, rmse, r2 = [], [], [], []\n",
    "for i in range(10,120):\n",
    "    c=corr.sort_values(\"SalePrice\",ascending=False).iloc[1:i,:].index\n",
    "    df_fs=create_df(c)\n",
    "    eval(df_fs)\n",
    "statistic_tup={\n",
    "    \"K\":k,\n",
    "    \"MAE\":mae,\n",
    "    \"RMSE\":rmse,\n",
    "    \"r2\":r2\n",
    "}\n",
    "statistic=pd.DataFrame(statistic_tup)\n",
    "statistic"
   ]
  },
  {
   "cell_type": "code",
   "execution_count": 10,
   "id": "676d601a-5843-48a7-b013-75622f2dd80c",
   "metadata": {},
   "outputs": [
    {
     "data": {
      "text/html": [
       "<div>\n",
       "<style scoped>\n",
       "    .dataframe tbody tr th:only-of-type {\n",
       "        vertical-align: middle;\n",
       "    }\n",
       "\n",
       "    .dataframe tbody tr th {\n",
       "        vertical-align: top;\n",
       "    }\n",
       "\n",
       "    .dataframe thead th {\n",
       "        text-align: right;\n",
       "    }\n",
       "</style>\n",
       "<table border=\"1\" class=\"dataframe\">\n",
       "  <thead>\n",
       "    <tr style=\"text-align: right;\">\n",
       "      <th></th>\n",
       "      <th>K</th>\n",
       "      <th>MAE</th>\n",
       "      <th>RMSE</th>\n",
       "      <th>r2</th>\n",
       "    </tr>\n",
       "  </thead>\n",
       "  <tbody>\n",
       "    <tr>\n",
       "      <th>51</th>\n",
       "      <td>61</td>\n",
       "      <td>19081.742583</td>\n",
       "      <td>29806.931882</td>\n",
       "      <td>0.884170</td>\n",
       "    </tr>\n",
       "    <tr>\n",
       "      <th>52</th>\n",
       "      <td>62</td>\n",
       "      <td>19605.651127</td>\n",
       "      <td>30156.027813</td>\n",
       "      <td>0.881441</td>\n",
       "    </tr>\n",
       "    <tr>\n",
       "      <th>49</th>\n",
       "      <td>59</td>\n",
       "      <td>19724.488358</td>\n",
       "      <td>31902.206962</td>\n",
       "      <td>0.867313</td>\n",
       "    </tr>\n",
       "    <tr>\n",
       "      <th>109</th>\n",
       "      <td>119</td>\n",
       "      <td>19810.433822</td>\n",
       "      <td>32939.555334</td>\n",
       "      <td>0.858544</td>\n",
       "    </tr>\n",
       "    <tr>\n",
       "      <th>82</th>\n",
       "      <td>92</td>\n",
       "      <td>19810.433822</td>\n",
       "      <td>32939.555334</td>\n",
       "      <td>0.858544</td>\n",
       "    </tr>\n",
       "    <tr>\n",
       "      <th>...</th>\n",
       "      <td>...</td>\n",
       "      <td>...</td>\n",
       "      <td>...</td>\n",
       "      <td>...</td>\n",
       "    </tr>\n",
       "    <tr>\n",
       "      <th>1</th>\n",
       "      <td>11</td>\n",
       "      <td>23679.368662</td>\n",
       "      <td>41108.761323</td>\n",
       "      <td>0.779679</td>\n",
       "    </tr>\n",
       "    <tr>\n",
       "      <th>2</th>\n",
       "      <td>12</td>\n",
       "      <td>23762.552791</td>\n",
       "      <td>38873.219695</td>\n",
       "      <td>0.802990</td>\n",
       "    </tr>\n",
       "    <tr>\n",
       "      <th>5</th>\n",
       "      <td>15</td>\n",
       "      <td>23967.178101</td>\n",
       "      <td>39001.569732</td>\n",
       "      <td>0.801687</td>\n",
       "    </tr>\n",
       "    <tr>\n",
       "      <th>6</th>\n",
       "      <td>16</td>\n",
       "      <td>24070.256487</td>\n",
       "      <td>39506.474009</td>\n",
       "      <td>0.796520</td>\n",
       "    </tr>\n",
       "    <tr>\n",
       "      <th>0</th>\n",
       "      <td>10</td>\n",
       "      <td>25633.039297</td>\n",
       "      <td>42667.347315</td>\n",
       "      <td>0.762656</td>\n",
       "    </tr>\n",
       "  </tbody>\n",
       "</table>\n",
       "<p>110 rows × 4 columns</p>\n",
       "</div>"
      ],
      "text/plain": [
       "       K           MAE          RMSE        r2\n",
       "51    61  19081.742583  29806.931882  0.884170\n",
       "52    62  19605.651127  30156.027813  0.881441\n",
       "49    59  19724.488358  31902.206962  0.867313\n",
       "109  119  19810.433822  32939.555334  0.858544\n",
       "82    92  19810.433822  32939.555334  0.858544\n",
       "..   ...           ...           ...       ...\n",
       "1     11  23679.368662  41108.761323  0.779679\n",
       "2     12  23762.552791  38873.219695  0.802990\n",
       "5     15  23967.178101  39001.569732  0.801687\n",
       "6     16  24070.256487  39506.474009  0.796520\n",
       "0     10  25633.039297  42667.347315  0.762656\n",
       "\n",
       "[110 rows x 4 columns]"
      ]
     },
     "execution_count": 10,
     "metadata": {},
     "output_type": "execute_result"
    }
   ],
   "source": [
    "statistic.sort_values(\"MAE\",ascending=True)"
   ]
  },
  {
   "cell_type": "code",
   "execution_count": 11,
   "id": "27f2b7d8-71ae-47dd-8abe-025035855a86",
   "metadata": {},
   "outputs": [
    {
     "name": "stderr",
     "output_type": "stream",
     "text": [
      "C:\\Users\\NTCUONG\\AppData\\Local\\Temp\\ipykernel_10668\\3627608168.py:4: UserWarning: set_ticklabels() should only be used with a fixed number of ticks, i.e. after set_ticks() or using a FixedLocator.\n",
      "  ax1.set_xticklabels(ax1.get_xticklabels(), rotation=90, ha=\"left\")\n",
      "C:\\Users\\NTCUONG\\AppData\\Local\\Temp\\ipykernel_10668\\3627608168.py:5: UserWarning: set_ticklabels() should only be used with a fixed number of ticks, i.e. after set_ticks() or using a FixedLocator.\n",
      "  ax2.set_xticklabels(ax2.get_xticklabels(), rotation=90, ha=\"left\")\n"
     ]
    },
    {
     "data": {
      "image/png": "[encoded data removed]",
      "text/plain": [
       "<Figure size 2000x500 with 2 Axes>"
      ]
     },
     "metadata": {},
     "output_type": "display_data"
    }
   ],
   "source": [
    "fig,axes=plt.subplots(nrows=1,ncols=2,figsize=(20,5))\n",
    "ax1=sns.lineplot(data=statistic,x=\"K\",y=\"MAE\",ax=axes[0])\n",
    "ax2=sns.lineplot(data=statistic,x=\"K\",y=\"r2\",ax=axes[1])\n",
    "ax1.set_xticklabels(ax1.get_xticklabels(), rotation=90, ha=\"left\")\n",
    "ax2.set_xticklabels(ax2.get_xticklabels(), rotation=90, ha=\"left\")\n",
    "plt.show()"
   ]
  },
  {
   "cell_type": "markdown",
   "id": "31e87dce-57c8-4e2f-8555-3c918912d6cd",
   "metadata": {
    "jp-MarkdownHeadingCollapsed": true
   },
   "source": [
    "### FEATURE SELECTION BY REMOVE FEATURE WITH LOW VARIENCE\n"
   ]
  },
  {
   "cell_type": "markdown",
   "id": "28560394-79b9-49f6-bb5d-34ab6ee562db",
   "metadata": {},
   "source": [
    "### 1.CALCULATE VARIENCE FOR EACH FEATURE"
   ]
  },
  {
   "cell_type": "code",
   "execution_count": 12,
   "id": "4d8c0fbe-ef2c-4133-8094-6c65f052c1ee",
   "metadata": {},
   "outputs": [
    {
     "name": "stderr",
     "output_type": "stream",
     "text": [
      "D:\\miniconda\\lib\\site-packages\\numpy\\core\\fromnumeric.py:3785: FutureWarning: The behavior of DataFrame.var with axis=None is deprecated, in a future version this will reduce over both axes and return a scalar. To retain the old behavior, pass axis=0 (or do not pass axis)\n",
      "  return var(axis=axis, dtype=dtype, out=out, ddof=ddof, **kwargs)\n"
     ]
    },
    {
     "data": {
      "text/plain": [
       "MSSubClass       1.421058e-03\n",
       "MSZoning         8.135175e-04\n",
       "LotFrontage      6.080463e-04\n",
       "LotArea          1.746308e-02\n",
       "Street           3.336710e-04\n",
       "                     ...     \n",
       "YrSold           3.250450e-04\n",
       "SaleType         1.130013e-03\n",
       "SaleCondition    1.792836e-03\n",
       "Ageofhouse       3.218771e-03\n",
       "SalePrice        6.306789e+09\n",
       "Length: 75, dtype: float64"
      ]
     },
     "execution_count": 12,
     "metadata": {},
     "output_type": "execute_result"
    }
   ],
   "source": [
    "varr=np.var(df)\n",
    "varr"
   ]
  },
  {
   "cell_type": "code",
   "execution_count": 13,
   "id": "deee7fd7-9118-4748-910d-627416ff8b46",
   "metadata": {
    "scrolled": true
   },
   "outputs": [
    {
     "data": {
      "text/plain": [
       "Index(['SalePrice'], dtype='object')"
      ]
     },
     "execution_count": 13,
     "metadata": {},
     "output_type": "execute_result"
    }
   ],
   "source": [
    "varr.loc[varr > 0.1].index"
   ]
  },
  {
   "cell_type": "markdown",
   "id": "bd3036f0-0249-4f8d-bd5d-6eb8538410ba",
   "metadata": {},
   "source": [
    "### 2.USING VarianceThreshold FROM SKLEARN"
   ]
  },
  {
   "cell_type": "code",
   "execution_count": 14,
   "id": "9c594e26-b851-474f-88bd-81e1ba0ecf3d",
   "metadata": {},
   "outputs": [],
   "source": [
    "from sklearn.feature_selection import VarianceThreshold"
   ]
  },
  {
   "cell_type": "code",
   "execution_count": 15,
   "id": "b9ceabd8-3df1-4f20-896f-0fc47f18efc7",
   "metadata": {},
   "outputs": [
    {
     "data": {
      "text/plain": [
       "Index(['SalePrice'], dtype='object')"
      ]
     },
     "execution_count": 15,
     "metadata": {},
     "output_type": "execute_result"
    }
   ],
   "source": [
    "varr_thresh=VarianceThreshold(threshold=0.1)\n",
    "varr_thresh.fit_transform(df)\n",
    "selected_columns = df.columns[varr_thresh.get_support()]\n",
    "selected_columns"
   ]
  },
  {
   "cell_type": "code",
   "execution_count": 16,
   "id": "3050b1c6-5a9e-4af1-a6e9-f6651ae6a861",
   "metadata": {},
   "outputs": [
    {
     "data": {
      "text/html": [
       "<div>\n",
       "<style scoped>\n",
       "    .dataframe tbody tr th:only-of-type {\n",
       "        vertical-align: middle;\n",
       "    }\n",
       "\n",
       "    .dataframe tbody tr th {\n",
       "        vertical-align: top;\n",
       "    }\n",
       "\n",
       "    .dataframe thead th {\n",
       "        text-align: right;\n",
       "    }\n",
       "</style>\n",
       "<table border=\"1\" class=\"dataframe\">\n",
       "  <thead>\n",
       "    <tr style=\"text-align: right;\">\n",
       "      <th></th>\n",
       "      <th>K</th>\n",
       "      <th>MAE</th>\n",
       "      <th>RMSE</th>\n",
       "      <th>r2</th>\n",
       "    </tr>\n",
       "  </thead>\n",
       "  <tbody>\n",
       "    <tr>\n",
       "      <th>0</th>\n",
       "      <td>100</td>\n",
       "      <td>20486.874042</td>\n",
       "      <td>33711.969896</td>\n",
       "      <td>0.851832</td>\n",
       "    </tr>\n",
       "    <tr>\n",
       "      <th>1</th>\n",
       "      <td>101</td>\n",
       "      <td>20486.874042</td>\n",
       "      <td>33711.969896</td>\n",
       "      <td>0.851832</td>\n",
       "    </tr>\n",
       "    <tr>\n",
       "      <th>2</th>\n",
       "      <td>102</td>\n",
       "      <td>20414.231877</td>\n",
       "      <td>33290.891741</td>\n",
       "      <td>0.855510</td>\n",
       "    </tr>\n",
       "    <tr>\n",
       "      <th>3</th>\n",
       "      <td>103</td>\n",
       "      <td>20414.231877</td>\n",
       "      <td>33290.891741</td>\n",
       "      <td>0.855510</td>\n",
       "    </tr>\n",
       "    <tr>\n",
       "      <th>4</th>\n",
       "      <td>104</td>\n",
       "      <td>20414.231877</td>\n",
       "      <td>33290.891741</td>\n",
       "      <td>0.855510</td>\n",
       "    </tr>\n",
       "    <tr>\n",
       "      <th>...</th>\n",
       "      <td>...</td>\n",
       "      <td>...</td>\n",
       "      <td>...</td>\n",
       "      <td>...</td>\n",
       "    </tr>\n",
       "    <tr>\n",
       "      <th>395</th>\n",
       "      <td>495</td>\n",
       "      <td>45330.045657</td>\n",
       "      <td>71616.089774</td>\n",
       "      <td>0.331337</td>\n",
       "    </tr>\n",
       "    <tr>\n",
       "      <th>396</th>\n",
       "      <td>496</td>\n",
       "      <td>45330.045657</td>\n",
       "      <td>71616.089774</td>\n",
       "      <td>0.331337</td>\n",
       "    </tr>\n",
       "    <tr>\n",
       "      <th>397</th>\n",
       "      <td>497</td>\n",
       "      <td>45330.045657</td>\n",
       "      <td>71616.089774</td>\n",
       "      <td>0.331337</td>\n",
       "    </tr>\n",
       "    <tr>\n",
       "      <th>398</th>\n",
       "      <td>498</td>\n",
       "      <td>45330.045657</td>\n",
       "      <td>71616.089774</td>\n",
       "      <td>0.331337</td>\n",
       "    </tr>\n",
       "    <tr>\n",
       "      <th>399</th>\n",
       "      <td>499</td>\n",
       "      <td>45330.045657</td>\n",
       "      <td>71616.089774</td>\n",
       "      <td>0.331337</td>\n",
       "    </tr>\n",
       "  </tbody>\n",
       "</table>\n",
       "<p>400 rows × 4 columns</p>\n",
       "</div>"
      ],
      "text/plain": [
       "       K           MAE          RMSE        r2\n",
       "0    100  20486.874042  33711.969896  0.851832\n",
       "1    101  20486.874042  33711.969896  0.851832\n",
       "2    102  20414.231877  33290.891741  0.855510\n",
       "3    103  20414.231877  33290.891741  0.855510\n",
       "4    104  20414.231877  33290.891741  0.855510\n",
       "..   ...           ...           ...       ...\n",
       "395  495  45330.045657  71616.089774  0.331337\n",
       "396  496  45330.045657  71616.089774  0.331337\n",
       "397  497  45330.045657  71616.089774  0.331337\n",
       "398  498  45330.045657  71616.089774  0.331337\n",
       "399  499  45330.045657  71616.089774  0.331337\n",
       "\n",
       "[400 rows x 4 columns]"
      ]
     },
     "execution_count": 16,
     "metadata": {},
     "output_type": "execute_result"
    }
   ],
   "source": [
    "k, mae, rmse, r2 = [], [], [], []\n",
    "for i in range(100,500):\n",
    "    varr_thresh=VarianceThreshold(threshold=i/100000)\n",
    "    varr_thresh.fit_transform(df.iloc[:,:-1])\n",
    "    selected_columns = df.iloc[:,:-1].columns[varr_thresh.get_support()]\n",
    "    df_fs=create_df(selected_columns)\n",
    "    eval(df_fs)\n",
    "statistic_tup={\n",
    "    \"K\":k,\n",
    "    \"MAE\":mae,\n",
    "    \"RMSE\":rmse,\n",
    "    \"r2\":r2\n",
    "}\n",
    "statistic=pd.DataFrame(statistic_tup)\n",
    "statistic"
   ]
  },
  {
   "cell_type": "code",
   "execution_count": 17,
   "id": "ba8cc36b-f961-4542-a3bc-a690375d2c01",
   "metadata": {},
   "outputs": [
    {
     "data": {
      "text/html": [
       "<div>\n",
       "<style scoped>\n",
       "    .dataframe tbody tr th:only-of-type {\n",
       "        vertical-align: middle;\n",
       "    }\n",
       "\n",
       "    .dataframe tbody tr th {\n",
       "        vertical-align: top;\n",
       "    }\n",
       "\n",
       "    .dataframe thead th {\n",
       "        text-align: right;\n",
       "    }\n",
       "</style>\n",
       "<table border=\"1\" class=\"dataframe\">\n",
       "  <thead>\n",
       "    <tr style=\"text-align: right;\">\n",
       "      <th></th>\n",
       "      <th>K</th>\n",
       "      <th>MAE</th>\n",
       "      <th>RMSE</th>\n",
       "      <th>r2</th>\n",
       "    </tr>\n",
       "  </thead>\n",
       "  <tbody>\n",
       "    <tr>\n",
       "      <th>2</th>\n",
       "      <td>102</td>\n",
       "      <td>20414.231877</td>\n",
       "      <td>33290.891741</td>\n",
       "      <td>0.855510</td>\n",
       "    </tr>\n",
       "    <tr>\n",
       "      <th>3</th>\n",
       "      <td>103</td>\n",
       "      <td>20414.231877</td>\n",
       "      <td>33290.891741</td>\n",
       "      <td>0.855510</td>\n",
       "    </tr>\n",
       "    <tr>\n",
       "      <th>4</th>\n",
       "      <td>104</td>\n",
       "      <td>20414.231877</td>\n",
       "      <td>33290.891741</td>\n",
       "      <td>0.855510</td>\n",
       "    </tr>\n",
       "    <tr>\n",
       "      <th>0</th>\n",
       "      <td>100</td>\n",
       "      <td>20486.874042</td>\n",
       "      <td>33711.969896</td>\n",
       "      <td>0.851832</td>\n",
       "    </tr>\n",
       "    <tr>\n",
       "      <th>1</th>\n",
       "      <td>101</td>\n",
       "      <td>20486.874042</td>\n",
       "      <td>33711.969896</td>\n",
       "      <td>0.851832</td>\n",
       "    </tr>\n",
       "    <tr>\n",
       "      <th>...</th>\n",
       "      <td>...</td>\n",
       "      <td>...</td>\n",
       "      <td>...</td>\n",
       "      <td>...</td>\n",
       "    </tr>\n",
       "    <tr>\n",
       "      <th>373</th>\n",
       "      <td>473</td>\n",
       "      <td>45330.045657</td>\n",
       "      <td>71616.089774</td>\n",
       "      <td>0.331337</td>\n",
       "    </tr>\n",
       "    <tr>\n",
       "      <th>372</th>\n",
       "      <td>472</td>\n",
       "      <td>45330.045657</td>\n",
       "      <td>71616.089774</td>\n",
       "      <td>0.331337</td>\n",
       "    </tr>\n",
       "    <tr>\n",
       "      <th>398</th>\n",
       "      <td>498</td>\n",
       "      <td>45330.045657</td>\n",
       "      <td>71616.089774</td>\n",
       "      <td>0.331337</td>\n",
       "    </tr>\n",
       "    <tr>\n",
       "      <th>384</th>\n",
       "      <td>484</td>\n",
       "      <td>45330.045657</td>\n",
       "      <td>71616.089774</td>\n",
       "      <td>0.331337</td>\n",
       "    </tr>\n",
       "    <tr>\n",
       "      <th>399</th>\n",
       "      <td>499</td>\n",
       "      <td>45330.045657</td>\n",
       "      <td>71616.089774</td>\n",
       "      <td>0.331337</td>\n",
       "    </tr>\n",
       "  </tbody>\n",
       "</table>\n",
       "<p>400 rows × 4 columns</p>\n",
       "</div>"
      ],
      "text/plain": [
       "       K           MAE          RMSE        r2\n",
       "2    102  20414.231877  33290.891741  0.855510\n",
       "3    103  20414.231877  33290.891741  0.855510\n",
       "4    104  20414.231877  33290.891741  0.855510\n",
       "0    100  20486.874042  33711.969896  0.851832\n",
       "1    101  20486.874042  33711.969896  0.851832\n",
       "..   ...           ...           ...       ...\n",
       "373  473  45330.045657  71616.089774  0.331337\n",
       "372  472  45330.045657  71616.089774  0.331337\n",
       "398  498  45330.045657  71616.089774  0.331337\n",
       "384  484  45330.045657  71616.089774  0.331337\n",
       "399  499  45330.045657  71616.089774  0.331337\n",
       "\n",
       "[400 rows x 4 columns]"
      ]
     },
     "execution_count": 17,
     "metadata": {},
     "output_type": "execute_result"
    }
   ],
   "source": [
    "statistic.sort_values(\"MAE\",ascending=True)"
   ]
  },
  {
   "cell_type": "code",
   "execution_count": 18,
   "id": "426be3b2-2b5a-4489-aec5-7c4495e5c6ee",
   "metadata": {},
   "outputs": [
    {
     "name": "stderr",
     "output_type": "stream",
     "text": [
      "C:\\Users\\NTCUONG\\AppData\\Local\\Temp\\ipykernel_10668\\873788412.py:4: UserWarning: set_ticklabels() should only be used with a fixed number of ticks, i.e. after set_ticks() or using a FixedLocator.\n",
      "  ax1.set_xticklabels(ax1.get_xticklabels(), rotation=90, ha=\"left\")\n",
      "C:\\Users\\NTCUONG\\AppData\\Local\\Temp\\ipykernel_10668\\873788412.py:5: UserWarning: set_ticklabels() should only be used with a fixed number of ticks, i.e. after set_ticks() or using a FixedLocator.\n",
      "  ax2.set_xticklabels(ax2.get_xticklabels(), rotation=90, ha=\"left\")\n"
     ]
    },
    {
     "data": {
      "image/png": "[encoded data removed]",
      "text/plain": [
       "<Figure size 2000x500 with 2 Axes>"
      ]
     },
     "metadata": {},
     "output_type": "display_data"
    }
   ],
   "source": [
    "fig,axes=plt.subplots(nrows=1,ncols=2,figsize=(20,5))\n",
    "ax1=sns.lineplot(data=statistic,x=statistic[\"K\"]/1000,y=\"MAE\",ax=axes[0])\n",
    "ax2=sns.lineplot(data=statistic,x=statistic[\"K\"]/1000,y=\"r2\",ax=axes[1])\n",
    "ax1.set_xticklabels(ax1.get_xticklabels(), rotation=90, ha=\"left\")\n",
    "ax2.set_xticklabels(ax2.get_xticklabels(), rotation=90, ha=\"left\")\n",
    "plt.show()"
   ]
  },
  {
   "cell_type": "markdown",
   "id": "cfe42fd1-34ed-4bbb-868e-d8a53b0bea6b",
   "metadata": {},
   "source": [
    "### Univariate feature selection\n"
   ]
  },
  {
   "cell_type": "markdown",
   "id": "b735a131-ead7-4b7f-9d59-36cbb5d03492",
   "metadata": {},
   "source": [
    "### Statistic function (r_regression, f_regression, mutual_info_regression)"
   ]
  },
  {
   "cell_type": "markdown",
   "id": "14dc6574-3f79-4a26-ac25-13bdfe5575e4",
   "metadata": {},
   "source": [
    "### 1. r_regression\n"
   ]
  },
  {
   "attachments": {
    "f483b42b-de90-46a8-afcd-444eb978b015.png": {
     "image/png": "[encoded data removed]"
    }
   },
   "cell_type": "markdown",
   "id": "847e49f6-4059-47ab-b67f-7d62a2135c53",
   "metadata": {},
   "source": [
    "![image.png](attachment:f483b42b-de90-46a8-afcd-444eb978b015.png)"
   ]
  },
  {
   "cell_type": "markdown",
   "id": "d99c19dc-e3ab-4046-89cb-d94f98f1eeeb",
   "metadata": {},
   "source": [
    "### Using numpy"
   ]
  },
  {
   "cell_type": "code",
   "execution_count": 19,
   "id": "4a8d6dea-2710-4134-a34a-2ed5870b702b",
   "metadata": {},
   "outputs": [],
   "source": [
    "def similitary_score(x,y):\n",
    "    x_avg=np.average(x)\n",
    "    y_avg=np.average(y)\n",
    "    up=np.sum((x-x_avg)*(y-y_avg))\n",
    "    down=np.sqrt(np.sum((x-x_avg)**2)*np.sum((y-y_avg)**2))\n",
    "    return up/down"
   ]
  },
  {
   "cell_type": "code",
   "execution_count": 20,
   "id": "f44a44ff-b35a-4ce2-b8ba-450ad8a522a5",
   "metadata": {},
   "outputs": [
    {
     "name": "stdout",
     "output_type": "stream",
     "text": [
      "0.48821565211312173\n"
     ]
    }
   ],
   "source": [
    "print(similitary_score(df[\"OverallQual\"],df[\"SalePrice\"]))"
   ]
  },
  {
   "cell_type": "code",
   "execution_count": 21,
   "id": "422b3d11-1917-4f26-985d-ecd4c1204dc3",
   "metadata": {},
   "outputs": [
    {
     "data": {
      "text/plain": [
       "[]"
      ]
     },
     "execution_count": 21,
     "metadata": {},
     "output_type": "execute_result"
    }
   ],
   "source": [
    "top_feature=[]\n",
    "for col in df.columns:\n",
    "    score=similitary_score(df[col],df[\"SalePrice\"])\n",
    "    if col != \"SalePrice\" and score > 0.6:\n",
    "        top_feature.append([col,score])\n",
    "top_feature"
   ]
  },
  {
   "cell_type": "markdown",
   "id": "161a3edf-3401-4570-9c6d-78eff8d7a568",
   "metadata": {},
   "source": [
    "### Using sklearn"
   ]
  },
  {
   "cell_type": "code",
   "execution_count": 22,
   "id": "c35379c8-100b-48ac-a665-0198f7b4976e",
   "metadata": {},
   "outputs": [
    {
     "data": {
      "text/plain": [
       "array(['OverallQual', 'TotalBsmtSF', '1stFlrSF', 'GrLivArea',\n",
       "       'GarageCars', 'GarageArea'], dtype=object)"
      ]
     },
     "execution_count": 22,
     "metadata": {},
     "output_type": "execute_result"
    }
   ],
   "source": [
    "from sklearn.feature_selection import r_regression\n",
    "from sklearn.feature_selection import SelectKBest\n",
    "# for i in range(5,21):\n",
    "fs=SelectKBest(r_regression,k=6)\n",
    "fl_df=fs.fit_transform(df.iloc[:,:-1],df.iloc[:,-1])\n",
    "# selected=df.columns[fs.get_support()]\n",
    "fs.get_feature_names_out()"
   ]
  },
  {
   "cell_type": "code",
   "execution_count": null,
   "id": "ec4e58bb-85e9-4cd6-8bd3-6bb94ec57fc5",
   "metadata": {},
   "outputs": [
    {
     "name": "stderr",
     "output_type": "stream",
     "text": [
      "D:\\miniconda\\lib\\site-packages\\sklearn\\feature_selection\\_univariate_selection.py:776: UserWarning: k=75 is greater than n_features=74. All the features will be returned.\n",
      "  warnings.warn(\n"
     ]
    }
   ],
   "source": [
    "k, mae, rmse, r2 = [], [], [], []\n",
    "\n",
    "for i in range(5,120):\n",
    "    fs=SelectKBest(r_regression,k=i)\n",
    "    fl_df=fs.fit_transform(df.iloc[:,:-1],df.iloc[:,-1])\n",
    "    c=fs.get_feature_names_out()\n",
    "    df_fs=create_df(c)\n",
    "    eval(df_fs)\n",
    "statistic_tup={\n",
    "    \"K\":k,\n",
    "    \"MAE\":mae,\n",
    "    \"RMSE\":rmse,\n",
    "    \"r2\":r2\n",
    "}\n",
    "statistic=pd.DataFrame(statistic_tup)\n",
    "statistic.to_csv(\"r_regression_label_enc.csv\")\n",
    "statistic\n"
   ]
  },
  {
   "cell_type": "code",
   "execution_count": null,
   "id": "a9e40c8f-cc90-4899-8725-4c434aedee23",
   "metadata": {},
   "outputs": [],
   "source": [
    "statistic.sort_values(\"MAE\",ascending=True)"
   ]
  },
  {
   "cell_type": "code",
   "execution_count": null,
   "id": "87568b67-482d-4e83-80de-4565d1868358",
   "metadata": {},
   "outputs": [],
   "source": [
    "fig,axes=plt.subplots(nrows=1,ncols=2,figsize=(20,5))\n",
    "ax1=sns.lineplot(data=statistic,x=\"K\",y=\"MAE\",ax=axes[0])\n",
    "ax2=sns.lineplot(data=statistic,x=\"K\",y=\"r2\",ax=axes[1])\n",
    "ax1.set_xticklabels(ax1.get_xticklabels(), rotation=90, ha=\"left\")\n",
    "ax2.set_xticklabels(ax2.get_xticklabels(), rotation=90, ha=\"left\")\n",
    "plt.show()"
   ]
  },
  {
   "cell_type": "markdown",
   "id": "b8242cd7-0c52-4727-ad87-716dd6cf1db0",
   "metadata": {},
   "source": [
    "### 2.f_regression"
   ]
  },
  {
   "attachments": {
    "95f14443-0240-442c-b294-562b150eb8bd.png": {
     "image/png": "[encoded data removed]"
    }
   },
   "cell_type": "markdown",
   "id": "4e2a1a1e-0f3c-4962-8d8e-e6533a5adbae",
   "metadata": {},
   "source": [
    "![image.png](attachment:95f14443-0240-442c-b294-562b150eb8bd.png)"
   ]
  },
  {
   "attachments": {
    "a344f6dc-6cf9-490d-a595-9c80c9c1128a.png": {
     "image/png": "[encoded data removed]"
    }
   },
   "cell_type": "markdown",
   "id": "76d3364d-ca14-4713-b252-2f742d5d4984",
   "metadata": {},
   "source": [
    "![image.png](attachment:a344f6dc-6cf9-490d-a595-9c80c9c1128a.png)"
   ]
  },
  {
   "cell_type": "code",
   "execution_count": null,
   "id": "4f385cff-cac4-475e-9496-7063cc459f66",
   "metadata": {},
   "outputs": [],
   "source": [
    "from sklearn.feature_selection import f_regression"
   ]
  },
  {
   "cell_type": "code",
   "execution_count": null,
   "id": "6a67a76a-d819-44e0-a458-62063ef39cdc",
   "metadata": {},
   "outputs": [],
   "source": [
    "k, mae, rmse, r2 = [], [], [], []\n",
    "for i in range(5,120):\n",
    "    fs=SelectKBest(f_regression,k=i)\n",
    "    fl_df=fs.fit_transform(df.iloc[:,:-1],df.iloc[:,-1])\n",
    "    c=fs.get_feature_names_out()\n",
    "    df_fs=create_df(c)\n",
    "    eval(df_fs)\n",
    "statistic_tup={\n",
    "    \"K\":k,\n",
    "    \"MAE\":mae,\n",
    "    \"RMSE\":rmse,\n",
    "    \"r2\":r2\n",
    "}\n",
    "statistic=pd.DataFrame(statistic_tup)\n",
    "statistic.to_csv(\"f_regression_label_enc.csv\")\n",
    "statistic"
   ]
  },
  {
   "cell_type": "code",
   "execution_count": null,
   "id": "5560d383-3895-4bda-836a-2cf44b5d803c",
   "metadata": {},
   "outputs": [],
   "source": [
    "statistic.sort_values(\"MAE\",ascending=True)"
   ]
  },
  {
   "cell_type": "code",
   "execution_count": null,
   "id": "a927a833-5bba-4baf-b3e3-efc9aae888e8",
   "metadata": {},
   "outputs": [],
   "source": [
    "fig,axes=plt.subplots(nrows=1,ncols=2,figsize=(20,5))\n",
    "ax1=sns.lineplot(data=statistic,x=\"K\",y=\"MAE\",ax=axes[0])\n",
    "ax2=sns.lineplot(data=statistic,x=\"K\",y=\"r2\",ax=axes[1])\n",
    "ax1.set_xticklabels(ax1.get_xticklabels(), rotation=90, ha=\"left\")\n",
    "ax2.set_xticklabels(ax2.get_xticklabels(), rotation=90, ha=\"left\")\n",
    "plt.show()"
   ]
  },
  {
   "cell_type": "markdown",
   "id": "8fccd82f-42db-4287-88c9-aec8166133c0",
   "metadata": {},
   "source": [
    "### 3.Mutual infomation"
   ]
  },
  {
   "cell_type": "markdown",
   "id": "cb273dca-e014-4519-87b7-81508f38df58",
   "metadata": {},
   "source": [
    "### Fomula"
   ]
  },
  {
   "attachments": {
    "283a97b8-8534-4c70-8086-d6b229834262.png": {
     "image/png": "[encoded data removed]"
    }
   },
   "cell_type": "markdown",
   "id": "1a2af73c-6d12-4d7f-9181-164c97936ba2",
   "metadata": {},
   "source": [
    "![image.png](attachment:283a97b8-8534-4c70-8086-d6b229834262.png)"
   ]
  },
  {
   "cell_type": "markdown",
   "id": "63501a85-ee1f-4c95-8784-d24452fe94d3",
   "metadata": {},
   "source": [
    "### Mesure dependency of 2 variable X,Y"
   ]
  },
  {
   "cell_type": "markdown",
   "id": "4ca8fc23-c6f5-4983-bfd6-205af5bab5d8",
   "metadata": {},
   "source": [
    "### KDE method (Estimate Probability Density Function)"
   ]
  },
  {
   "attachments": {
    "d3173b36-c1e3-421a-a817-095dbfd9041c.png": {
     "image/png": "[encoded data removed]"
    }
   },
   "cell_type": "markdown",
   "id": "7caa4ea9-6baa-4895-92ed-141b485197dc",
   "metadata": {},
   "source": [
    "![image.png](attachment:d3173b36-c1e3-421a-a817-095dbfd9041c.png)"
   ]
  },
  {
   "attachments": {
    "88044c6a-ccc1-4d54-bbb2-f410d59aa145.png": {
     "image/png": "[encoded data removed]"
    }
   },
   "cell_type": "markdown",
   "id": "6c569216-9a9d-46a5-9e69-dbbdd78a168e",
   "metadata": {},
   "source": [
    "![image.png](attachment:88044c6a-ccc1-4d54-bbb2-f410d59aa145.png)"
   ]
  },
  {
   "attachments": {
    "5c8079a5-deea-43ef-85ff-0e46935b227e.png": {
     "image/png": "[encoded data removed]"
    }
   },
   "cell_type": "markdown",
   "id": "67ef31a2-4a95-466b-8e28-3610e8188a09",
   "metadata": {},
   "source": [
    "![image.png](attachment:5c8079a5-deea-43ef-85ff-0e46935b227e.png)"
   ]
  },
  {
   "cell_type": "code",
   "execution_count": null,
   "id": "ed1d3da5-fd97-40d8-9c5d-04e8f0cad843",
   "metadata": {},
   "outputs": [],
   "source": [
    "all_col=df.columns\n",
    "all_col"
   ]
  },
  {
   "cell_type": "code",
   "execution_count": null,
   "id": "1f0fb24b-024e-4c3a-bff2-cc5a28574c61",
   "metadata": {},
   "outputs": [],
   "source": [
    "from sklearn.feature_selection import mutual_info_regression"
   ]
  },
  {
   "cell_type": "code",
   "execution_count": null,
   "id": "4f74733c-0ab9-40f6-b711-f05abac60222",
   "metadata": {},
   "outputs": [],
   "source": [
    "k, mae, rmse, r2 = [], [], [], []\n",
    "for i in range(5,120):\n",
    "    fs=SelectKBest(mutual_info_regression,k=i)\n",
    "    fl_df=fs.fit_transform(df.iloc[:,:-1],df.iloc[:,-1])\n",
    "    c=fs.get_feature_names_out()\n",
    "    df_fs=create_df(c)\n",
    "    eval(df_fs)\n",
    "statistic_tup={\n",
    "    \"K\":k,\n",
    "    \"MAE\":mae,\n",
    "    \"RMSE\":rmse,\n",
    "    \"r2\":r2\n",
    "}\n",
    "statistic=pd.DataFrame(statistic_tup)\n",
    "statistic"
   ]
  },
  {
   "cell_type": "code",
   "execution_count": null,
   "id": "d6b4c9ed-a54e-4449-997c-b0b71480ed03",
   "metadata": {},
   "outputs": [],
   "source": [
    "statistic.to_csv(\"mutual_infomation_label_enc.csv\")"
   ]
  },
  {
   "cell_type": "code",
   "execution_count": null,
   "id": "66353d8a-273a-43b2-9348-7c77a1ead34c",
   "metadata": {},
   "outputs": [],
   "source": [
    "statistic.sort_values(\"MAE\",ascending=True)"
   ]
  },
  {
   "cell_type": "code",
   "execution_count": null,
   "id": "b493a0fe-ce77-4133-9707-bd689592e4e8",
   "metadata": {},
   "outputs": [],
   "source": [
    "fig,axes=plt.subplots(nrows=1,ncols=2,figsize=(20,5))\n",
    "ax1=sns.lineplot(data=statistic,x=\"K\",y=\"MAE\",ax=axes[0])\n",
    "ax2=sns.lineplot(data=statistic,x=\"K\",y=\"r2\",ax=axes[1])\n",
    "ax1.set_xticklabels(ax1.get_xticklabels(), rotation=90, ha=\"left\")\n",
    "ax2.set_xticklabels(ax2.get_xticklabels(), rotation=90, ha=\"left\")\n",
    "plt.show()"
   ]
  },
  {
   "cell_type": "markdown",
   "id": "96b68e21-5e93-4086-b427-dd61d1c23249",
   "metadata": {},
   "source": [
    "### RFE (Recursive feature elimination)"
   ]
  },
  {
   "cell_type": "markdown",
   "id": "488501b0-e325-4a68-8142-39b486f42413",
   "metadata": {},
   "source": [
    "df"
   ]
  },
  {
   "cell_type": "markdown",
   "id": "35646a3a-5577-4588-b2eb-2369bf4fdbeb",
   "metadata": {},
   "source": [
    "from sklearn.feature_selection import RFE,RFECV\n",
    "rfe=RFE(estimator=model,n_features_to_select=5)\n",
    "rfe.fit(df.iloc[:,:-1],df.iloc[:,-1])\n",
    "rfe.get_feature_names_out()"
   ]
  },
  {
   "cell_type": "markdown",
   "id": "23786bcd-9bf0-4307-abf6-1526b927ab37",
   "metadata": {},
   "source": [
    "k, mae, rmse, r2 = [], [], [], []\n",
    "for i in range(10,50):\n",
    "    rfe=RFE(estimator=model,n_features_to_select=i)\n",
    "    rfe.fit(df.iloc[:,:-1],df.iloc[:,-1])\n",
    "    c = df.iloc[:,:-1].columns[rfe.support_]\n",
    "    df_fs=create_df(c)\n",
    "    eval(df_fs)\n",
    "statistic_tup={\n",
    "    \"K\":k,\n",
    "    \"MAE\":mae,\n",
    "    \"RMSE\":rmse,\n",
    "    \"r2\":r2\n",
    "}\n",
    "statistic=pd.DataFrame(statistic_tup)\n",
    "statistic"
   ]
  },
  {
   "cell_type": "markdown",
   "id": "32258f50-cd5a-4e62-965e-9fb16a6bf36e",
   "metadata": {},
   "source": [
    "statistic.to_csv(\"RFE.csv\")"
   ]
  },
  {
   "cell_type": "markdown",
   "id": "c3ce08df-15da-425e-91c6-d03c75b40392",
   "metadata": {},
   "source": [
    "statistic=pd.read_csv(\"RFE.csv\")"
   ]
  },
  {
   "cell_type": "markdown",
   "id": "0aac917a-22aa-4077-bfbf-9b68372b6a55",
   "metadata": {},
   "source": [
    "fig,axes=plt.subplots(nrows=1,ncols=2,figsize=(20,5))\n",
    "ax1=sns.lineplot(data=statistic,x=\"K\",y=\"MAE\",ax=axes[0])\n",
    "ax2=sns.lineplot(data=statistic,x=\"K\",y=\"r2\",ax=axes[1])\n",
    "ax1.set_xticklabels(ax1.get_xticklabels(), rotation=90, ha=\"left\")\n",
    "ax2.set_xticklabels(ax2.get_xticklabels(), rotation=90, ha=\"left\")\n",
    "plt.show()"
   ]
  },
  {
   "cell_type": "markdown",
   "id": "f28862a2-87ac-42b4-b6be-86d5d13e7f32",
   "metadata": {},
   "source": [
    "k, mae, rmse, r2 = [], [], [], []\n",
    "for i in range(10,15):\n",
    "    rfe=RFECV(estimator=model,min_features_to_select=i,cv=5)\n",
    "    rfe.fit(df.iloc[:,:-1],df.iloc[:,-1])\n",
    "    c = df.iloc[:,:-1].columns[rfe.support_]\n",
    "    df_fs=create_df(c)\n",
    "    eval(df_fs)\n",
    "statistic_tup={\n",
    "    \"K\":k,\n",
    "    \"MAE\":mae,\n",
    "    \"RMSE\":rmse,\n",
    "    \"r2\":r2\n",
    "}\n",
    "statistic=pd.DataFrame(statistic_tup)\n",
    "statistic"
   ]
  },
  {
   "cell_type": "markdown",
   "id": "1856486d-f0dc-4ffe-b97f-42d9dd944d48",
   "metadata": {},
   "source": [
    "fig,axes=plt.subplots(nrows=1,ncols=2,figsize=(20,5))\n",
    "ax1=sns.lineplot(data=statistic,x=\"K\",y=\"MAE\",ax=axes[0])\n",
    "ax2=sns.lineplot(data=statistic,x=\"K\",y=\"r2\",ax=axes[1])\n",
    "ax1.set_xticklabels(ax1.get_xticklabels(), rotation=90, ha=\"left\")\n",
    "ax2.set_xticklabels(ax2.get_xticklabels(), rotation=90, ha=\"left\")\n",
    "plt.show()"
   ]
  },
  {
   "cell_type": "markdown",
   "id": "88f5fa5c-d300-49c5-9bcf-b2759d596b99",
   "metadata": {},
   "source": [
    "statistic.to_csv(\"RFECV.csv\")"
   ]
  },
  {
   "cell_type": "code",
   "execution_count": null,
   "id": "f150024e-1f94-457d-8914-76a50e10d26d",
   "metadata": {},
   "outputs": [],
   "source": [
    "r=pd.read_csv(\"r_regression_label_enc.csv\")\n",
    "r=r.iloc[:,1:]\n",
    "r"
   ]
  },
  {
   "cell_type": "code",
   "execution_count": null,
   "id": "8ce5687a-6027-4a68-9901-1e3ba152a35a",
   "metadata": {},
   "outputs": [],
   "source": [
    "f=pd.read_csv(\"f_regression_label_enc.csv\")\n",
    "f=f.iloc[:,1:]\n",
    "f"
   ]
  },
  {
   "cell_type": "code",
   "execution_count": null,
   "id": "de2417de-f7ff-4285-90af-47da068748ac",
   "metadata": {},
   "outputs": [],
   "source": [
    "mutual=pd.read_csv(\"mutual_infomation_label_enc.csv\")\n",
    "mutual=mutual.iloc[:,1:]\n",
    "mutual"
   ]
  },
  {
   "cell_type": "code",
   "execution_count": null,
   "id": "06841aaa-7769-4d18-8887-cdced460d5fd",
   "metadata": {},
   "outputs": [],
   "source": [
    "joint=pd.merge(r,f,how='inner',on=\"K\")\n",
    "joint"
   ]
  },
  {
   "cell_type": "code",
   "execution_count": null,
   "id": "06d44a40-aa3d-420a-8958-7941fcff85b9",
   "metadata": {},
   "outputs": [],
   "source": [
    "joint=pd.merge(joint,mutual,on=\"K\",how=\"inner\")\n",
    "joint"
   ]
  },
  {
   "cell_type": "code",
   "execution_count": null,
   "id": "11567530-2fbf-42aa-9ee0-500764829951",
   "metadata": {},
   "outputs": [],
   "source": [
    "plt.figure(figsize=(20,5))\n",
    "plt.subplot(1,2,1)\n",
    "plt.plot(joint[\"K\"],joint[\"MAE_x\"],label=\"r_regression\")\n",
    "plt.plot(joint[\"K\"],joint[\"MAE_y\"],label=\"f_regression\")\n",
    "plt.plot(joint[\"K\"],joint[\"MAE\"],label=\"mutual_infomation\")\n",
    "plt.xlabel(\"Number of feature\")\n",
    "plt.ylabel(\"MAE\")\n",
    "plt.title(\"MAE evaluation\") \n",
    "plt.legend()\n",
    "plt.figure(figsize=(20,5))\n",
    "plt.subplot(1,2,2)\n",
    "plt.plot(joint[\"K\"],joint[\"r2_x\"],label=\"r_regression\")\n",
    "plt.plot(joint[\"K\"],joint[\"r2_y\"],label=\"f_regression\")\n",
    "plt.plot(joint[\"K\"],joint[\"r2\"],label=\"mutual_infomation\")\n",
    "plt.xlabel(\"Number of feature\")\n",
    "plt.ylabel(\"MAE\")\n",
    "plt.title(\"R2 evaluation\") \n",
    "plt.legend()"
   ]
  }
 ],
 "metadata": {
  "kernelspec": {
   "display_name": "Python 3 (ipykernel)",
   "language": "python",
   "name": "python3"
  },
  "language_info": {
   "codemirror_mode": {
    "name": "ipython",
    "version": 3
   },
   "file_extension": ".py",
   "mimetype": "text/x-python",
   "name": "python",
   "nbconvert_exporter": "python",
   "pygments_lexer": "ipython3",
   "version": "3.9.18"
  }
 },
 "nbformat": 4,
 "nbformat_minor": 5
}
