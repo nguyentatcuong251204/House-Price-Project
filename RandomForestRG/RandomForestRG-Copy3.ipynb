{
 "cells": [
  {
   "cell_type": "code",
   "execution_count": 1,
   "id": "63f53c2f-f256-480c-aa1f-ad2ae173ad99",
   "metadata": {},
   "outputs": [],
   "source": [
    "import pandas as pd\n",
    "import numpy as np\n",
    "import seaborn as sns\n",
    "import matplotlib.pyplot as plt\n",
    "from sklearn.model_selection import train_test_split\n",
    "from sklearn.ensemble import RandomForestRegressor\n",
    "from sklearn.metrics import mean_absolute_error,root_mean_squared_error,r2_score\n",
    "# Random forest, svr, decision tree params adjust and theory randomforest\n",
    "# testing many dataframe for each model\n",
    "# eda for each solution"
   ]
  },
  {
   "cell_type": "code",
   "execution_count": 2,
   "id": "0845fbd9-fb82-4e92-9a12-bbe81047da7f",
   "metadata": {},
   "outputs": [],
   "source": [
    "df=pd.read_csv(r\"C:\\Users\\NTCUONG\\notebook\\training_LR\\training3.csv\")\n",
    "df.head()\n",
    "corr=df.corr()"
   ]
  },
  {
   "cell_type": "code",
   "execution_count": 3,
   "id": "0db6f411-bcdc-40b0-ac47-644e0c2b0dce",
   "metadata": {},
   "outputs": [
    {
     "data": {
      "text/html": [
       "<div>\n",
       "<style scoped>\n",
       "    .dataframe tbody tr th:only-of-type {\n",
       "        vertical-align: middle;\n",
       "    }\n",
       "\n",
       "    .dataframe tbody tr th {\n",
       "        vertical-align: top;\n",
       "    }\n",
       "\n",
       "    .dataframe thead th {\n",
       "        text-align: right;\n",
       "    }\n",
       "</style>\n",
       "<table border=\"1\" class=\"dataframe\">\n",
       "  <thead>\n",
       "    <tr style=\"text-align: right;\">\n",
       "      <th></th>\n",
       "      <th>MSSubClass</th>\n",
       "      <th>MSZoning</th>\n",
       "      <th>LotFrontage</th>\n",
       "      <th>LotArea</th>\n",
       "      <th>Street</th>\n",
       "      <th>LotShape</th>\n",
       "      <th>LandContour</th>\n",
       "      <th>Utilities</th>\n",
       "      <th>LotConfig</th>\n",
       "      <th>LandSlope</th>\n",
       "      <th>...</th>\n",
       "      <th>3SsnPorch</th>\n",
       "      <th>ScreenPorch</th>\n",
       "      <th>PoolArea</th>\n",
       "      <th>MiscVal</th>\n",
       "      <th>MoSold</th>\n",
       "      <th>YrSold</th>\n",
       "      <th>SaleType</th>\n",
       "      <th>SaleCondition</th>\n",
       "      <th>Ageofhouse</th>\n",
       "      <th>SalePrice</th>\n",
       "    </tr>\n",
       "  </thead>\n",
       "  <tbody>\n",
       "    <tr>\n",
       "      <th>SalePrice</th>\n",
       "      <td>-0.187647</td>\n",
       "      <td>-0.404171</td>\n",
       "      <td>-0.150610</td>\n",
       "      <td>0.228495</td>\n",
       "      <td>-0.403474</td>\n",
       "      <td>-0.354273</td>\n",
       "      <td>-0.311037</td>\n",
       "      <td>-0.014314</td>\n",
       "      <td>-0.249109</td>\n",
       "      <td>-0.015982</td>\n",
       "      <td>...</td>\n",
       "      <td>0.041436</td>\n",
       "      <td>0.074595</td>\n",
       "      <td>0.079494</td>\n",
       "      <td>-0.039699</td>\n",
       "      <td>-0.220379</td>\n",
       "      <td>-0.415640</td>\n",
       "      <td>-0.375715</td>\n",
       "      <td>-0.190818</td>\n",
       "      <td>-0.581832</td>\n",
       "      <td>1.000000</td>\n",
       "    </tr>\n",
       "    <tr>\n",
       "      <th>Fireplaces</th>\n",
       "      <td>0.063249</td>\n",
       "      <td>0.007837</td>\n",
       "      <td>0.047980</td>\n",
       "      <td>-0.071319</td>\n",
       "      <td>0.006838</td>\n",
       "      <td>-0.066368</td>\n",
       "      <td>-0.018833</td>\n",
       "      <td>0.005340</td>\n",
       "      <td>0.010777</td>\n",
       "      <td>0.010396</td>\n",
       "      <td>...</td>\n",
       "      <td>0.005958</td>\n",
       "      <td>0.152924</td>\n",
       "      <td>0.031778</td>\n",
       "      <td>-0.011221</td>\n",
       "      <td>0.034248</td>\n",
       "      <td>0.000863</td>\n",
       "      <td>0.011667</td>\n",
       "      <td>0.074801</td>\n",
       "      <td>-0.139056</td>\n",
       "      <td>0.296401</td>\n",
       "    </tr>\n",
       "    <tr>\n",
       "      <th>MasVnrArea</th>\n",
       "      <td>0.226649</td>\n",
       "      <td>0.045938</td>\n",
       "      <td>0.020590</td>\n",
       "      <td>-0.232372</td>\n",
       "      <td>0.126856</td>\n",
       "      <td>0.070116</td>\n",
       "      <td>0.146934</td>\n",
       "      <td>0.039206</td>\n",
       "      <td>0.104347</td>\n",
       "      <td>-0.038813</td>\n",
       "      <td>...</td>\n",
       "      <td>0.008330</td>\n",
       "      <td>0.047443</td>\n",
       "      <td>-0.020110</td>\n",
       "      <td>-0.039165</td>\n",
       "      <td>0.070193</td>\n",
       "      <td>0.125313</td>\n",
       "      <td>0.093777</td>\n",
       "      <td>0.114912</td>\n",
       "      <td>-0.225699</td>\n",
       "      <td>0.286091</td>\n",
       "    </tr>\n",
       "    <tr>\n",
       "      <th>GarageArea</th>\n",
       "      <td>0.338253</td>\n",
       "      <td>0.162839</td>\n",
       "      <td>0.212572</td>\n",
       "      <td>-0.397094</td>\n",
       "      <td>0.355021</td>\n",
       "      <td>0.202603</td>\n",
       "      <td>0.348230</td>\n",
       "      <td>-0.012106</td>\n",
       "      <td>0.255043</td>\n",
       "      <td>-0.071831</td>\n",
       "      <td>...</td>\n",
       "      <td>0.002265</td>\n",
       "      <td>0.024850</td>\n",
       "      <td>-0.028577</td>\n",
       "      <td>-0.072354</td>\n",
       "      <td>0.234028</td>\n",
       "      <td>0.357993</td>\n",
       "      <td>0.259190</td>\n",
       "      <td>0.360551</td>\n",
       "      <td>-0.310870</td>\n",
       "      <td>0.250840</td>\n",
       "    </tr>\n",
       "    <tr>\n",
       "      <th>LotArea</th>\n",
       "      <td>-0.863094</td>\n",
       "      <td>-0.755708</td>\n",
       "      <td>-0.218895</td>\n",
       "      <td>1.000000</td>\n",
       "      <td>-0.917599</td>\n",
       "      <td>-0.639649</td>\n",
       "      <td>-0.765542</td>\n",
       "      <td>0.020686</td>\n",
       "      <td>-0.643130</td>\n",
       "      <td>0.009557</td>\n",
       "      <td>...</td>\n",
       "      <td>0.035842</td>\n",
       "      <td>0.031591</td>\n",
       "      <td>0.036059</td>\n",
       "      <td>-0.029195</td>\n",
       "      <td>-0.555556</td>\n",
       "      <td>-0.924604</td>\n",
       "      <td>-0.772368</td>\n",
       "      <td>-0.671901</td>\n",
       "      <td>-0.224720</td>\n",
       "      <td>0.228495</td>\n",
       "    </tr>\n",
       "    <tr>\n",
       "      <th>GarageCars</th>\n",
       "      <td>0.423849</td>\n",
       "      <td>0.232367</td>\n",
       "      <td>0.220673</td>\n",
       "      <td>-0.477601</td>\n",
       "      <td>0.425237</td>\n",
       "      <td>0.245790</td>\n",
       "      <td>0.398520</td>\n",
       "      <td>-0.011345</td>\n",
       "      <td>0.296085</td>\n",
       "      <td>-0.071124</td>\n",
       "      <td>...</td>\n",
       "      <td>0.003594</td>\n",
       "      <td>0.017486</td>\n",
       "      <td>-0.032757</td>\n",
       "      <td>-0.082006</td>\n",
       "      <td>0.277124</td>\n",
       "      <td>0.428144</td>\n",
       "      <td>0.324890</td>\n",
       "      <td>0.413761</td>\n",
       "      <td>-0.315702</td>\n",
       "      <td>0.219479</td>\n",
       "    </tr>\n",
       "    <tr>\n",
       "      <th>BsmtFinSF1</th>\n",
       "      <td>0.157114</td>\n",
       "      <td>0.096525</td>\n",
       "      <td>0.083294</td>\n",
       "      <td>-0.176603</td>\n",
       "      <td>0.153751</td>\n",
       "      <td>0.039327</td>\n",
       "      <td>0.138310</td>\n",
       "      <td>-0.021591</td>\n",
       "      <td>0.127488</td>\n",
       "      <td>0.063618</td>\n",
       "      <td>...</td>\n",
       "      <td>0.028868</td>\n",
       "      <td>0.072497</td>\n",
       "      <td>0.018856</td>\n",
       "      <td>-0.026515</td>\n",
       "      <td>0.129270</td>\n",
       "      <td>0.151753</td>\n",
       "      <td>0.132957</td>\n",
       "      <td>0.117896</td>\n",
       "      <td>-0.181597</td>\n",
       "      <td>0.209936</td>\n",
       "    </tr>\n",
       "    <tr>\n",
       "      <th>TotalBsmtSF</th>\n",
       "      <td>0.306169</td>\n",
       "      <td>0.325522</td>\n",
       "      <td>0.274670</td>\n",
       "      <td>-0.503970</td>\n",
       "      <td>0.455491</td>\n",
       "      <td>0.240865</td>\n",
       "      <td>0.399690</td>\n",
       "      <td>-0.029198</td>\n",
       "      <td>0.330091</td>\n",
       "      <td>-0.018536</td>\n",
       "      <td>...</td>\n",
       "      <td>0.010556</td>\n",
       "      <td>0.062309</td>\n",
       "      <td>-0.020677</td>\n",
       "      <td>-0.087436</td>\n",
       "      <td>0.313648</td>\n",
       "      <td>0.454333</td>\n",
       "      <td>0.346140</td>\n",
       "      <td>0.378087</td>\n",
       "      <td>-0.152333</td>\n",
       "      <td>0.208208</td>\n",
       "    </tr>\n",
       "    <tr>\n",
       "      <th>GrLivArea</th>\n",
       "      <td>0.602790</td>\n",
       "      <td>0.411877</td>\n",
       "      <td>0.242027</td>\n",
       "      <td>-0.653633</td>\n",
       "      <td>0.576926</td>\n",
       "      <td>0.373730</td>\n",
       "      <td>0.463320</td>\n",
       "      <td>-0.027909</td>\n",
       "      <td>0.391960</td>\n",
       "      <td>-0.025684</td>\n",
       "      <td>...</td>\n",
       "      <td>-0.018361</td>\n",
       "      <td>0.023221</td>\n",
       "      <td>-0.010039</td>\n",
       "      <td>-0.060111</td>\n",
       "      <td>0.392246</td>\n",
       "      <td>0.574364</td>\n",
       "      <td>0.469275</td>\n",
       "      <td>0.446161</td>\n",
       "      <td>0.065657</td>\n",
       "      <td>0.184438</td>\n",
       "    </tr>\n",
       "    <tr>\n",
       "      <th>OpenPorchSF</th>\n",
       "      <td>0.113680</td>\n",
       "      <td>-0.058095</td>\n",
       "      <td>0.053859</td>\n",
       "      <td>-0.105168</td>\n",
       "      <td>0.086041</td>\n",
       "      <td>0.032515</td>\n",
       "      <td>0.098391</td>\n",
       "      <td>0.014226</td>\n",
       "      <td>0.032429</td>\n",
       "      <td>-0.054175</td>\n",
       "      <td>...</td>\n",
       "      <td>-0.021118</td>\n",
       "      <td>0.019464</td>\n",
       "      <td>-0.009159</td>\n",
       "      <td>-0.024226</td>\n",
       "      <td>0.084887</td>\n",
       "      <td>0.083532</td>\n",
       "      <td>0.070389</td>\n",
       "      <td>0.097935</td>\n",
       "      <td>-0.142074</td>\n",
       "      <td>0.184272</td>\n",
       "    </tr>\n",
       "  </tbody>\n",
       "</table>\n",
       "<p>10 rows × 75 columns</p>\n",
       "</div>"
      ],
      "text/plain": [
       "             MSSubClass  MSZoning  LotFrontage   LotArea    Street  LotShape  \\\n",
       "SalePrice     -0.187647 -0.404171    -0.150610  0.228495 -0.403474 -0.354273   \n",
       "Fireplaces     0.063249  0.007837     0.047980 -0.071319  0.006838 -0.066368   \n",
       "MasVnrArea     0.226649  0.045938     0.020590 -0.232372  0.126856  0.070116   \n",
       "GarageArea     0.338253  0.162839     0.212572 -0.397094  0.355021  0.202603   \n",
       "LotArea       -0.863094 -0.755708    -0.218895  1.000000 -0.917599 -0.639649   \n",
       "GarageCars     0.423849  0.232367     0.220673 -0.477601  0.425237  0.245790   \n",
       "BsmtFinSF1     0.157114  0.096525     0.083294 -0.176603  0.153751  0.039327   \n",
       "TotalBsmtSF    0.306169  0.325522     0.274670 -0.503970  0.455491  0.240865   \n",
       "GrLivArea      0.602790  0.411877     0.242027 -0.653633  0.576926  0.373730   \n",
       "OpenPorchSF    0.113680 -0.058095     0.053859 -0.105168  0.086041  0.032515   \n",
       "\n",
       "             LandContour  Utilities  LotConfig  LandSlope  ...  3SsnPorch  \\\n",
       "SalePrice      -0.311037  -0.014314  -0.249109  -0.015982  ...   0.041436   \n",
       "Fireplaces     -0.018833   0.005340   0.010777   0.010396  ...   0.005958   \n",
       "MasVnrArea      0.146934   0.039206   0.104347  -0.038813  ...   0.008330   \n",
       "GarageArea      0.348230  -0.012106   0.255043  -0.071831  ...   0.002265   \n",
       "LotArea        -0.765542   0.020686  -0.643130   0.009557  ...   0.035842   \n",
       "GarageCars      0.398520  -0.011345   0.296085  -0.071124  ...   0.003594   \n",
       "BsmtFinSF1      0.138310  -0.021591   0.127488   0.063618  ...   0.028868   \n",
       "TotalBsmtSF     0.399690  -0.029198   0.330091  -0.018536  ...   0.010556   \n",
       "GrLivArea       0.463320  -0.027909   0.391960  -0.025684  ...  -0.018361   \n",
       "OpenPorchSF     0.098391   0.014226   0.032429  -0.054175  ...  -0.021118   \n",
       "\n",
       "             ScreenPorch  PoolArea   MiscVal    MoSold    YrSold  SaleType  \\\n",
       "SalePrice       0.074595  0.079494 -0.039699 -0.220379 -0.415640 -0.375715   \n",
       "Fireplaces      0.152924  0.031778 -0.011221  0.034248  0.000863  0.011667   \n",
       "MasVnrArea      0.047443 -0.020110 -0.039165  0.070193  0.125313  0.093777   \n",
       "GarageArea      0.024850 -0.028577 -0.072354  0.234028  0.357993  0.259190   \n",
       "LotArea         0.031591  0.036059 -0.029195 -0.555556 -0.924604 -0.772368   \n",
       "GarageCars      0.017486 -0.032757 -0.082006  0.277124  0.428144  0.324890   \n",
       "BsmtFinSF1      0.072497  0.018856 -0.026515  0.129270  0.151753  0.132957   \n",
       "TotalBsmtSF     0.062309 -0.020677 -0.087436  0.313648  0.454333  0.346140   \n",
       "GrLivArea       0.023221 -0.010039 -0.060111  0.392246  0.574364  0.469275   \n",
       "OpenPorchSF     0.019464 -0.009159 -0.024226  0.084887  0.083532  0.070389   \n",
       "\n",
       "             SaleCondition  Ageofhouse  SalePrice  \n",
       "SalePrice        -0.190818   -0.581832   1.000000  \n",
       "Fireplaces        0.074801   -0.139056   0.296401  \n",
       "MasVnrArea        0.114912   -0.225699   0.286091  \n",
       "GarageArea        0.360551   -0.310870   0.250840  \n",
       "LotArea          -0.671901   -0.224720   0.228495  \n",
       "GarageCars        0.413761   -0.315702   0.219479  \n",
       "BsmtFinSF1        0.117896   -0.181597   0.209936  \n",
       "TotalBsmtSF       0.378087   -0.152333   0.208208  \n",
       "GrLivArea         0.446161    0.065657   0.184438  \n",
       "OpenPorchSF       0.097935   -0.142074   0.184272  \n",
       "\n",
       "[10 rows x 75 columns]"
      ]
     },
     "execution_count": 3,
     "metadata": {},
     "output_type": "execute_result"
    }
   ],
   "source": [
    "df.corr().sort_values(\"SalePrice\",ascending=False).head(10)"
   ]
  },
  {
   "cell_type": "code",
   "execution_count": 4,
   "id": "319df770-0a76-47b9-aff4-b8150320d232",
   "metadata": {},
   "outputs": [],
   "source": [
    "def create_df(col_list):\n",
    "    df_fs=df[\"SalePrice\"]\n",
    "    for col in col_list:\n",
    "        df_fs=pd.concat([df[col],df_fs],axis=1)\n",
    "    return df_fs"
   ]
  },
  {
   "cell_type": "code",
   "execution_count": 5,
   "id": "bb758b00-c63d-4136-8512-b12298e30c45",
   "metadata": {},
   "outputs": [],
   "source": [
    "model=RandomForestRegressor()"
   ]
  },
  {
   "cell_type": "code",
   "execution_count": 6,
   "id": "4b59a939-75fa-4fb9-8bcf-dd8468f7961a",
   "metadata": {},
   "outputs": [],
   "source": [
    "def eval(df_fs):\n",
    "    X_train,X_test,y_train,y_test=train_test_split(df_fs.iloc[:,:-1],df_fs.iloc[:,-1],test_size=0.2,random_state=42)\n",
    "    model.fit(X_train,y_train)\n",
    "    y_pre=model.predict(X_test)\n",
    "    k.append(i)\n",
    "    mae.append(mean_absolute_error(y_test,y_pre))\n",
    "    rmse.append(root_mean_squared_error(y_test,y_pre))\n",
    "    r2.append(r2_score(y_test,y_pre))"
   ]
  },
  {
   "cell_type": "markdown",
   "id": "eb18d0bb-4c87-4f34-b0ed-85cdd79b3957",
   "metadata": {},
   "source": [
    "### FEATURE SELECTION DEPEND ON CORRELATION MATRIX"
   ]
  },
  {
   "cell_type": "markdown",
   "id": "ea09629b-a292-4f8f-a43d-25a91ca7e2c9",
   "metadata": {},
   "source": [
    "plt.figure(figsize=(12,10))\n",
    "sns.heatmap(df.corr(),cmap='coolwarm')"
   ]
  },
  {
   "cell_type": "code",
   "execution_count": 7,
   "id": "c5b3afc4-6809-45dc-ba5b-7dcc24712c33",
   "metadata": {},
   "outputs": [
    {
     "data": {
      "text/plain": [
       "Index(['SalePrice', 'Fireplaces', 'MasVnrArea', 'GarageArea', 'LotArea',\n",
       "       'GarageCars', 'BsmtFinSF1', 'TotalBsmtSF', 'GrLivArea', 'OpenPorchSF'],\n",
       "      dtype='object')"
      ]
     },
     "execution_count": 7,
     "metadata": {},
     "output_type": "execute_result"
    }
   ],
   "source": [
    "c=corr.sort_values(\"SalePrice\",ascending=False).head(10).index\n",
    "c"
   ]
  },
  {
   "cell_type": "code",
   "execution_count": 8,
   "id": "0894d8df-f9a6-4868-a282-f954c8dd1219",
   "metadata": {},
   "outputs": [
    {
     "data": {
      "text/html": [
       "<div>\n",
       "<style scoped>\n",
       "    .dataframe tbody tr th:only-of-type {\n",
       "        vertical-align: middle;\n",
       "    }\n",
       "\n",
       "    .dataframe tbody tr th {\n",
       "        vertical-align: top;\n",
       "    }\n",
       "\n",
       "    .dataframe thead th {\n",
       "        text-align: right;\n",
       "    }\n",
       "</style>\n",
       "<table border=\"1\" class=\"dataframe\">\n",
       "  <thead>\n",
       "    <tr style=\"text-align: right;\">\n",
       "      <th></th>\n",
       "      <th>K</th>\n",
       "      <th>MAE</th>\n",
       "      <th>RMSE</th>\n",
       "      <th>r2</th>\n",
       "    </tr>\n",
       "  </thead>\n",
       "  <tbody>\n",
       "    <tr>\n",
       "      <th>0</th>\n",
       "      <td>10</td>\n",
       "      <td>29201.672890</td>\n",
       "      <td>51935.895861</td>\n",
       "      <td>0.648341</td>\n",
       "    </tr>\n",
       "    <tr>\n",
       "      <th>1</th>\n",
       "      <td>11</td>\n",
       "      <td>30500.940411</td>\n",
       "      <td>52641.152633</td>\n",
       "      <td>0.638726</td>\n",
       "    </tr>\n",
       "    <tr>\n",
       "      <th>2</th>\n",
       "      <td>12</td>\n",
       "      <td>30678.930853</td>\n",
       "      <td>52386.048459</td>\n",
       "      <td>0.642219</td>\n",
       "    </tr>\n",
       "    <tr>\n",
       "      <th>3</th>\n",
       "      <td>13</td>\n",
       "      <td>30466.217120</td>\n",
       "      <td>52886.720718</td>\n",
       "      <td>0.635347</td>\n",
       "    </tr>\n",
       "    <tr>\n",
       "      <th>4</th>\n",
       "      <td>14</td>\n",
       "      <td>30399.908638</td>\n",
       "      <td>51783.576377</td>\n",
       "      <td>0.650401</td>\n",
       "    </tr>\n",
       "    <tr>\n",
       "      <th>...</th>\n",
       "      <td>...</td>\n",
       "      <td>...</td>\n",
       "      <td>...</td>\n",
       "      <td>...</td>\n",
       "    </tr>\n",
       "    <tr>\n",
       "      <th>105</th>\n",
       "      <td>115</td>\n",
       "      <td>22598.649075</td>\n",
       "      <td>38144.379768</td>\n",
       "      <td>0.810309</td>\n",
       "    </tr>\n",
       "    <tr>\n",
       "      <th>106</th>\n",
       "      <td>116</td>\n",
       "      <td>22724.439863</td>\n",
       "      <td>38340.042112</td>\n",
       "      <td>0.808358</td>\n",
       "    </tr>\n",
       "    <tr>\n",
       "      <th>107</th>\n",
       "      <td>117</td>\n",
       "      <td>22380.555205</td>\n",
       "      <td>37127.268947</td>\n",
       "      <td>0.820290</td>\n",
       "    </tr>\n",
       "    <tr>\n",
       "      <th>108</th>\n",
       "      <td>118</td>\n",
       "      <td>22856.957192</td>\n",
       "      <td>38173.958842</td>\n",
       "      <td>0.810014</td>\n",
       "    </tr>\n",
       "    <tr>\n",
       "      <th>109</th>\n",
       "      <td>119</td>\n",
       "      <td>22410.925274</td>\n",
       "      <td>37870.700240</td>\n",
       "      <td>0.813021</td>\n",
       "    </tr>\n",
       "  </tbody>\n",
       "</table>\n",
       "<p>110 rows × 4 columns</p>\n",
       "</div>"
      ],
      "text/plain": [
       "       K           MAE          RMSE        r2\n",
       "0     10  29201.672890  51935.895861  0.648341\n",
       "1     11  30500.940411  52641.152633  0.638726\n",
       "2     12  30678.930853  52386.048459  0.642219\n",
       "3     13  30466.217120  52886.720718  0.635347\n",
       "4     14  30399.908638  51783.576377  0.650401\n",
       "..   ...           ...           ...       ...\n",
       "105  115  22598.649075  38144.379768  0.810309\n",
       "106  116  22724.439863  38340.042112  0.808358\n",
       "107  117  22380.555205  37127.268947  0.820290\n",
       "108  118  22856.957192  38173.958842  0.810014\n",
       "109  119  22410.925274  37870.700240  0.813021\n",
       "\n",
       "[110 rows x 4 columns]"
      ]
     },
     "execution_count": 8,
     "metadata": {},
     "output_type": "execute_result"
    }
   ],
   "source": [
    "k, mae, rmse, r2 = [], [], [], []\n",
    "for i in range(10,120):\n",
    "    c=corr.sort_values(\"SalePrice\",ascending=False).iloc[1:i,:].index\n",
    "    df_fs=create_df(c)\n",
    "    eval(df_fs)\n",
    "statistic_tup={\n",
    "    \"K\":k,\n",
    "    \"MAE\":mae,\n",
    "    \"RMSE\":rmse,\n",
    "    \"r2\":r2\n",
    "}\n",
    "statistic=pd.DataFrame(statistic_tup)\n",
    "statistic"
   ]
  },
  {
   "cell_type": "code",
   "execution_count": 9,
   "id": "676d601a-5843-48a7-b013-75622f2dd80c",
   "metadata": {},
   "outputs": [
    {
     "data": {
      "text/html": [
       "<div>\n",
       "<style scoped>\n",
       "    .dataframe tbody tr th:only-of-type {\n",
       "        vertical-align: middle;\n",
       "    }\n",
       "\n",
       "    .dataframe tbody tr th {\n",
       "        vertical-align: top;\n",
       "    }\n",
       "\n",
       "    .dataframe thead th {\n",
       "        text-align: right;\n",
       "    }\n",
       "</style>\n",
       "<table border=\"1\" class=\"dataframe\">\n",
       "  <thead>\n",
       "    <tr style=\"text-align: right;\">\n",
       "      <th></th>\n",
       "      <th>K</th>\n",
       "      <th>MAE</th>\n",
       "      <th>RMSE</th>\n",
       "      <th>r2</th>\n",
       "    </tr>\n",
       "  </thead>\n",
       "  <tbody>\n",
       "    <tr>\n",
       "      <th>62</th>\n",
       "      <td>72</td>\n",
       "      <td>21622.112397</td>\n",
       "      <td>40257.950211</td>\n",
       "      <td>0.788705</td>\n",
       "    </tr>\n",
       "    <tr>\n",
       "      <th>73</th>\n",
       "      <td>83</td>\n",
       "      <td>22145.304555</td>\n",
       "      <td>36989.722824</td>\n",
       "      <td>0.821619</td>\n",
       "    </tr>\n",
       "    <tr>\n",
       "      <th>99</th>\n",
       "      <td>109</td>\n",
       "      <td>22234.105925</td>\n",
       "      <td>37182.753496</td>\n",
       "      <td>0.819752</td>\n",
       "    </tr>\n",
       "    <tr>\n",
       "      <th>101</th>\n",
       "      <td>111</td>\n",
       "      <td>22281.667637</td>\n",
       "      <td>37668.507664</td>\n",
       "      <td>0.815012</td>\n",
       "    </tr>\n",
       "    <tr>\n",
       "      <th>97</th>\n",
       "      <td>107</td>\n",
       "      <td>22295.769452</td>\n",
       "      <td>36822.314044</td>\n",
       "      <td>0.823230</td>\n",
       "    </tr>\n",
       "    <tr>\n",
       "      <th>...</th>\n",
       "      <td>...</td>\n",
       "      <td>...</td>\n",
       "      <td>...</td>\n",
       "      <td>...</td>\n",
       "    </tr>\n",
       "    <tr>\n",
       "      <th>6</th>\n",
       "      <td>16</td>\n",
       "      <td>30229.863265</td>\n",
       "      <td>52397.413181</td>\n",
       "      <td>0.642064</td>\n",
       "    </tr>\n",
       "    <tr>\n",
       "      <th>4</th>\n",
       "      <td>14</td>\n",
       "      <td>30399.908638</td>\n",
       "      <td>51783.576377</td>\n",
       "      <td>0.650401</td>\n",
       "    </tr>\n",
       "    <tr>\n",
       "      <th>3</th>\n",
       "      <td>13</td>\n",
       "      <td>30466.217120</td>\n",
       "      <td>52886.720718</td>\n",
       "      <td>0.635347</td>\n",
       "    </tr>\n",
       "    <tr>\n",
       "      <th>1</th>\n",
       "      <td>11</td>\n",
       "      <td>30500.940411</td>\n",
       "      <td>52641.152633</td>\n",
       "      <td>0.638726</td>\n",
       "    </tr>\n",
       "    <tr>\n",
       "      <th>2</th>\n",
       "      <td>12</td>\n",
       "      <td>30678.930853</td>\n",
       "      <td>52386.048459</td>\n",
       "      <td>0.642219</td>\n",
       "    </tr>\n",
       "  </tbody>\n",
       "</table>\n",
       "<p>110 rows × 4 columns</p>\n",
       "</div>"
      ],
      "text/plain": [
       "       K           MAE          RMSE        r2\n",
       "62    72  21622.112397  40257.950211  0.788705\n",
       "73    83  22145.304555  36989.722824  0.821619\n",
       "99   109  22234.105925  37182.753496  0.819752\n",
       "101  111  22281.667637  37668.507664  0.815012\n",
       "97   107  22295.769452  36822.314044  0.823230\n",
       "..   ...           ...           ...       ...\n",
       "6     16  30229.863265  52397.413181  0.642064\n",
       "4     14  30399.908638  51783.576377  0.650401\n",
       "3     13  30466.217120  52886.720718  0.635347\n",
       "1     11  30500.940411  52641.152633  0.638726\n",
       "2     12  30678.930853  52386.048459  0.642219\n",
       "\n",
       "[110 rows x 4 columns]"
      ]
     },
     "execution_count": 9,
     "metadata": {},
     "output_type": "execute_result"
    }
   ],
   "source": [
    "statistic.sort_values(\"MAE\",ascending=True)"
   ]
  },
  {
   "cell_type": "code",
   "execution_count": 10,
   "id": "27f2b7d8-71ae-47dd-8abe-025035855a86",
   "metadata": {},
   "outputs": [
    {
     "name": "stderr",
     "output_type": "stream",
     "text": [
      "C:\\Users\\NTCUONG\\AppData\\Local\\Temp\\ipykernel_10244\\3627608168.py:4: UserWarning: set_ticklabels() should only be used with a fixed number of ticks, i.e. after set_ticks() or using a FixedLocator.\n",
      "  ax1.set_xticklabels(ax1.get_xticklabels(), rotation=90, ha=\"left\")\n",
      "C:\\Users\\NTCUONG\\AppData\\Local\\Temp\\ipykernel_10244\\3627608168.py:5: UserWarning: set_ticklabels() should only be used with a fixed number of ticks, i.e. after set_ticks() or using a FixedLocator.\n",
      "  ax2.set_xticklabels(ax2.get_xticklabels(), rotation=90, ha=\"left\")\n"
     ]
    },
    {
     "data": {
      "image/png": "[encoded data removed]",
      "text/plain": [
       "<Figure size 2000x500 with 2 Axes>"
      ]
     },
     "metadata": {},
     "output_type": "display_data"
    }
   ],
   "source": [
    "fig,axes=plt.subplots(nrows=1,ncols=2,figsize=(20,5))\n",
    "ax1=sns.lineplot(data=statistic,x=\"K\",y=\"MAE\",ax=axes[0])\n",
    "ax2=sns.lineplot(data=statistic,x=\"K\",y=\"r2\",ax=axes[1])\n",
    "ax1.set_xticklabels(ax1.get_xticklabels(), rotation=90, ha=\"left\")\n",
    "ax2.set_xticklabels(ax2.get_xticklabels(), rotation=90, ha=\"left\")\n",
    "plt.show()"
   ]
  },
  {
   "cell_type": "markdown",
   "id": "31e87dce-57c8-4e2f-8555-3c918912d6cd",
   "metadata": {
    "jp-MarkdownHeadingCollapsed": true
   },
   "source": [
    "### FEATURE SELECTION BY REMOVE FEATURE WITH LOW VARIENCE\n"
   ]
  },
  {
   "cell_type": "markdown",
   "id": "28560394-79b9-49f6-bb5d-34ab6ee562db",
   "metadata": {},
   "source": [
    "### 1.CALCULATE VARIENCE FOR EACH FEATURE"
   ]
  },
  {
   "cell_type": "code",
   "execution_count": 11,
   "id": "4d8c0fbe-ef2c-4133-8094-6c65f052c1ee",
   "metadata": {},
   "outputs": [
    {
     "name": "stderr",
     "output_type": "stream",
     "text": [
      "D:\\miniconda\\lib\\site-packages\\numpy\\core\\fromnumeric.py:3785: FutureWarning: The behavior of DataFrame.var with axis=None is deprecated, in a future version this will reduce over both axes and return a scalar. To retain the old behavior, pass axis=0 (or do not pass axis)\n",
      "  return var(axis=axis, dtype=dtype, out=out, ddof=ddof, **kwargs)\n"
     ]
    },
    {
     "data": {
      "text/plain": [
       "MSSubClass       3.261390e-02\n",
       "MSZoning         2.602904e-02\n",
       "LotFrontage      5.107889e-03\n",
       "LotArea          2.617374e-02\n",
       "Street           2.493119e-02\n",
       "                     ...     \n",
       "YrSold           2.532877e-02\n",
       "SaleType         3.044613e-02\n",
       "SaleCondition    3.442249e-02\n",
       "Ageofhouse       3.430254e-02\n",
       "SalePrice        6.306789e+09\n",
       "Length: 75, dtype: float64"
      ]
     },
     "execution_count": 11,
     "metadata": {},
     "output_type": "execute_result"
    }
   ],
   "source": [
    "varr=np.var(df)\n",
    "varr"
   ]
  },
  {
   "cell_type": "code",
   "execution_count": 12,
   "id": "deee7fd7-9118-4748-910d-627416ff8b46",
   "metadata": {
    "scrolled": true
   },
   "outputs": [
    {
     "data": {
      "text/plain": [
       "Index(['SalePrice'], dtype='object')"
      ]
     },
     "execution_count": 12,
     "metadata": {},
     "output_type": "execute_result"
    }
   ],
   "source": [
    "varr.loc[varr > 0.1].index"
   ]
  },
  {
   "cell_type": "markdown",
   "id": "bd3036f0-0249-4f8d-bd5d-6eb8538410ba",
   "metadata": {},
   "source": [
    "### 2.USING VarianceThreshold FROM SKLEARN"
   ]
  },
  {
   "cell_type": "code",
   "execution_count": 13,
   "id": "9c594e26-b851-474f-88bd-81e1ba0ecf3d",
   "metadata": {},
   "outputs": [],
   "source": [
    "from sklearn.feature_selection import VarianceThreshold"
   ]
  },
  {
   "cell_type": "code",
   "execution_count": 14,
   "id": "b9ceabd8-3df1-4f20-896f-0fc47f18efc7",
   "metadata": {},
   "outputs": [
    {
     "data": {
      "text/plain": [
       "Index(['SalePrice'], dtype='object')"
      ]
     },
     "execution_count": 14,
     "metadata": {},
     "output_type": "execute_result"
    }
   ],
   "source": [
    "varr_thresh=VarianceThreshold(threshold=0.1)\n",
    "varr_thresh.fit_transform(df)\n",
    "selected_columns = df.columns[varr_thresh.get_support()]\n",
    "selected_columns"
   ]
  },
  {
   "cell_type": "code",
   "execution_count": null,
   "id": "3050b1c6-5a9e-4af1-a6e9-f6651ae6a861",
   "metadata": {},
   "outputs": [],
   "source": [
    "k, mae, rmse, r2 = [], [], [], []\n",
    "for i in range(100,500):\n",
    "    varr_thresh=VarianceThreshold(threshold=i/100000)\n",
    "    varr_thresh.fit_transform(df.iloc[:,:-1])\n",
    "    selected_columns = df.iloc[:,:-1].columns[varr_thresh.get_support()]\n",
    "    df_fs=create_df(selected_columns)\n",
    "    eval(df_fs)\n",
    "statistic_tup={\n",
    "    \"K\":k,\n",
    "    \"MAE\":mae,\n",
    "    \"RMSE\":rmse,\n",
    "    \"r2\":r2\n",
    "}\n",
    "statistic=pd.DataFrame(statistic_tup)\n",
    "statistic"
   ]
  },
  {
   "cell_type": "code",
   "execution_count": null,
   "id": "ba8cc36b-f961-4542-a3bc-a690375d2c01",
   "metadata": {},
   "outputs": [],
   "source": [
    "statistic.sort_values(\"MAE\",ascending=True)"
   ]
  },
  {
   "cell_type": "code",
   "execution_count": null,
   "id": "426be3b2-2b5a-4489-aec5-7c4495e5c6ee",
   "metadata": {},
   "outputs": [],
   "source": [
    "fig,axes=plt.subplots(nrows=1,ncols=2,figsize=(20,5))\n",
    "ax1=sns.lineplot(data=statistic,x=statistic[\"K\"]/1000,y=\"MAE\",ax=axes[0])\n",
    "ax2=sns.lineplot(data=statistic,x=statistic[\"K\"]/1000,y=\"r2\",ax=axes[1])\n",
    "ax1.set_xticklabels(ax1.get_xticklabels(), rotation=90, ha=\"left\")\n",
    "ax2.set_xticklabels(ax2.get_xticklabels(), rotation=90, ha=\"left\")\n",
    "plt.show()"
   ]
  },
  {
   "cell_type": "markdown",
   "id": "cfe42fd1-34ed-4bbb-868e-d8a53b0bea6b",
   "metadata": {},
   "source": [
    "### Univariate feature selection\n"
   ]
  },
  {
   "cell_type": "markdown",
   "id": "b735a131-ead7-4b7f-9d59-36cbb5d03492",
   "metadata": {},
   "source": [
    "### Statistic function (r_regression, f_regression, mutual_info_regression)"
   ]
  },
  {
   "cell_type": "markdown",
   "id": "14dc6574-3f79-4a26-ac25-13bdfe5575e4",
   "metadata": {},
   "source": [
    "### 1. r_regression\n"
   ]
  },
  {
   "attachments": {
    "f483b42b-de90-46a8-afcd-444eb978b015.png": {
     "image/png": "[encoded data removed]"
    }
   },
   "cell_type": "markdown",
   "id": "847e49f6-4059-47ab-b67f-7d62a2135c53",
   "metadata": {},
   "source": [
    "![image.png](attachment:f483b42b-de90-46a8-afcd-444eb978b015.png)"
   ]
  },
  {
   "cell_type": "markdown",
   "id": "d99c19dc-e3ab-4046-89cb-d94f98f1eeeb",
   "metadata": {},
   "source": [
    "### Using numpy"
   ]
  },
  {
   "cell_type": "code",
   "execution_count": null,
   "id": "4a8d6dea-2710-4134-a34a-2ed5870b702b",
   "metadata": {},
   "outputs": [],
   "source": [
    "def similitary_score(x,y):\n",
    "    x_avg=np.average(x)\n",
    "    y_avg=np.average(y)\n",
    "    up=np.sum((x-x_avg)*(y-y_avg))\n",
    "    down=np.sqrt(np.sum((x-x_avg)**2)*np.sum((y-y_avg)**2))\n",
    "    return up/down"
   ]
  },
  {
   "cell_type": "code",
   "execution_count": null,
   "id": "f44a44ff-b35a-4ce2-b8ba-450ad8a522a5",
   "metadata": {},
   "outputs": [],
   "source": [
    "print(similitary_score(df[\"OverallQual\"],df[\"SalePrice\"]))"
   ]
  },
  {
   "cell_type": "code",
   "execution_count": null,
   "id": "422b3d11-1917-4f26-985d-ecd4c1204dc3",
   "metadata": {},
   "outputs": [],
   "source": [
    "top_feature=[]\n",
    "for col in df.columns:\n",
    "    score=similitary_score(df[col],df[\"SalePrice\"])\n",
    "    if col != \"SalePrice\" and score > 0.6:\n",
    "        top_feature.append([col,score])\n",
    "top_feature"
   ]
  },
  {
   "cell_type": "markdown",
   "id": "161a3edf-3401-4570-9c6d-78eff8d7a568",
   "metadata": {},
   "source": [
    "### Using sklearn"
   ]
  },
  {
   "cell_type": "code",
   "execution_count": null,
   "id": "c35379c8-100b-48ac-a665-0198f7b4976e",
   "metadata": {},
   "outputs": [],
   "source": [
    "from sklearn.feature_selection import r_regression\n",
    "from sklearn.feature_selection import SelectKBest\n",
    "# for i in range(5,21):\n",
    "fs=SelectKBest(r_regression,k=6)\n",
    "fl_df=fs.fit_transform(df.iloc[:,:-1],df.iloc[:,-1])\n",
    "# selected=df.columns[fs.get_support()]\n",
    "fs.get_feature_names_out()"
   ]
  },
  {
   "cell_type": "code",
   "execution_count": null,
   "id": "ec4e58bb-85e9-4cd6-8bd3-6bb94ec57fc5",
   "metadata": {},
   "outputs": [],
   "source": [
    "k, mae, rmse, r2 = [], [], [], []\n",
    "\n",
    "for i in range(5,120):\n",
    "    fs=SelectKBest(r_regression,k=i)\n",
    "    fl_df=fs.fit_transform(df.iloc[:,:-1],df.iloc[:,-1])\n",
    "    c=fs.get_feature_names_out()\n",
    "    df_fs=create_df(c)\n",
    "    eval(df_fs)\n",
    "statistic_tup={\n",
    "    \"K\":k,\n",
    "    \"MAE\":mae,\n",
    "    \"RMSE\":rmse,\n",
    "    \"r2\":r2\n",
    "}\n",
    "statistic=pd.DataFrame(statistic_tup)\n",
    "statistic.to_csv(\"r_regression_label_enc.csv\")\n",
    "statistic\n"
   ]
  },
  {
   "cell_type": "code",
   "execution_count": null,
   "id": "a9e40c8f-cc90-4899-8725-4c434aedee23",
   "metadata": {},
   "outputs": [],
   "source": [
    "statistic.sort_values(\"MAE\",ascending=True)"
   ]
  },
  {
   "cell_type": "code",
   "execution_count": null,
   "id": "87568b67-482d-4e83-80de-4565d1868358",
   "metadata": {},
   "outputs": [],
   "source": [
    "fig,axes=plt.subplots(nrows=1,ncols=2,figsize=(20,5))\n",
    "ax1=sns.lineplot(data=statistic,x=\"K\",y=\"MAE\",ax=axes[0])\n",
    "ax2=sns.lineplot(data=statistic,x=\"K\",y=\"r2\",ax=axes[1])\n",
    "ax1.set_xticklabels(ax1.get_xticklabels(), rotation=90, ha=\"left\")\n",
    "ax2.set_xticklabels(ax2.get_xticklabels(), rotation=90, ha=\"left\")\n",
    "plt.show()"
   ]
  },
  {
   "cell_type": "markdown",
   "id": "b8242cd7-0c52-4727-ad87-716dd6cf1db0",
   "metadata": {},
   "source": [
    "### 2.f_regression"
   ]
  },
  {
   "attachments": {
    "95f14443-0240-442c-b294-562b150eb8bd.png": {
     "image/png": "[encoded data removed]"
    }
   },
   "cell_type": "markdown",
   "id": "4e2a1a1e-0f3c-4962-8d8e-e6533a5adbae",
   "metadata": {},
   "source": [
    "![image.png](attachment:95f14443-0240-442c-b294-562b150eb8bd.png)"
   ]
  },
  {
   "attachments": {
    "a344f6dc-6cf9-490d-a595-9c80c9c1128a.png": {
     "image/png": "[encoded data removed]"
    }
   },
   "cell_type": "markdown",
   "id": "76d3364d-ca14-4713-b252-2f742d5d4984",
   "metadata": {},
   "source": [
    "![image.png](attachment:a344f6dc-6cf9-490d-a595-9c80c9c1128a.png)"
   ]
  },
  {
   "cell_type": "code",
   "execution_count": null,
   "id": "4f385cff-cac4-475e-9496-7063cc459f66",
   "metadata": {},
   "outputs": [],
   "source": [
    "from sklearn.feature_selection import f_regression"
   ]
  },
  {
   "cell_type": "code",
   "execution_count": null,
   "id": "6a67a76a-d819-44e0-a458-62063ef39cdc",
   "metadata": {},
   "outputs": [],
   "source": [
    "k, mae, rmse, r2 = [], [], [], []\n",
    "for i in range(5,120):\n",
    "    fs=SelectKBest(f_regression,k=i)\n",
    "    fl_df=fs.fit_transform(df.iloc[:,:-1],df.iloc[:,-1])\n",
    "    c=fs.get_feature_names_out()\n",
    "    df_fs=create_df(c)\n",
    "    eval(df_fs)\n",
    "statistic_tup={\n",
    "    \"K\":k,\n",
    "    \"MAE\":mae,\n",
    "    \"RMSE\":rmse,\n",
    "    \"r2\":r2\n",
    "}\n",
    "statistic=pd.DataFrame(statistic_tup)\n",
    "statistic.to_csv(\"f_regression_label_enc.csv\")\n",
    "statistic"
   ]
  },
  {
   "cell_type": "code",
   "execution_count": null,
   "id": "5560d383-3895-4bda-836a-2cf44b5d803c",
   "metadata": {},
   "outputs": [],
   "source": [
    "statistic.sort_values(\"MAE\",ascending=True)"
   ]
  },
  {
   "cell_type": "code",
   "execution_count": null,
   "id": "a927a833-5bba-4baf-b3e3-efc9aae888e8",
   "metadata": {},
   "outputs": [],
   "source": [
    "fig,axes=plt.subplots(nrows=1,ncols=2,figsize=(20,5))\n",
    "ax1=sns.lineplot(data=statistic,x=\"K\",y=\"MAE\",ax=axes[0])\n",
    "ax2=sns.lineplot(data=statistic,x=\"K\",y=\"r2\",ax=axes[1])\n",
    "ax1.set_xticklabels(ax1.get_xticklabels(), rotation=90, ha=\"left\")\n",
    "ax2.set_xticklabels(ax2.get_xticklabels(), rotation=90, ha=\"left\")\n",
    "plt.show()"
   ]
  },
  {
   "cell_type": "markdown",
   "id": "8fccd82f-42db-4287-88c9-aec8166133c0",
   "metadata": {},
   "source": [
    "### 3.Mutual infomation"
   ]
  },
  {
   "cell_type": "markdown",
   "id": "cb273dca-e014-4519-87b7-81508f38df58",
   "metadata": {},
   "source": [
    "### Fomula"
   ]
  },
  {
   "attachments": {
    "283a97b8-8534-4c70-8086-d6b229834262.png": {
     "image/png": "[encoded data removed]"
    }
   },
   "cell_type": "markdown",
   "id": "1a2af73c-6d12-4d7f-9181-164c97936ba2",
   "metadata": {},
   "source": [
    "![image.png](attachment:283a97b8-8534-4c70-8086-d6b229834262.png)"
   ]
  },
  {
   "cell_type": "markdown",
   "id": "63501a85-ee1f-4c95-8784-d24452fe94d3",
   "metadata": {},
   "source": [
    "### Mesure dependency of 2 variable X,Y"
   ]
  },
  {
   "cell_type": "markdown",
   "id": "4ca8fc23-c6f5-4983-bfd6-205af5bab5d8",
   "metadata": {},
   "source": [
    "### KDE method (Estimate Probability Density Function)"
   ]
  },
  {
   "attachments": {
    "d3173b36-c1e3-421a-a817-095dbfd9041c.png": {
     "image/png": "[encoded data removed]"
    }
   },
   "cell_type": "markdown",
   "id": "7caa4ea9-6baa-4895-92ed-141b485197dc",
   "metadata": {},
   "source": [
    "![image.png](attachment:d3173b36-c1e3-421a-a817-095dbfd9041c.png)"
   ]
  },
  {
   "attachments": {
    "88044c6a-ccc1-4d54-bbb2-f410d59aa145.png": {
     "image/png": "[encoded data removed]"
    }
   },
   "cell_type": "markdown",
   "id": "6c569216-9a9d-46a5-9e69-dbbdd78a168e",
   "metadata": {},
   "source": [
    "![image.png](attachment:88044c6a-ccc1-4d54-bbb2-f410d59aa145.png)"
   ]
  },
  {
   "attachments": {
    "5c8079a5-deea-43ef-85ff-0e46935b227e.png": {
     "image/png": "[encoded data removed]"
    }
   },
   "cell_type": "markdown",
   "id": "67ef31a2-4a95-466b-8e28-3610e8188a09",
   "metadata": {},
   "source": [
    "![image.png](attachment:5c8079a5-deea-43ef-85ff-0e46935b227e.png)"
   ]
  },
  {
   "cell_type": "code",
   "execution_count": null,
   "id": "ed1d3da5-fd97-40d8-9c5d-04e8f0cad843",
   "metadata": {},
   "outputs": [],
   "source": [
    "all_col=df.columns\n",
    "all_col"
   ]
  },
  {
   "cell_type": "code",
   "execution_count": null,
   "id": "1f0fb24b-024e-4c3a-bff2-cc5a28574c61",
   "metadata": {},
   "outputs": [],
   "source": [
    "from sklearn.feature_selection import mutual_info_regression"
   ]
  },
  {
   "cell_type": "code",
   "execution_count": null,
   "id": "4f74733c-0ab9-40f6-b711-f05abac60222",
   "metadata": {},
   "outputs": [],
   "source": [
    "k, mae, rmse, r2 = [], [], [], []\n",
    "for i in range(5,120):\n",
    "    fs=SelectKBest(mutual_info_regression,k=i)\n",
    "    fl_df=fs.fit_transform(df.iloc[:,:-1],df.iloc[:,-1])\n",
    "    c=fs.get_feature_names_out()\n",
    "    df_fs=create_df(c)\n",
    "    eval(df_fs)\n",
    "statistic_tup={\n",
    "    \"K\":k,\n",
    "    \"MAE\":mae,\n",
    "    \"RMSE\":rmse,\n",
    "    \"r2\":r2\n",
    "}\n",
    "statistic=pd.DataFrame(statistic_tup)\n",
    "statistic"
   ]
  },
  {
   "cell_type": "code",
   "execution_count": null,
   "id": "d6b4c9ed-a54e-4449-997c-b0b71480ed03",
   "metadata": {},
   "outputs": [],
   "source": [
    "statistic.to_csv(\"mutual_infomation_label_enc.csv\")"
   ]
  },
  {
   "cell_type": "code",
   "execution_count": null,
   "id": "66353d8a-273a-43b2-9348-7c77a1ead34c",
   "metadata": {},
   "outputs": [],
   "source": [
    "statistic.sort_values(\"MAE\",ascending=True)"
   ]
  },
  {
   "cell_type": "code",
   "execution_count": null,
   "id": "b493a0fe-ce77-4133-9707-bd689592e4e8",
   "metadata": {},
   "outputs": [],
   "source": [
    "fig,axes=plt.subplots(nrows=1,ncols=2,figsize=(20,5))\n",
    "ax1=sns.lineplot(data=statistic,x=\"K\",y=\"MAE\",ax=axes[0])\n",
    "ax2=sns.lineplot(data=statistic,x=\"K\",y=\"r2\",ax=axes[1])\n",
    "ax1.set_xticklabels(ax1.get_xticklabels(), rotation=90, ha=\"left\")\n",
    "ax2.set_xticklabels(ax2.get_xticklabels(), rotation=90, ha=\"left\")\n",
    "plt.show()"
   ]
  },
  {
   "cell_type": "markdown",
   "id": "96b68e21-5e93-4086-b427-dd61d1c23249",
   "metadata": {},
   "source": [
    "### RFE (Recursive feature elimination)"
   ]
  },
  {
   "cell_type": "markdown",
   "id": "488501b0-e325-4a68-8142-39b486f42413",
   "metadata": {},
   "source": [
    "df"
   ]
  },
  {
   "cell_type": "markdown",
   "id": "35646a3a-5577-4588-b2eb-2369bf4fdbeb",
   "metadata": {},
   "source": [
    "from sklearn.feature_selection import RFE,RFECV\n",
    "rfe=RFE(estimator=model,n_features_to_select=5)\n",
    "rfe.fit(df.iloc[:,:-1],df.iloc[:,-1])\n",
    "rfe.get_feature_names_out()"
   ]
  },
  {
   "cell_type": "markdown",
   "id": "23786bcd-9bf0-4307-abf6-1526b927ab37",
   "metadata": {},
   "source": [
    "k, mae, rmse, r2 = [], [], [], []\n",
    "for i in range(10,50):\n",
    "    rfe=RFE(estimator=model,n_features_to_select=i)\n",
    "    rfe.fit(df.iloc[:,:-1],df.iloc[:,-1])\n",
    "    c = df.iloc[:,:-1].columns[rfe.support_]\n",
    "    df_fs=create_df(c)\n",
    "    eval(df_fs)\n",
    "statistic_tup={\n",
    "    \"K\":k,\n",
    "    \"MAE\":mae,\n",
    "    \"RMSE\":rmse,\n",
    "    \"r2\":r2\n",
    "}\n",
    "statistic=pd.DataFrame(statistic_tup)\n",
    "statistic"
   ]
  },
  {
   "cell_type": "markdown",
   "id": "32258f50-cd5a-4e62-965e-9fb16a6bf36e",
   "metadata": {},
   "source": [
    "statistic.to_csv(\"RFE.csv\")"
   ]
  },
  {
   "cell_type": "markdown",
   "id": "c3ce08df-15da-425e-91c6-d03c75b40392",
   "metadata": {},
   "source": [
    "statistic=pd.read_csv(\"RFE.csv\")"
   ]
  },
  {
   "cell_type": "markdown",
   "id": "0aac917a-22aa-4077-bfbf-9b68372b6a55",
   "metadata": {},
   "source": [
    "fig,axes=plt.subplots(nrows=1,ncols=2,figsize=(20,5))\n",
    "ax1=sns.lineplot(data=statistic,x=\"K\",y=\"MAE\",ax=axes[0])\n",
    "ax2=sns.lineplot(data=statistic,x=\"K\",y=\"r2\",ax=axes[1])\n",
    "ax1.set_xticklabels(ax1.get_xticklabels(), rotation=90, ha=\"left\")\n",
    "ax2.set_xticklabels(ax2.get_xticklabels(), rotation=90, ha=\"left\")\n",
    "plt.show()"
   ]
  },
  {
   "cell_type": "markdown",
   "id": "f28862a2-87ac-42b4-b6be-86d5d13e7f32",
   "metadata": {},
   "source": [
    "k, mae, rmse, r2 = [], [], [], []\n",
    "for i in range(10,15):\n",
    "    rfe=RFECV(estimator=model,min_features_to_select=i,cv=5)\n",
    "    rfe.fit(df.iloc[:,:-1],df.iloc[:,-1])\n",
    "    c = df.iloc[:,:-1].columns[rfe.support_]\n",
    "    df_fs=create_df(c)\n",
    "    eval(df_fs)\n",
    "statistic_tup={\n",
    "    \"K\":k,\n",
    "    \"MAE\":mae,\n",
    "    \"RMSE\":rmse,\n",
    "    \"r2\":r2\n",
    "}\n",
    "statistic=pd.DataFrame(statistic_tup)\n",
    "statistic"
   ]
  },
  {
   "cell_type": "markdown",
   "id": "1856486d-f0dc-4ffe-b97f-42d9dd944d48",
   "metadata": {},
   "source": [
    "fig,axes=plt.subplots(nrows=1,ncols=2,figsize=(20,5))\n",
    "ax1=sns.lineplot(data=statistic,x=\"K\",y=\"MAE\",ax=axes[0])\n",
    "ax2=sns.lineplot(data=statistic,x=\"K\",y=\"r2\",ax=axes[1])\n",
    "ax1.set_xticklabels(ax1.get_xticklabels(), rotation=90, ha=\"left\")\n",
    "ax2.set_xticklabels(ax2.get_xticklabels(), rotation=90, ha=\"left\")\n",
    "plt.show()"
   ]
  },
  {
   "cell_type": "markdown",
   "id": "88f5fa5c-d300-49c5-9bcf-b2759d596b99",
   "metadata": {},
   "source": [
    "statistic.to_csv(\"RFECV.csv\")"
   ]
  },
  {
   "cell_type": "code",
   "execution_count": null,
   "id": "f150024e-1f94-457d-8914-76a50e10d26d",
   "metadata": {},
   "outputs": [],
   "source": [
    "r=pd.read_csv(\"r_regression_label_enc.csv\")\n",
    "r=r.iloc[:,1:]\n",
    "r"
   ]
  },
  {
   "cell_type": "code",
   "execution_count": null,
   "id": "8ce5687a-6027-4a68-9901-1e3ba152a35a",
   "metadata": {},
   "outputs": [],
   "source": [
    "f=pd.read_csv(\"f_regression_label_enc.csv\")\n",
    "f=f.iloc[:,1:]\n",
    "f"
   ]
  },
  {
   "cell_type": "code",
   "execution_count": null,
   "id": "de2417de-f7ff-4285-90af-47da068748ac",
   "metadata": {},
   "outputs": [],
   "source": [
    "mutual=pd.read_csv(\"mutual_infomation_label_enc.csv\")\n",
    "mutual=mutual.iloc[:,1:]\n",
    "mutual"
   ]
  },
  {
   "cell_type": "code",
   "execution_count": null,
   "id": "06841aaa-7769-4d18-8887-cdced460d5fd",
   "metadata": {},
   "outputs": [],
   "source": [
    "joint=pd.merge(r,f,how='inner',on=\"K\")\n",
    "joint"
   ]
  },
  {
   "cell_type": "code",
   "execution_count": null,
   "id": "06d44a40-aa3d-420a-8958-7941fcff85b9",
   "metadata": {},
   "outputs": [],
   "source": [
    "joint=pd.merge(joint,mutual,on=\"K\",how=\"inner\")\n",
    "joint"
   ]
  },
  {
   "cell_type": "code",
   "execution_count": null,
   "id": "11567530-2fbf-42aa-9ee0-500764829951",
   "metadata": {},
   "outputs": [],
   "source": [
    "plt.figure(figsize=(20,5))\n",
    "plt.subplot(1,2,1)\n",
    "plt.plot(joint[\"K\"],joint[\"MAE_x\"],label=\"r_regression\")\n",
    "plt.plot(joint[\"K\"],joint[\"MAE_y\"],label=\"f_regression\")\n",
    "plt.plot(joint[\"K\"],joint[\"MAE\"],label=\"mutual_infomation\")\n",
    "plt.xlabel(\"Number of feature\")\n",
    "plt.ylabel(\"MAE\")\n",
    "plt.title(\"MAE evaluation\") \n",
    "plt.legend()\n",
    "plt.figure(figsize=(20,5))\n",
    "plt.subplot(1,2,2)\n",
    "plt.plot(joint[\"K\"],joint[\"r2_x\"],label=\"r_regression\")\n",
    "plt.plot(joint[\"K\"],joint[\"r2_y\"],label=\"f_regression\")\n",
    "plt.plot(joint[\"K\"],joint[\"r2\"],label=\"mutual_infomation\")\n",
    "plt.xlabel(\"Number of feature\")\n",
    "plt.ylabel(\"MAE\")\n",
    "plt.title(\"R2 evaluation\") \n",
    "plt.legend()"
   ]
  }
 ],
 "metadata": {
  "kernelspec": {
   "display_name": "Python 3 (ipykernel)",
   "language": "python",
   "name": "python3"
  },
  "language_info": {
   "codemirror_mode": {
    "name": "ipython",
    "version": 3
   },
   "file_extension": ".py",
   "mimetype": "text/x-python",
   "name": "python",
   "nbconvert_exporter": "python",
   "pygments_lexer": "ipython3",
   "version": "3.9.18"
  }
 },
 "nbformat": 4,
 "nbformat_minor": 5
}
